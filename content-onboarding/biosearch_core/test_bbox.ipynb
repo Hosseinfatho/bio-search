{
 "cells": [
  {
   "cell_type": "code",
   "execution_count": 2,
   "metadata": {},
   "outputs": [
    {
     "name": "stdout",
     "output_type": "stream",
     "text": [
      "18_11\n",
      "['/home/jtt/Documents/tests_importer/gdx/to_predict/5824188/18_11']\n",
      "18_11.jpg.txt\n",
      "/home/jtt/Documents/tests_importer/gdx/to_predict/5824188/18_11/18_11.jpg.txt\n"
     ]
    },
    {
     "data": {
      "text/plain": [
       "{'/home/jtt/Documents/tests_importer/gdx/to_predict/5824188/18_11/18_11_001.jpg': [11.0,\n",
       "  119.0,\n",
       "  71.5,\n",
       "  49.5],\n",
       " '/home/jtt/Documents/tests_importer/gdx/to_predict/5824188/18_11/18_11_002.jpg': [19.5,\n",
       "  10.5,\n",
       "  55.0,\n",
       "  24.0],\n",
       " '/home/jtt/Documents/tests_importer/gdx/to_predict/5824188/18_11/18_11_003.jpg': [19.5,\n",
       "  35.5,\n",
       "  56.5,\n",
       "  31.0],\n",
       " '/home/jtt/Documents/tests_importer/gdx/to_predict/5824188/18_11/18_11_004.jpg': [19.5,\n",
       "  67.5,\n",
       "  55.5,\n",
       "  27.5],\n",
       " '/home/jtt/Documents/tests_importer/gdx/to_predict/5824188/18_11/18_11_005.jpg': [19.5,\n",
       "  95.5,\n",
       "  63.5,\n",
       "  23.0],\n",
       " '/home/jtt/Documents/tests_importer/gdx/to_predict/5824188/18_11/18_11_006.jpg': [110.0,\n",
       "  71.5,\n",
       "  77.5,\n",
       "  36.0],\n",
       " '/home/jtt/Documents/tests_importer/gdx/to_predict/5824188/18_11/18_11_007.jpg': [118.5,\n",
       "  108.5,\n",
       "  69.0,\n",
       "  29.0],\n",
       " '/home/jtt/Documents/tests_importer/gdx/to_predict/5824188/18_11/18_11_008.jpg': [120.5,\n",
       "  10.5,\n",
       "  70.0,\n",
       "  60.0],\n",
       " '/home/jtt/Documents/tests_importer/gdx/to_predict/5824188/18_11/18_11_009.jpg': [120.5,\n",
       "  139.5,\n",
       "  75.0,\n",
       "  29.0],\n",
       " '/home/jtt/Documents/tests_importer/gdx/to_predict/5824188/18_11/18_11_010.jpg': [206.5,\n",
       "  28.0,\n",
       "  105.0,\n",
       "  140.5]}"
      ]
     },
     "execution_count": 2,
     "metadata": {},
     "output_type": "execute_result"
    }
   ],
   "source": [
    "from biosearch_core.db_importer.bbox_reader import BoundingBoxMapper\n",
    "\n",
    "bbox_reader = BoundingBoxMapper()\n",
    "\n",
    "subfig_prefix = True\n",
    "\n",
    "figure_uri = \"5824188/18_11.jpg\"\n",
    "subfig_paths = [\"/home/jtt/Documents/tests_importer/gdx/to_predict/5824188/18_11/18_11_010.jpg\"]\n",
    "\n",
    "prefix = figure_uri.split(\"/\")[1][:-4] if subfig_prefix else None\n",
    "print(prefix)\n",
    "bbox_reader.load(subfig_paths, prefix=prefix)\n",
    "bbox_reader.mapping"
   ]
  },
  {
   "cell_type": "code",
   "execution_count": 2,
   "metadata": {},
   "outputs": [
    {
     "name": "stdout",
     "output_type": "stream",
     "text": [
      "1.0e+03 *\n",
      "1000.0\n"
     ]
    }
   ],
   "source": [
    "x = \"1.0e+03 *\"\n",
    "if \"*\" in x:\n",
    "    print(x.strip())\n",
    "    print(float(x.strip().split(\" \")[0]))"
   ]
  },
  {
   "cell_type": "code",
   "execution_count": 3,
   "metadata": {},
   "outputs": [],
   "source": [
    "import pandas as pd\n",
    "\n",
    "df = pd.read_csv(\"/home/jtt/Downloads/data-1675461165652.csv\")\n"
   ]
  },
  {
   "cell_type": "code",
   "execution_count": 4,
   "metadata": {},
   "outputs": [
    {
     "data": {
      "text/plain": [
       "<Axes: ylabel='yyyy'>"
      ]
     },
     "execution_count": 4,
     "metadata": {},
     "output_type": "execute_result"
    },
    {
     "data": {
      "image/png": "[encoded data removed]",
      "text/plain": [
       "<Figure size 640x480 with 1 Axes>"
      ]
     },
     "metadata": {},
     "output_type": "display_data"
    }
   ],
   "source": [
    "df = df.loc[df.yyyy > 2000]\n",
    "df.plot.barh(x='yyyy', y='count')"
   ]
  },
  {
   "cell_type": "code",
   "execution_count": 5,
   "metadata": {},
   "outputs": [
    {
     "data": {
      "text/html": [
       "<div>\n",
       "<style scoped>\n",
       "    .dataframe tbody tr th:only-of-type {\n",
       "        vertical-align: middle;\n",
       "    }\n",
       "\n",
       "    .dataframe tbody tr th {\n",
       "        vertical-align: top;\n",
       "    }\n",
       "\n",
       "    .dataframe thead th {\n",
       "        text-align: right;\n",
       "    }\n",
       "</style>\n",
       "<table border=\"1\" class=\"dataframe\">\n",
       "  <thead>\n",
       "    <tr style=\"text-align: right;\">\n",
       "      <th></th>\n",
       "      <th>yyyy</th>\n",
       "      <th>count</th>\n",
       "    </tr>\n",
       "  </thead>\n",
       "  <tbody>\n",
       "    <tr>\n",
       "      <th>0</th>\n",
       "      <td>2022</td>\n",
       "      <td>247</td>\n",
       "    </tr>\n",
       "    <tr>\n",
       "      <th>1</th>\n",
       "      <td>2021</td>\n",
       "      <td>4905</td>\n",
       "    </tr>\n",
       "    <tr>\n",
       "      <th>2</th>\n",
       "      <td>2020</td>\n",
       "      <td>3674</td>\n",
       "    </tr>\n",
       "    <tr>\n",
       "      <th>3</th>\n",
       "      <td>2019</td>\n",
       "      <td>1514</td>\n",
       "    </tr>\n",
       "    <tr>\n",
       "      <th>4</th>\n",
       "      <td>2018</td>\n",
       "      <td>1419</td>\n",
       "    </tr>\n",
       "  </tbody>\n",
       "</table>\n",
       "</div>"
      ],
      "text/plain": [
       "   yyyy  count\n",
       "0  2022    247\n",
       "1  2021   4905\n",
       "2  2020   3674\n",
       "3  2019   1514\n",
       "4  2018   1419"
      ]
     },
     "execution_count": 5,
     "metadata": {},
     "output_type": "execute_result"
    }
   ],
   "source": [
    "df.head()"
   ]
  },
  {
   "cell_type": "code",
   "execution_count": null,
   "metadata": {},
   "outputs": [],
   "source": []
  }
 ],
 "metadata": {
  "kernelspec": {
   "display_name": ".venv",
   "language": "python",
   "name": "python3"
  },
  "language_info": {
   "codemirror_mode": {
    "name": "ipython",
    "version": 3
   },
   "file_extension": ".py",
   "mimetype": "text/x-python",
   "name": "python",
   "nbconvert_exporter": "python",
   "pygments_lexer": "ipython3",
   "version": "3.9.7"
  },
  "orig_nbformat": 4,
  "vscode": {
   "interpreter": {
    "hash": "67ab03f1fe994222664e12fe4ba3f091b198cb5337ab8b92ec3312d3f3349829"
   }
  }
 },
 "nbformat": 4,
 "nbformat_minor": 2
}
