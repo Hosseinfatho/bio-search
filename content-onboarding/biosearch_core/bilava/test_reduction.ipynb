{
 "cells": [
  {
   "cell_type": "code",
   "execution_count": 2,
   "metadata": {},
   "outputs": [],
   "source": [
    "import pandas as pd\n",
    "from biosearch_core.bilava.reduction import reduce_embeddings, reduce_tsne_gpu, reduce_umap_gpu, reduce_pca_gpu\n",
    "from numpy import vstack\n",
    "\n",
    "last_parquet = \"/media/cumulus/bilava/data/onboard/higher-modality.parquet\"\n",
    "\n",
    "original_parquet = \"/media/cumulus/curation_data/vil-al-interface/files/cord19/cord19_higher-modality_v1.parquet\"\n",
    "\n",
    "df = pd.read_parquet(original_parquet)"
   ]
  },
  {
   "cell_type": "code",
   "execution_count": 5,
   "metadata": {},
   "outputs": [
    {
     "data": {
      "text/plain": [
       "(333998, 13)"
      ]
     },
     "execution_count": 5,
     "metadata": {},
     "output_type": "execute_result"
    }
   ],
   "source": [
    "df.loc[(df.split_set=='TRAIN') | (df.split_set=='VAL') | (df.split_set=='TEST')].shape"
   ]
  },
  {
   "cell_type": "code",
   "execution_count": 4,
   "metadata": {},
   "outputs": [
    {
     "data": {
      "text/plain": [
       "(333998, 13)"
      ]
     },
     "execution_count": 4,
     "metadata": {},
     "output_type": "execute_result"
    }
   ],
   "source": [
    "labeled = df.loc[df.split_set!=\"UNL\"]\n",
    "labeled.shape"
   ]
  },
  {
   "cell_type": "code",
   "execution_count": 4,
   "metadata": {},
   "outputs": [
    {
     "name": "stdout",
     "output_type": "stream",
     "text": [
      "running tsne on gpu\n",
      "[W] [14:53:25.245713] # of Nearest Neighbors should be at least 3 * perplexity. Your results might be a bit strange...\n",
      "650000 726.6131055355072\n",
      "running tsne on gpu\n"
     ]
    },
    {
     "ename": "MemoryError",
     "evalue": "std::bad_alloc: out_of_memory: CUDA error at: /project/python/_skbuild/linux-x86_64-3.10/cmake-build/_deps/rmm-src/include/rmm/mr/device/cuda_memory_resource.hpp:70: cudaErrorMemoryAllocation out of memory",
     "output_type": "error",
     "traceback": [
      "\u001b[0;31m---------------------------------------------------------------------------\u001b[0m",
      "\u001b[0;31mMemoryError\u001b[0m                               Traceback (most recent call last)",
      "Cell \u001b[0;32mIn[4], line 7\u001b[0m\n\u001b[1;32m      5\u001b[0m df_test \u001b[39m=\u001b[39m df[:size]\n\u001b[1;32m      6\u001b[0m t \u001b[39m=\u001b[39m time()\n\u001b[0;32m----> 7\u001b[0m embeddings \u001b[39m=\u001b[39m reduce_tsne_gpu(vstack(df_test\u001b[39m.\u001b[39;49mfeatures))\n\u001b[1;32m      8\u001b[0m elapsed \u001b[39m=\u001b[39m time() \u001b[39m-\u001b[39m t\n\u001b[1;32m      9\u001b[0m \u001b[39mprint\u001b[39m(size, elapsed)\n",
      "File \u001b[0;32m~/repos/bio-search/content-onboarding/biosearch_core/bilava/reduction.py:71\u001b[0m, in \u001b[0;36mreduce_tsne_gpu\u001b[0;34m(features, random_state, perplexity)\u001b[0m\n\u001b[1;32m     64\u001b[0m \u001b[39m\u001b[39m\u001b[39m\"\"\"tsne on GPU\"\"\"\u001b[39;00m\n\u001b[1;32m     65\u001b[0m \u001b[39mprint\u001b[39m(\u001b[39m\"\u001b[39m\u001b[39mrunning tsne on gpu\u001b[39m\u001b[39m\"\u001b[39m)\n\u001b[1;32m     66\u001b[0m embeddings \u001b[39m=\u001b[39m cumlTSNE(\n\u001b[1;32m     67\u001b[0m     n_components\u001b[39m=\u001b[39;49m\u001b[39m2\u001b[39;49m,\n\u001b[1;32m     68\u001b[0m     perplexity\u001b[39m=\u001b[39;49mperplexity,\n\u001b[1;32m     69\u001b[0m     method\u001b[39m=\u001b[39;49m\u001b[39m\"\u001b[39;49m\u001b[39mbarnes_hut\u001b[39;49m\u001b[39m\"\u001b[39;49m,\n\u001b[1;32m     70\u001b[0m     random_state\u001b[39m=\u001b[39;49mrandom_state,\n\u001b[0;32m---> 71\u001b[0m )\u001b[39m.\u001b[39;49mfit_transform(features)\n\u001b[1;32m     72\u001b[0m \u001b[39mreturn\u001b[39;00m embeddings[:, \u001b[39m0\u001b[39m], embeddings[:, \u001b[39m1\u001b[39m]\n",
      "File \u001b[0;32m~/repos/bio-search/content-onboarding/.venv/lib/python3.10/site-packages/cuml/internals/api_decorators.py:190\u001b[0m, in \u001b[0;36m_make_decorator_function.<locals>.decorator_function.<locals>.decorator_closure.<locals>.wrapper\u001b[0;34m(*args, **kwargs)\u001b[0m\n\u001b[1;32m    187\u001b[0m     set_api_output_dtype(output_dtype)\n\u001b[1;32m    189\u001b[0m \u001b[39mif\u001b[39;00m process_return:\n\u001b[0;32m--> 190\u001b[0m     ret \u001b[39m=\u001b[39m func(\u001b[39m*\u001b[39;49margs, \u001b[39m*\u001b[39;49m\u001b[39m*\u001b[39;49mkwargs)\n\u001b[1;32m    191\u001b[0m \u001b[39melse\u001b[39;00m:\n\u001b[1;32m    192\u001b[0m     \u001b[39mreturn\u001b[39;00m func(\u001b[39m*\u001b[39margs, \u001b[39m*\u001b[39m\u001b[39m*\u001b[39mkwargs)\n",
      "File \u001b[0;32mt_sne.pyx:570\u001b[0m, in \u001b[0;36mcuml.manifold.t_sne.TSNE.fit_transform\u001b[0;34m()\u001b[0m\n",
      "File \u001b[0;32m~/repos/bio-search/content-onboarding/.venv/lib/python3.10/site-packages/cuml/internals/api_decorators.py:190\u001b[0m, in \u001b[0;36m_make_decorator_function.<locals>.decorator_function.<locals>.decorator_closure.<locals>.wrapper\u001b[0;34m(*args, **kwargs)\u001b[0m\n\u001b[1;32m    187\u001b[0m     set_api_output_dtype(output_dtype)\n\u001b[1;32m    189\u001b[0m \u001b[39mif\u001b[39;00m process_return:\n\u001b[0;32m--> 190\u001b[0m     ret \u001b[39m=\u001b[39m func(\u001b[39m*\u001b[39;49margs, \u001b[39m*\u001b[39;49m\u001b[39m*\u001b[39;49mkwargs)\n\u001b[1;32m    191\u001b[0m \u001b[39melse\u001b[39;00m:\n\u001b[1;32m    192\u001b[0m     \u001b[39mreturn\u001b[39;00m func(\u001b[39m*\u001b[39margs, \u001b[39m*\u001b[39m\u001b[39m*\u001b[39mkwargs)\n",
      "File \u001b[0;32mt_sne.pyx:443\u001b[0m, in \u001b[0;36mcuml.manifold.t_sne.TSNE.fit\u001b[0;34m()\u001b[0m\n",
      "File \u001b[0;32m~/repos/bio-search/content-onboarding/.venv/lib/python3.10/site-packages/nvtx/nvtx.py:101\u001b[0m, in \u001b[0;36mannotate.__call__.<locals>.inner\u001b[0;34m(*args, **kwargs)\u001b[0m\n\u001b[1;32m     98\u001b[0m \u001b[39m@wraps\u001b[39m(func)\n\u001b[1;32m     99\u001b[0m \u001b[39mdef\u001b[39;00m \u001b[39minner\u001b[39m(\u001b[39m*\u001b[39margs, \u001b[39m*\u001b[39m\u001b[39m*\u001b[39mkwargs):\n\u001b[1;32m    100\u001b[0m     libnvtx_push_range(\u001b[39mself\u001b[39m\u001b[39m.\u001b[39mattributes, \u001b[39mself\u001b[39m\u001b[39m.\u001b[39mdomain\u001b[39m.\u001b[39mhandle)\n\u001b[0;32m--> 101\u001b[0m     result \u001b[39m=\u001b[39m func(\u001b[39m*\u001b[39;49margs, \u001b[39m*\u001b[39;49m\u001b[39m*\u001b[39;49mkwargs)\n\u001b[1;32m    102\u001b[0m     libnvtx_pop_range(\u001b[39mself\u001b[39m\u001b[39m.\u001b[39mdomain\u001b[39m.\u001b[39mhandle)\n\u001b[1;32m    103\u001b[0m     \u001b[39mreturn\u001b[39;00m result\n",
      "File \u001b[0;32m~/repos/bio-search/content-onboarding/.venv/lib/python3.10/site-packages/cuml/internals/input_utils.py:366\u001b[0m, in \u001b[0;36minput_to_cuml_array\u001b[0;34m(X, order, deepcopy, check_dtype, convert_to_dtype, check_mem_type, convert_to_mem_type, safe_dtype_conversion, check_cols, check_rows, fail_on_order, force_contiguous)\u001b[0m\n\u001b[1;32m    283\u001b[0m \u001b[39m@nvtx_annotate\u001b[39m(message\u001b[39m=\u001b[39m\u001b[39m\"\u001b[39m\u001b[39mcommon.input_utils.input_to_cuml_array\u001b[39m\u001b[39m\"\u001b[39m,\n\u001b[1;32m    284\u001b[0m                category\u001b[39m=\u001b[39m\u001b[39m\"\u001b[39m\u001b[39mutils\u001b[39m\u001b[39m\"\u001b[39m, domain\u001b[39m=\u001b[39m\u001b[39m\"\u001b[39m\u001b[39mcuml_python\u001b[39m\u001b[39m\"\u001b[39m)\n\u001b[1;32m    285\u001b[0m \u001b[39mdef\u001b[39;00m \u001b[39minput_to_cuml_array\u001b[39m(X,\n\u001b[0;32m   (...)\u001b[0m\n\u001b[1;32m    295\u001b[0m                         fail_on_order\u001b[39m=\u001b[39m\u001b[39mFalse\u001b[39;00m,\n\u001b[1;32m    296\u001b[0m                         force_contiguous\u001b[39m=\u001b[39m\u001b[39mTrue\u001b[39;00m):\n\u001b[1;32m    297\u001b[0m \u001b[39m    \u001b[39m\u001b[39m\"\"\"\u001b[39;00m\n\u001b[1;32m    298\u001b[0m \u001b[39m    Convert input X to CumlArray.\u001b[39;00m\n\u001b[1;32m    299\u001b[0m \n\u001b[0;32m   (...)\u001b[0m\n\u001b[1;32m    364\u001b[0m \n\u001b[1;32m    365\u001b[0m \u001b[39m    \"\"\"\u001b[39;00m\n\u001b[0;32m--> 366\u001b[0m     arr \u001b[39m=\u001b[39m CumlArray\u001b[39m.\u001b[39;49mfrom_input(\n\u001b[1;32m    367\u001b[0m         X,\n\u001b[1;32m    368\u001b[0m         order\u001b[39m=\u001b[39;49morder,\n\u001b[1;32m    369\u001b[0m         deepcopy\u001b[39m=\u001b[39;49mdeepcopy,\n\u001b[1;32m    370\u001b[0m         check_dtype\u001b[39m=\u001b[39;49mcheck_dtype,\n\u001b[1;32m    371\u001b[0m         convert_to_dtype\u001b[39m=\u001b[39;49mconvert_to_dtype,\n\u001b[1;32m    372\u001b[0m         check_mem_type\u001b[39m=\u001b[39;49mcheck_mem_type,\n\u001b[1;32m    373\u001b[0m         convert_to_mem_type\u001b[39m=\u001b[39;49mconvert_to_mem_type,\n\u001b[1;32m    374\u001b[0m         safe_dtype_conversion\u001b[39m=\u001b[39;49msafe_dtype_conversion,\n\u001b[1;32m    375\u001b[0m         check_cols\u001b[39m=\u001b[39;49mcheck_cols,\n\u001b[1;32m    376\u001b[0m         check_rows\u001b[39m=\u001b[39;49mcheck_rows,\n\u001b[1;32m    377\u001b[0m         fail_on_order\u001b[39m=\u001b[39;49mfail_on_order,\n\u001b[1;32m    378\u001b[0m         force_contiguous\u001b[39m=\u001b[39;49mforce_contiguous\n\u001b[1;32m    379\u001b[0m     )\n\u001b[1;32m    380\u001b[0m     \u001b[39mtry\u001b[39;00m:\n\u001b[1;32m    381\u001b[0m         shape \u001b[39m=\u001b[39m arr\u001b[39m.\u001b[39m__cuda_array_interface__[\u001b[39m'\u001b[39m\u001b[39mshape\u001b[39m\u001b[39m'\u001b[39m]\n",
      "File \u001b[0;32m~/repos/bio-search/content-onboarding/.venv/lib/python3.10/site-packages/cuml/internals/memory_utils.py:85\u001b[0m, in \u001b[0;36mwith_cupy_rmm.<locals>.cupy_rmm_wrapper\u001b[0;34m(*args, **kwargs)\u001b[0m\n\u001b[1;32m     83\u001b[0m \u001b[39mif\u001b[39;00m GPU_ENABLED:\n\u001b[1;32m     84\u001b[0m     \u001b[39mwith\u001b[39;00m cupy_using_allocator(rmm_cupy_allocator):\n\u001b[0;32m---> 85\u001b[0m         \u001b[39mreturn\u001b[39;00m func(\u001b[39m*\u001b[39;49margs, \u001b[39m*\u001b[39;49m\u001b[39m*\u001b[39;49mkwargs)\n\u001b[1;32m     86\u001b[0m \u001b[39mreturn\u001b[39;00m func(\u001b[39m*\u001b[39margs, \u001b[39m*\u001b[39m\u001b[39m*\u001b[39mkwargs)\n",
      "File \u001b[0;32m~/repos/bio-search/content-onboarding/.venv/lib/python3.10/site-packages/nvtx/nvtx.py:101\u001b[0m, in \u001b[0;36mannotate.__call__.<locals>.inner\u001b[0;34m(*args, **kwargs)\u001b[0m\n\u001b[1;32m     98\u001b[0m \u001b[39m@wraps\u001b[39m(func)\n\u001b[1;32m     99\u001b[0m \u001b[39mdef\u001b[39;00m \u001b[39minner\u001b[39m(\u001b[39m*\u001b[39margs, \u001b[39m*\u001b[39m\u001b[39m*\u001b[39mkwargs):\n\u001b[1;32m    100\u001b[0m     libnvtx_push_range(\u001b[39mself\u001b[39m\u001b[39m.\u001b[39mattributes, \u001b[39mself\u001b[39m\u001b[39m.\u001b[39mdomain\u001b[39m.\u001b[39mhandle)\n\u001b[0;32m--> 101\u001b[0m     result \u001b[39m=\u001b[39m func(\u001b[39m*\u001b[39;49margs, \u001b[39m*\u001b[39;49m\u001b[39m*\u001b[39;49mkwargs)\n\u001b[1;32m    102\u001b[0m     libnvtx_pop_range(\u001b[39mself\u001b[39m\u001b[39m.\u001b[39mdomain\u001b[39m.\u001b[39mhandle)\n\u001b[1;32m    103\u001b[0m     \u001b[39mreturn\u001b[39;00m result\n",
      "File \u001b[0;32m~/repos/bio-search/content-onboarding/.venv/lib/python3.10/site-packages/cuml/internals/array.py:1119\u001b[0m, in \u001b[0;36mCumlArray.from_input\u001b[0;34m(cls, X, order, deepcopy, check_dtype, convert_to_dtype, check_mem_type, convert_to_mem_type, safe_dtype_conversion, check_cols, check_rows, fail_on_order, force_contiguous)\u001b[0m\n\u001b[1;32m   1110\u001b[0m         \u001b[39mif\u001b[39;00m (\n\u001b[1;32m   1111\u001b[0m             (X \u001b[39m<\u001b[39m target_dtype_range\u001b[39m.\u001b[39mmin) \u001b[39m|\u001b[39m\n\u001b[1;32m   1112\u001b[0m             (X \u001b[39m>\u001b[39m target_dtype_range\u001b[39m.\u001b[39mmax)\n\u001b[1;32m   1113\u001b[0m         )\u001b[39m.\u001b[39many():\n\u001b[1;32m   1114\u001b[0m             \u001b[39mraise\u001b[39;00m \u001b[39mTypeError\u001b[39;00m(\n\u001b[1;32m   1115\u001b[0m                 \u001b[39m'\u001b[39m\u001b[39mData type conversion on values outside\u001b[39m\u001b[39m'\u001b[39m\n\u001b[1;32m   1116\u001b[0m                 \u001b[39m'\u001b[39m\u001b[39m representable range of target dtype\u001b[39m\u001b[39m'\u001b[39m\n\u001b[1;32m   1117\u001b[0m             )\n\u001b[1;32m   1118\u001b[0m     arr \u001b[39m=\u001b[39m \u001b[39mcls\u001b[39m(\n\u001b[0;32m-> 1119\u001b[0m         arr\u001b[39m.\u001b[39;49mto_output(\n\u001b[1;32m   1120\u001b[0m             output_dtype\u001b[39m=\u001b[39;49mconvert_to_dtype,\n\u001b[1;32m   1121\u001b[0m             output_mem_type\u001b[39m=\u001b[39;49mconvert_to_mem_type\n\u001b[1;32m   1122\u001b[0m         ),\n\u001b[1;32m   1123\u001b[0m         order\u001b[39m=\u001b[39mrequested_order,\n\u001b[1;32m   1124\u001b[0m         index\u001b[39m=\u001b[39mindex,\n\u001b[1;32m   1125\u001b[0m         validate\u001b[39m=\u001b[39m\u001b[39mFalse\u001b[39;00m\n\u001b[1;32m   1126\u001b[0m     )\n\u001b[1;32m   1128\u001b[0m make_copy \u001b[39m=\u001b[39m force_contiguous \u001b[39mand\u001b[39;00m \u001b[39mnot\u001b[39;00m arr\u001b[39m.\u001b[39mis_contiguous\n\u001b[1;32m   1130\u001b[0m \u001b[39mif\u001b[39;00m (\n\u001b[1;32m   1131\u001b[0m     \u001b[39mnot\u001b[39;00m fail_on_order \u001b[39mand\u001b[39;00m order \u001b[39m!=\u001b[39m arr\u001b[39m.\u001b[39morder \u001b[39mand\u001b[39;00m order \u001b[39m!=\u001b[39m \u001b[39m'\u001b[39m\u001b[39mK\u001b[39m\u001b[39m'\u001b[39m\n\u001b[1;32m   1132\u001b[0m ) \u001b[39mor\u001b[39;00m make_copy:\n",
      "File \u001b[0;32m~/repos/bio-search/content-onboarding/.venv/lib/python3.10/site-packages/cuml/internals/memory_utils.py:85\u001b[0m, in \u001b[0;36mwith_cupy_rmm.<locals>.cupy_rmm_wrapper\u001b[0;34m(*args, **kwargs)\u001b[0m\n\u001b[1;32m     83\u001b[0m \u001b[39mif\u001b[39;00m GPU_ENABLED:\n\u001b[1;32m     84\u001b[0m     \u001b[39mwith\u001b[39;00m cupy_using_allocator(rmm_cupy_allocator):\n\u001b[0;32m---> 85\u001b[0m         \u001b[39mreturn\u001b[39;00m func(\u001b[39m*\u001b[39;49margs, \u001b[39m*\u001b[39;49m\u001b[39m*\u001b[39;49mkwargs)\n\u001b[1;32m     86\u001b[0m \u001b[39mreturn\u001b[39;00m func(\u001b[39m*\u001b[39margs, \u001b[39m*\u001b[39m\u001b[39m*\u001b[39mkwargs)\n",
      "File \u001b[0;32m~/repos/bio-search/content-onboarding/.venv/lib/python3.10/site-packages/nvtx/nvtx.py:101\u001b[0m, in \u001b[0;36mannotate.__call__.<locals>.inner\u001b[0;34m(*args, **kwargs)\u001b[0m\n\u001b[1;32m     98\u001b[0m \u001b[39m@wraps\u001b[39m(func)\n\u001b[1;32m     99\u001b[0m \u001b[39mdef\u001b[39;00m \u001b[39minner\u001b[39m(\u001b[39m*\u001b[39margs, \u001b[39m*\u001b[39m\u001b[39m*\u001b[39mkwargs):\n\u001b[1;32m    100\u001b[0m     libnvtx_push_range(\u001b[39mself\u001b[39m\u001b[39m.\u001b[39mattributes, \u001b[39mself\u001b[39m\u001b[39m.\u001b[39mdomain\u001b[39m.\u001b[39mhandle)\n\u001b[0;32m--> 101\u001b[0m     result \u001b[39m=\u001b[39m func(\u001b[39m*\u001b[39;49margs, \u001b[39m*\u001b[39;49m\u001b[39m*\u001b[39;49mkwargs)\n\u001b[1;32m    102\u001b[0m     libnvtx_pop_range(\u001b[39mself\u001b[39m\u001b[39m.\u001b[39mdomain\u001b[39m.\u001b[39mhandle)\n\u001b[1;32m    103\u001b[0m     \u001b[39mreturn\u001b[39;00m result\n",
      "File \u001b[0;32m~/repos/bio-search/content-onboarding/.venv/lib/python3.10/site-packages/cuml/internals/array.py:630\u001b[0m, in \u001b[0;36mCumlArray.to_output\u001b[0;34m(self, output_type, output_dtype, output_mem_type)\u001b[0m\n\u001b[1;32m    623\u001b[0m             \u001b[39mreturn\u001b[39;00m np\u001b[39m.\u001b[39masarray(\n\u001b[1;32m    624\u001b[0m                 \u001b[39mself\u001b[39m, dtype\u001b[39m=\u001b[39moutput_dtype, order\u001b[39m=\u001b[39m\u001b[39mself\u001b[39m\u001b[39m.\u001b[39morder\n\u001b[1;32m    625\u001b[0m             )\n\u001b[1;32m    626\u001b[0m         \u001b[39mreturn\u001b[39;00m cp\u001b[39m.\u001b[39masnumpy(\n\u001b[1;32m    627\u001b[0m             cp\u001b[39m.\u001b[39masarray(\u001b[39mself\u001b[39m, dtype\u001b[39m=\u001b[39moutput_dtype, order\u001b[39m=\u001b[39m\u001b[39mself\u001b[39m\u001b[39m.\u001b[39morder),\n\u001b[1;32m    628\u001b[0m             order\u001b[39m=\u001b[39m\u001b[39mself\u001b[39m\u001b[39m.\u001b[39morder\n\u001b[1;32m    629\u001b[0m         )\n\u001b[0;32m--> 630\u001b[0m     \u001b[39mreturn\u001b[39;00m output_mem_type\u001b[39m.\u001b[39;49mxpy\u001b[39m.\u001b[39;49masarray(\n\u001b[1;32m    631\u001b[0m         \u001b[39mself\u001b[39;49m, dtype\u001b[39m=\u001b[39;49moutput_dtype, order\u001b[39m=\u001b[39;49m\u001b[39mself\u001b[39;49m\u001b[39m.\u001b[39;49morder\n\u001b[1;32m    632\u001b[0m     )\n\u001b[1;32m    634\u001b[0m \u001b[39melif\u001b[39;00m output_type \u001b[39m==\u001b[39m \u001b[39m'\u001b[39m\u001b[39mnumba\u001b[39m\u001b[39m'\u001b[39m:\n\u001b[1;32m    635\u001b[0m     \u001b[39mreturn\u001b[39;00m cuda\u001b[39m.\u001b[39mas_cuda_array(cp\u001b[39m.\u001b[39masarray(\n\u001b[1;32m    636\u001b[0m         \u001b[39mself\u001b[39m, dtype\u001b[39m=\u001b[39moutput_dtype, order\u001b[39m=\u001b[39m\u001b[39mself\u001b[39m\u001b[39m.\u001b[39morder)\n\u001b[1;32m    637\u001b[0m     )\n",
      "File \u001b[0;32m~/repos/bio-search/content-onboarding/.venv/lib/python3.10/site-packages/cupy/_creation/from_data.py:76\u001b[0m, in \u001b[0;36masarray\u001b[0;34m(a, dtype, order)\u001b[0m\n\u001b[1;32m     49\u001b[0m \u001b[39mdef\u001b[39;00m \u001b[39masarray\u001b[39m(a, dtype\u001b[39m=\u001b[39m\u001b[39mNone\u001b[39;00m, order\u001b[39m=\u001b[39m\u001b[39mNone\u001b[39;00m):\n\u001b[1;32m     50\u001b[0m \u001b[39m    \u001b[39m\u001b[39m\"\"\"Converts an object to array.\u001b[39;00m\n\u001b[1;32m     51\u001b[0m \n\u001b[1;32m     52\u001b[0m \u001b[39m    This is equivalent to ``array(a, dtype, copy=False)``.\u001b[39;00m\n\u001b[0;32m   (...)\u001b[0m\n\u001b[1;32m     74\u001b[0m \n\u001b[1;32m     75\u001b[0m \u001b[39m    \"\"\"\u001b[39;00m\n\u001b[0;32m---> 76\u001b[0m     \u001b[39mreturn\u001b[39;00m _core\u001b[39m.\u001b[39;49marray(a, dtype, \u001b[39mFalse\u001b[39;49;00m, order)\n",
      "File \u001b[0;32mcupy/_core/core.pyx:2360\u001b[0m, in \u001b[0;36mcupy._core.core.array\u001b[0;34m()\u001b[0m\n",
      "File \u001b[0;32mcupy/_core/core.pyx:2384\u001b[0m, in \u001b[0;36mcupy._core.core.array\u001b[0;34m()\u001b[0m\n",
      "File \u001b[0;32mcupy/_core/core.pyx:2516\u001b[0m, in \u001b[0;36mcupy._core.core._array_default\u001b[0;34m()\u001b[0m\n",
      "File \u001b[0;32mcupy/_core/core.pyx:136\u001b[0m, in \u001b[0;36mcupy._core.core.ndarray.__new__\u001b[0;34m()\u001b[0m\n",
      "File \u001b[0;32mcupy/_core/core.pyx:224\u001b[0m, in \u001b[0;36mcupy._core.core._ndarray_base._init\u001b[0;34m()\u001b[0m\n",
      "File \u001b[0;32mcupy/cuda/memory.pyx:742\u001b[0m, in \u001b[0;36mcupy.cuda.memory.alloc\u001b[0;34m()\u001b[0m\n",
      "File \u001b[0;32m~/repos/bio-search/content-onboarding/.venv/lib/python3.10/site-packages/rmm/rmm.py:230\u001b[0m, in \u001b[0;36mrmm_cupy_allocator\u001b[0;34m(nbytes)\u001b[0m\n\u001b[1;32m    227\u001b[0m     \u001b[39mraise\u001b[39;00m \u001b[39mModuleNotFoundError\u001b[39;00m(\u001b[39m\"\u001b[39m\u001b[39mNo module named \u001b[39m\u001b[39m'\u001b[39m\u001b[39mcupy\u001b[39m\u001b[39m'\u001b[39m\u001b[39m\"\u001b[39m)\n\u001b[1;32m    229\u001b[0m stream \u001b[39m=\u001b[39m Stream(obj\u001b[39m=\u001b[39mcupy\u001b[39m.\u001b[39mcuda\u001b[39m.\u001b[39mget_current_stream())\n\u001b[0;32m--> 230\u001b[0m buf \u001b[39m=\u001b[39m librmm\u001b[39m.\u001b[39;49mdevice_buffer\u001b[39m.\u001b[39;49mDeviceBuffer(size\u001b[39m=\u001b[39;49mnbytes, stream\u001b[39m=\u001b[39;49mstream)\n\u001b[1;32m    231\u001b[0m dev_id \u001b[39m=\u001b[39m \u001b[39m-\u001b[39m\u001b[39m1\u001b[39m \u001b[39mif\u001b[39;00m buf\u001b[39m.\u001b[39mptr \u001b[39melse\u001b[39;00m cupy\u001b[39m.\u001b[39mcuda\u001b[39m.\u001b[39mdevice\u001b[39m.\u001b[39mget_device_id()\n\u001b[1;32m    232\u001b[0m mem \u001b[39m=\u001b[39m cupy\u001b[39m.\u001b[39mcuda\u001b[39m.\u001b[39mUnownedMemory(\n\u001b[1;32m    233\u001b[0m     ptr\u001b[39m=\u001b[39mbuf\u001b[39m.\u001b[39mptr, size\u001b[39m=\u001b[39mbuf\u001b[39m.\u001b[39msize, owner\u001b[39m=\u001b[39mbuf, device_id\u001b[39m=\u001b[39mdev_id\n\u001b[1;32m    234\u001b[0m )\n",
      "File \u001b[0;32mdevice_buffer.pyx:85\u001b[0m, in \u001b[0;36mrmm._lib.device_buffer.DeviceBuffer.__cinit__\u001b[0;34m()\u001b[0m\n",
      "\u001b[0;31mMemoryError\u001b[0m: std::bad_alloc: out_of_memory: CUDA error at: /project/python/_skbuild/linux-x86_64-3.10/cmake-build/_deps/rmm-src/include/rmm/mr/device/cuda_memory_resource.hpp:70: cudaErrorMemoryAllocation out of memory"
     ]
    }
   ],
   "source": [
    "from time import time\n",
    "\n",
    "size = 650000\n",
    "while size <= 850000:\n",
    "  df_test = df[:size]\n",
    "  t = time()\n",
    "  embeddings = reduce_tsne_gpu(vstack(df_test.features))\n",
    "  elapsed = time() - t\n",
    "  print(size, elapsed)\n",
    "  size += 50000\n",
    "  del df_test\n"
   ]
  },
  {
   "cell_type": "code",
   "execution_count": null,
   "metadata": {},
   "outputs": [
    {
     "name": "stdout",
     "output_type": "stream",
     "text": [
      "running tsne on gpu\n",
      "[W] [11:37:36.148534] # of Nearest Neighbors should be at least 3 * perplexity. Your results might be a bit strange...\n"
     ]
    }
   ],
   "source": [
    "# embeddings = reduce_tsne_gpu(vstack(df_test.features))"
   ]
  },
  {
   "cell_type": "code",
   "execution_count": null,
   "metadata": {},
   "outputs": [
    {
     "data": {
      "text/plain": [
       "(512,)"
      ]
     },
     "execution_count": 6,
     "metadata": {},
     "output_type": "execute_result"
    }
   ],
   "source": [
    "df_test.iloc[0].features.shape"
   ]
  },
  {
   "cell_type": "code",
   "execution_count": null,
   "metadata": {},
   "outputs": [],
   "source": []
  }
 ],
 "metadata": {
  "kernelspec": {
   "display_name": ".venv",
   "language": "python",
   "name": "python3"
  },
  "language_info": {
   "codemirror_mode": {
    "name": "ipython",
    "version": 3
   },
   "file_extension": ".py",
   "mimetype": "text/x-python",
   "name": "python",
   "nbconvert_exporter": "python",
   "pygments_lexer": "ipython3",
   "version": "3.10.9"
  },
  "orig_nbformat": 4,
  "vscode": {
   "interpreter": {
    "hash": "67ab03f1fe994222664e12fe4ba3f091b198cb5337ab8b92ec3312d3f3349829"
   }
  }
 },
 "nbformat": 4,
 "nbformat_minor": 2
}
