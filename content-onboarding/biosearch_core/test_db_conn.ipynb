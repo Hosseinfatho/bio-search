{
 "cells": [
  {
   "cell_type": "code",
   "execution_count": 3,
   "metadata": {},
   "outputs": [],
   "source": [
    "from biosearch_core.db_importer.importer import ImportManager\n",
    "from biosearch_core.db_importer.loaders import Cord19Loader\n",
    "from biosearch_core.db.model import params_from_env\n",
    "\n",
    "env_file = \"./.env_cord19\"\n",
    "project_dir = \"/home/jtt/Documents/tests_importer\"\n",
    "metadata_path = '/home/jtt/Documents/datasets/cord19/2022-02-07/metadata.csv'\n",
    "\n",
    "params = params_from_env(env_file)\n",
    "manager = ImportManager(project_dir, 'cord19', params)"
   ]
  },
  {
   "cell_type": "code",
   "execution_count": 4,
   "metadata": {},
   "outputs": [],
   "source": [
    "manager.create_tables()"
   ]
  },
  {
   "cell_type": "code",
   "execution_count": 3,
   "metadata": {},
   "outputs": [],
   "source": [
    "# from content_onboarding.db.model import FigureType\n",
    "\n",
    "# x = FigureType.SUBFIGURE\n",
    "# x.value"
   ]
  },
  {
   "cell_type": "code",
   "execution_count": 4,
   "metadata": {},
   "outputs": [
    {
     "name": "stdout",
     "output_type": "stream",
     "text": [
      "checking paths\n",
      "loading documents\n",
      "inserting documents\n",
      "inserting figures\n",
      "inserting subfigures\n"
     ]
    }
   ],
   "source": [
    "# loader = Cord19Loader()\n",
    "# manager.import_content(metadata_path, loader)"
   ]
  },
  {
   "cell_type": "code",
   "execution_count": null,
   "metadata": {},
   "outputs": [],
   "source": []
  }
 ],
 "metadata": {
  "kernelspec": {
   "display_name": ".venv",
   "language": "python",
   "name": "python3"
  },
  "language_info": {
   "codemirror_mode": {
    "name": "ipython",
    "version": 3
   },
   "file_extension": ".py",
   "mimetype": "text/x-python",
   "name": "python",
   "nbconvert_exporter": "python",
   "pygments_lexer": "ipython3",
   "version": "3.9.7"
  },
  "orig_nbformat": 4,
  "vscode": {
   "interpreter": {
    "hash": "67ab03f1fe994222664e12fe4ba3f091b198cb5337ab8b92ec3312d3f3349829"
   }
  }
 },
 "nbformat": 4,
 "nbformat_minor": 2
}
