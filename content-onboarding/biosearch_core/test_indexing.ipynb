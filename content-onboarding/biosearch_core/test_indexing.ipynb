{
 "cells": [
  {
   "cell_type": "code",
   "execution_count": 1,
   "metadata": {},
   "outputs": [],
   "source": [
    "import pandas as pd\n",
    "\n",
    "file = './test.parquet'\n",
    "df = pd.read_parquet(file)"
   ]
  },
  {
   "cell_type": "code",
   "execution_count": 2,
   "metadata": {},
   "outputs": [],
   "source": [
    "for _, row in df.iterrows():\n",
    "  x = row[\"captions\"]\n",
    "  break"
   ]
  },
  {
   "cell_type": "code",
   "execution_count": 6,
   "metadata": {},
   "outputs": [
    {
     "name": "stdout",
     "output_type": "stream",
     "text": [
      "Fig. 1. Rise of vaccinology by Hilleman [1]. H. influenzae, Haemophilus influenzae.\n",
      "Fig. 2. Current pathway of vaccine development. BLA, Biologic License Application; IND, investigational new drug; M USD, million United States dollars.\n",
      "Fig. 3. Target population for vaccines in the 21st century by Rappuoli et al. [25]. (A) The most important vaccines for each age group are re- ported. (B) Special target groups for vaccination in the 21st century. The most important vaccines for each target group are reported. The lists of vaccines reported are indicative and are not intended to be exhaustive. C. difficile, Clostridium difficile; E. coli, Escherichia coli; EV71, entero- virus 71; H. influenzae, Haemophilus influenzae; K. pneumoniae, Klebsiella pneumoniae; P. aeruginosa, Pseudomonas aeruginosa; S. aureus, Staphylococcus aureus; AIDS, acquired immune deficiency syndrome; SARS, severe acute respiratory syndrome.\n"
     ]
    }
   ],
   "source": [
    "for cap in x:\n",
    "  print(cap[\"text\"])"
   ]
  },
  {
   "cell_type": "code",
   "execution_count": null,
   "metadata": {},
   "outputs": [],
   "source": []
  }
 ],
 "metadata": {
  "kernelspec": {
   "display_name": ".venv",
   "language": "python",
   "name": "python3"
  },
  "language_info": {
   "codemirror_mode": {
    "name": "ipython",
    "version": 3
   },
   "file_extension": ".py",
   "mimetype": "text/x-python",
   "name": "python",
   "nbconvert_exporter": "python",
   "pygments_lexer": "ipython3",
   "version": "3.9.7"
  },
  "orig_nbformat": 4,
  "vscode": {
   "interpreter": {
    "hash": "67ab03f1fe994222664e12fe4ba3f091b198cb5337ab8b92ec3312d3f3349829"
   }
  }
 },
 "nbformat": 4,
 "nbformat_minor": 2
}
