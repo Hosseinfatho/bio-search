{
 "cells": [
  {
   "cell_type": "code",
   "execution_count": 1,
   "metadata": {},
   "outputs": [
    {
     "data": {
      "text/plain": [
       "['cord19_electron_v1.parquet',\n",
       " 'cord19_experimental_v1.parquet',\n",
       " 'cord19_gel_v1.parquet',\n",
       " 'cord19_graphics_v1.parquet',\n",
       " 'cord19_higher-modality_v1.parquet',\n",
       " 'cord19_microscopy_v1.parquet',\n",
       " 'cord19_molecular_v1.parquet',\n",
       " 'cord19_radiology_v1.parquet']"
      ]
     },
     "execution_count": 1,
     "metadata": {},
     "output_type": "execute_result"
    }
   ],
   "source": [
    "import pandas as pd\n",
    "from pathlib import Path\n",
    "from os import listdir\n",
    "\n",
    "artifacts_folder = Path(\"/media/cumulus/curation_data/modality_classifiers/data/cord19\")\n",
    "listdir(artifacts_folder)"
   ]
  },
  {
   "attachments": {},
   "cell_type": "markdown",
   "metadata": {},
   "source": [
    "## Extract every document name from higher-modality"
   ]
  },
  {
   "cell_type": "code",
   "execution_count": 2,
   "metadata": {},
   "outputs": [],
   "source": [
    "higher_df = pd.read_parquet(artifacts_folder / \"cord19_higher-modality_v1.parquet\")"
   ]
  },
  {
   "cell_type": "code",
   "execution_count": 4,
   "metadata": {},
   "outputs": [],
   "source": [
    "cord19_df = higher_df.loc[higher_df.source == \"cord19\"]"
   ]
  },
  {
   "cell_type": "code",
   "execution_count": 8,
   "metadata": {},
   "outputs": [
    {
     "data": {
      "text/html": [
       "<div>\n",
       "<style scoped>\n",
       "    .dataframe tbody tr th:only-of-type {\n",
       "        vertical-align: middle;\n",
       "    }\n",
       "\n",
       "    .dataframe tbody tr th {\n",
       "        vertical-align: top;\n",
       "    }\n",
       "\n",
       "    .dataframe thead th {\n",
       "        text-align: right;\n",
       "    }\n",
       "</style>\n",
       "<table border=\"1\" class=\"dataframe\">\n",
       "  <thead>\n",
       "    <tr style=\"text-align: right;\">\n",
       "      <th></th>\n",
       "      <th>img_path</th>\n",
       "    </tr>\n",
       "  </thead>\n",
       "  <tbody>\n",
       "    <tr>\n",
       "      <th>246518</th>\n",
       "      <td>cord19-uic/PMC1087510/1743-422X-2-35/4_1/001.jpg</td>\n",
       "    </tr>\n",
       "    <tr>\n",
       "      <th>246519</th>\n",
       "      <td>cord19-uic/PMC1087510/1743-422X-2-35/4_1/002.jpg</td>\n",
       "    </tr>\n",
       "    <tr>\n",
       "      <th>246520</th>\n",
       "      <td>cord19-uic/PMC1087510/1743-422X-2-35/4_1.jpg</td>\n",
       "    </tr>\n",
       "    <tr>\n",
       "      <th>246521</th>\n",
       "      <td>cord19-uic/PMC1140948/pmed.0020137/4_1/001.jpg</td>\n",
       "    </tr>\n",
       "    <tr>\n",
       "      <th>246522</th>\n",
       "      <td>cord19-uic/PMC1140948/pmed.0020137/4_1.jpg</td>\n",
       "    </tr>\n",
       "  </tbody>\n",
       "</table>\n",
       "</div>"
      ],
      "text/plain": [
       "                                                img_path\n",
       "246518  cord19-uic/PMC1087510/1743-422X-2-35/4_1/001.jpg\n",
       "246519  cord19-uic/PMC1087510/1743-422X-2-35/4_1/002.jpg\n",
       "246520      cord19-uic/PMC1087510/1743-422X-2-35/4_1.jpg\n",
       "246521    cord19-uic/PMC1140948/pmed.0020137/4_1/001.jpg\n",
       "246522        cord19-uic/PMC1140948/pmed.0020137/4_1.jpg"
      ]
     },
     "execution_count": 8,
     "metadata": {},
     "output_type": "execute_result"
    }
   ],
   "source": [
    "df_documents = cord19_df[[\"img_path\"]]\n",
    "df_documents.head()"
   ]
  },
  {
   "cell_type": "code",
   "execution_count": 11,
   "metadata": {},
   "outputs": [
    {
     "name": "stderr",
     "output_type": "stream",
     "text": [
      "/tmp/ipykernel_1807203/1498212428.py:1: SettingWithCopyWarning: \n",
      "A value is trying to be set on a copy of a slice from a DataFrame.\n",
      "Try using .loc[row_indexer,col_indexer] = value instead\n",
      "\n",
      "See the caveats in the documentation: https://pandas.pydata.org/pandas-docs/stable/user_guide/indexing.html#returning-a-view-versus-a-copy\n",
      "  df_documents[\"pmcid\"] = df_documents.apply(lambda x: x.img_path.split(\"/\")[1], axis=1)\n"
     ]
    }
   ],
   "source": [
    "df_documents[\"pmcid\"] = df_documents.apply(lambda x: x.img_path.split(\"/\")[1], axis=1)"
   ]
  },
  {
   "cell_type": "code",
   "execution_count": 12,
   "metadata": {},
   "outputs": [
    {
     "data": {
      "text/html": [
       "<div>\n",
       "<style scoped>\n",
       "    .dataframe tbody tr th:only-of-type {\n",
       "        vertical-align: middle;\n",
       "    }\n",
       "\n",
       "    .dataframe tbody tr th {\n",
       "        vertical-align: top;\n",
       "    }\n",
       "\n",
       "    .dataframe thead th {\n",
       "        text-align: right;\n",
       "    }\n",
       "</style>\n",
       "<table border=\"1\" class=\"dataframe\">\n",
       "  <thead>\n",
       "    <tr style=\"text-align: right;\">\n",
       "      <th></th>\n",
       "      <th>img_path</th>\n",
       "      <th>pmcid</th>\n",
       "    </tr>\n",
       "  </thead>\n",
       "  <tbody>\n",
       "    <tr>\n",
       "      <th>246518</th>\n",
       "      <td>cord19-uic/PMC1087510/1743-422X-2-35/4_1/001.jpg</td>\n",
       "      <td>PMC1087510</td>\n",
       "    </tr>\n",
       "    <tr>\n",
       "      <th>246519</th>\n",
       "      <td>cord19-uic/PMC1087510/1743-422X-2-35/4_1/002.jpg</td>\n",
       "      <td>PMC1087510</td>\n",
       "    </tr>\n",
       "    <tr>\n",
       "      <th>246520</th>\n",
       "      <td>cord19-uic/PMC1087510/1743-422X-2-35/4_1.jpg</td>\n",
       "      <td>PMC1087510</td>\n",
       "    </tr>\n",
       "    <tr>\n",
       "      <th>246521</th>\n",
       "      <td>cord19-uic/PMC1140948/pmed.0020137/4_1/001.jpg</td>\n",
       "      <td>PMC1140948</td>\n",
       "    </tr>\n",
       "    <tr>\n",
       "      <th>246522</th>\n",
       "      <td>cord19-uic/PMC1140948/pmed.0020137/4_1.jpg</td>\n",
       "      <td>PMC1140948</td>\n",
       "    </tr>\n",
       "  </tbody>\n",
       "</table>\n",
       "</div>"
      ],
      "text/plain": [
       "                                                img_path       pmcid\n",
       "246518  cord19-uic/PMC1087510/1743-422X-2-35/4_1/001.jpg  PMC1087510\n",
       "246519  cord19-uic/PMC1087510/1743-422X-2-35/4_1/002.jpg  PMC1087510\n",
       "246520      cord19-uic/PMC1087510/1743-422X-2-35/4_1.jpg  PMC1087510\n",
       "246521    cord19-uic/PMC1140948/pmed.0020137/4_1/001.jpg  PMC1140948\n",
       "246522        cord19-uic/PMC1140948/pmed.0020137/4_1.jpg  PMC1140948"
      ]
     },
     "execution_count": 12,
     "metadata": {},
     "output_type": "execute_result"
    }
   ],
   "source": [
    "df_documents.head()"
   ]
  },
  {
   "cell_type": "code",
   "execution_count": 13,
   "metadata": {},
   "outputs": [],
   "source": [
    "pmcids = df_documents.pmcid.unique()"
   ]
  },
  {
   "cell_type": "code",
   "execution_count": 14,
   "metadata": {},
   "outputs": [
    {
     "data": {
      "text/plain": [
       "12708"
      ]
     },
     "execution_count": 14,
     "metadata": {},
     "output_type": "execute_result"
    }
   ],
   "source": [
    "len(pmcids)"
   ]
  },
  {
   "cell_type": "code",
   "execution_count": 15,
   "metadata": {},
   "outputs": [
    {
     "data": {
      "text/plain": [
       "16533"
      ]
     },
     "execution_count": 15,
     "metadata": {},
     "output_type": "execute_result"
    }
   ],
   "source": [
    "cord_uic_folders = listdir(\"/media/cumulus/curation_data/cord19-uic\")\n",
    "len(cord_uic_folders)"
   ]
  },
  {
   "cell_type": "code",
   "execution_count": 16,
   "metadata": {},
   "outputs": [
    {
     "data": {
      "text/plain": [
       "47966"
      ]
     },
     "execution_count": 16,
     "metadata": {},
     "output_type": "execute_result"
    }
   ],
   "source": [
    "kasra_folders = listdir(\"/home/jtt/Documents/outputs/output_cord19_kasra/data\")\n",
    "len(kasra_folders)"
   ]
  },
  {
   "cell_type": "code",
   "execution_count": 18,
   "metadata": {},
   "outputs": [
    {
     "data": {
      "text/plain": [
       "587"
      ]
     },
     "execution_count": 18,
     "metadata": {},
     "output_type": "execute_result"
    }
   ],
   "source": [
    "len(set(pmcids).intersection(set(kasra_folders)))"
   ]
  },
  {
   "cell_type": "code",
   "execution_count": null,
   "metadata": {},
   "outputs": [],
   "source": []
  }
 ],
 "metadata": {
  "kernelspec": {
   "display_name": ".venv",
   "language": "python",
   "name": "python3"
  },
  "language_info": {
   "codemirror_mode": {
    "name": "ipython",
    "version": 3
   },
   "file_extension": ".py",
   "mimetype": "text/x-python",
   "name": "python",
   "nbconvert_exporter": "python",
   "pygments_lexer": "ipython3",
   "version": "3.9.7"
  },
  "orig_nbformat": 4,
  "vscode": {
   "interpreter": {
    "hash": "67ab03f1fe994222664e12fe4ba3f091b198cb5337ab8b92ec3312d3f3349829"
   }
  }
 },
 "nbformat": 4,
 "nbformat_minor": 2
}
