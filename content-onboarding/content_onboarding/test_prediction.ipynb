{
 "cells": [
  {
   "cell_type": "code",
   "execution_count": 1,
   "metadata": {},
   "outputs": [
    {
     "name": "stderr",
     "output_type": "stream",
     "text": [
      "/home/jtt/repos/bio-search/content-onboarding/.venv/lib/python3.9/site-packages/tqdm/auto.py:22: TqdmWarning: IProgress not found. Please update jupyter and ipywidgets. See https://ipywidgets.readthedocs.io/en/stable/user_install.html\n",
      "  from .autonotebook import tqdm as notebook_tqdm\n"
     ]
    }
   ],
   "source": [
    "from content_onboarding.db.select import select_subfigures_for_prediction\n",
    "from content_onboarding.db.model import connect, params_from_env\n",
    "from content_onboarding.managers.predict_manager import PredictManager\n",
    "from pathlib import Path\n",
    "\n",
    "env_file = \"./.env\"\n",
    "\n",
    "artifacts = Path(\"/media/cumulus/curation_data/modality_classifiers/models/cord19/\")\n",
    "data_path = Path(\"/media/cumulus/curation_data/modality_classifiers/data/cord19\")\n",
    "\n",
    "classifiers = {\n",
    "    \"classifier\": \"higher-modality\",\n",
    "    \"classname\": \"\",\n",
    "    \"path\": artifacts / \"higher-modality/resnet18_higher-modality_1.pt\",\n",
    "    \"children\": [\n",
    "        {\n",
    "            \"classifier\": \"experimental\",\n",
    "            \"classname\": \"exp\",\n",
    "            \"path\": artifacts / \"experimental/resnet18_experimental_2.pt\",\n",
    "            \"children\": [],\n",
    "        },\n",
    "        {\n",
    "            \"classifier\": \"graphics\",\n",
    "            \"classname\": \"gra\",\n",
    "            \"path\": artifacts / \"graphics/resnet18_graphics_1.pt\",\n",
    "            \"children\": [],\n",
    "        },\n",
    "        {\n",
    "            \"classifier\": \"microscopy\",\n",
    "            \"classname\": \"mic\",\n",
    "            \"path\": artifacts / \"microscopy/resnet18_microscopy_2.pt\",\n",
    "            \"children\": [\n",
    "                # {\n",
    "                #     \"classifier\": \"electron\",\n",
    "                #     \"classname\": \"mic.ele\",\n",
    "                #     \"path\": artifacts / \"microscopy/electron_1.pt\",\n",
    "                #     \"classes\": [\"mic.ele.sca\", \"mic.ele.tra\"],\n",
    "                #     \"children\": [],\n",
    "                # },\n",
    "            ],\n",
    "        },\n",
    "        {\n",
    "            \"classifier\": \"molecular\",\n",
    "            \"classname\": \"mol\",\n",
    "            \"path\": artifacts / \"molecular\" / \"resnet18_molecular_1.pt\",\n",
    "            \"children\": [],\n",
    "        },\n",
    "        {\n",
    "            \"classifier\": \"radiology\",\n",
    "            \"classname\": \"rad\",\n",
    "            \"path\": artifacts / \"radiology\" / \"resnet18_radiology_1.pt\",\n",
    "            \"children\": [],\n",
    "        },\n",
    "    ],\n",
    "}\n",
    "\n",
    "\n",
    "\n",
    "\n",
    "params = params_from_env(env_file)\n",
    "project_dir = \"/home/jtt/Documents/tests_importer/cord19/\"\n",
    "\n",
    "manager = PredictManager(project_dir, params, classifiers)\n"
   ]
  },
  {
   "cell_type": "code",
   "execution_count": 2,
   "metadata": {},
   "outputs": [],
   "source": [
    "df = manager.predict()"
   ]
  },
  {
   "cell_type": "code",
   "execution_count": null,
   "metadata": {},
   "outputs": [],
   "source": []
  }
 ],
 "metadata": {
  "kernelspec": {
   "display_name": ".venv",
   "language": "python",
   "name": "python3"
  },
  "language_info": {
   "codemirror_mode": {
    "name": "ipython",
    "version": 3
   },
   "file_extension": ".py",
   "mimetype": "text/x-python",
   "name": "python",
   "nbconvert_exporter": "python",
   "pygments_lexer": "ipython3",
   "version": "3.9.7"
  },
  "orig_nbformat": 4,
  "vscode": {
   "interpreter": {
    "hash": "67ab03f1fe994222664e12fe4ba3f091b198cb5337ab8b92ec3312d3f3349829"
   }
  }
 },
 "nbformat": 4,
 "nbformat_minor": 2
}
