{
 "cells": [
  {
   "cell_type": "code",
   "execution_count": 1,
   "metadata": {},
   "outputs": [],
   "source": [
    "from content_onboarding.managers.import_manager import ImportManager, Cord19Loader\n",
    "\n",
    "env_file = \"./.env\"\n",
    "project_dir = \"/home/jtt/Documents/tests_importer\"\n",
    "metadata_path = '/home/jtt/Documents/datasets/cord19/2022-02-07/metadata.csv'\n",
    "\n",
    "manager = ImportManager(project_dir, 'cord19', env_file)"
   ]
  },
  {
   "cell_type": "code",
   "execution_count": 2,
   "metadata": {},
   "outputs": [],
   "source": [
    "# manager.create_tables()"
   ]
  },
  {
   "cell_type": "code",
   "execution_count": 3,
   "metadata": {},
   "outputs": [],
   "source": [
    "# from content_onboarding.db.model import FigureType\n",
    "\n",
    "# x = FigureType.SUBFIGURE\n",
    "# x.value"
   ]
  },
  {
   "cell_type": "code",
   "execution_count": 4,
   "metadata": {},
   "outputs": [
    {
     "name": "stdout",
     "output_type": "stream",
     "text": [
      "checking paths\n",
      "loading documents\n",
      "inserting documents\n",
      "inserting figures\n",
      "inserting subfigures\n"
     ]
    }
   ],
   "source": [
    "loader = Cord19Loader()\n",
    "manager.import_content(metadata_path, loader)"
   ]
  }
 ],
 "metadata": {
  "kernelspec": {
   "display_name": ".venv",
   "language": "python",
   "name": "python3"
  },
  "language_info": {
   "codemirror_mode": {
    "name": "ipython",
    "version": 3
   },
   "file_extension": ".py",
   "mimetype": "text/x-python",
   "name": "python",
   "nbconvert_exporter": "python",
   "pygments_lexer": "ipython3",
   "version": "3.9.7"
  },
  "orig_nbformat": 4,
  "vscode": {
   "interpreter": {
    "hash": "67ab03f1fe994222664e12fe4ba3f091b198cb5337ab8b92ec3312d3f3349829"
   }
  }
 },
 "nbformat": 4,
 "nbformat_minor": 2
}
