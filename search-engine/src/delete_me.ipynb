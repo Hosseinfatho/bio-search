{
 "cells": [
  {
   "cell_type": "code",
   "execution_count": 1,
   "metadata": {},
   "outputs": [],
   "source": [
    "import psycopg\n",
    "from dotenv import dotenv_values\n",
    "from retrieval.utils import connect\n",
    "from retrieval.prepare_cord19_indexing import get_documents, get_documents_modality_info\n",
    "from retrieval.models import LuceneDocument\n",
    "import pandas as pd\n",
    "from dataclasses import asdict\n",
    "from datetime import datetime\n",
    "\n",
    "env_file = '../.db.env'\n",
    "config = dotenv_values(env_file)"
   ]
  },
  {
   "cell_type": "code",
   "execution_count": 4,
   "metadata": {},
   "outputs": [],
   "source": [
    "def get_documents_to_index(config) -> list[LuceneDocument]:\n",
    "  lucene_docs = []\n",
    "  document_tuples = get_documents(config)\n",
    "\n",
    "  for document in document_tuples:\n",
    "    lucene_docs.append(LuceneDocument(\n",
    "      docId=document[0],\n",
    "      source=document[1],\n",
    "      title=document[2],\n",
    "      abstract=document[3],\n",
    "      pub_date=datetime.strftime(document[4], \"%Y-%m-%d\"),\n",
    "      journal=document[5],\n",
    "      authors=\" \".join(document[6]) if document[6] else \"\",\n",
    "      url=document[7],\n",
    "      pmcid=document[8],\n",
    "      num_figures=document[9],\n",
    "      modalities=[]\n",
    "    ))\n",
    "  modality_tuples = get_documents_modality_info(config)\n",
    "  id_2_modalities = {x[0]: x[1] for x in modality_tuples}\n",
    "\n",
    "  for document in lucene_docs:\n",
    "    modalities = id_2_modalities.get(document.docId, None)\n",
    "    if modalities:\n",
    "      document.modalities = \" \".join(modalities)\n",
    "  return lucene_docs\n"
   ]
  },
  {
   "cell_type": "code",
   "execution_count": 5,
   "metadata": {},
   "outputs": [],
   "source": [
    "documents_to_index = get_documents_to_index(config)"
   ]
  },
  {
   "cell_type": "code",
   "execution_count": 6,
   "metadata": {},
   "outputs": [],
   "source": [
    "df = pd.json_normalize(asdict(obj) for obj in documents_to_index)"
   ]
  },
  {
   "cell_type": "code",
   "execution_count": 7,
   "metadata": {},
   "outputs": [
    {
     "data": {
      "text/html": [
       "<div>\n",
       "<style scoped>\n",
       "    .dataframe tbody tr th:only-of-type {\n",
       "        vertical-align: middle;\n",
       "    }\n",
       "\n",
       "    .dataframe tbody tr th {\n",
       "        vertical-align: top;\n",
       "    }\n",
       "\n",
       "    .dataframe thead th {\n",
       "        text-align: right;\n",
       "    }\n",
       "</style>\n",
       "<table border=\"1\" class=\"dataframe\">\n",
       "  <thead>\n",
       "    <tr style=\"text-align: right;\">\n",
       "      <th></th>\n",
       "      <th>docId</th>\n",
       "      <th>source</th>\n",
       "      <th>title</th>\n",
       "      <th>abstract</th>\n",
       "      <th>pub_date</th>\n",
       "      <th>journal</th>\n",
       "      <th>authors</th>\n",
       "      <th>pmcid</th>\n",
       "      <th>num_figures</th>\n",
       "      <th>modalities</th>\n",
       "      <th>url</th>\n",
       "    </tr>\n",
       "  </thead>\n",
       "  <tbody>\n",
       "    <tr>\n",
       "      <th>0</th>\n",
       "      <td>6569263</td>\n",
       "      <td>PMC</td>\n",
       "      <td>Technical Description of RODS: A Real-time Pub...</td>\n",
       "      <td>This report describes the design and implement...</td>\n",
       "      <td>2003-09-01</td>\n",
       "      <td>Journal of the American Medical Informatics As...</td>\n",
       "      <td>Tsui, Fu-Chiang Espino, Jeremy U. Dato, Virgin...</td>\n",
       "      <td>PMC212776</td>\n",
       "      <td>6</td>\n",
       "      <td>oth oth oth oth oth oth oth</td>\n",
       "      <td>cord19-uic/PMC212776/main.pdf</td>\n",
       "    </tr>\n",
       "    <tr>\n",
       "      <th>1</th>\n",
       "      <td>6569266</td>\n",
       "      <td>PMC</td>\n",
       "      <td>A Method to Identify p62's UBA Domain Interact...</td>\n",
       "      <td>The UBA domain is a conserved sequence motif a...</td>\n",
       "      <td>2003-12-12</td>\n",
       "      <td>Biol Proced Online</td>\n",
       "      <td>Pridgeon, Julia W. Geetha, Thangiah Wooten, Ma...</td>\n",
       "      <td>PMC302190</td>\n",
       "      <td>8</td>\n",
       "      <td>oth exp.gel gra exp.gel exp oth exp exp exp ex...</td>\n",
       "      <td>cord19-uic/PMC302190/main.pdf</td>\n",
       "    </tr>\n",
       "    <tr>\n",
       "      <th>2</th>\n",
       "      <td>6569271</td>\n",
       "      <td>PMC</td>\n",
       "      <td>Logistics of community smallpox control throug...</td>\n",
       "      <td>BACKGROUND: Previous smallpox ring vaccination...</td>\n",
       "      <td>2004-08-06</td>\n",
       "      <td>BMC Public Health</td>\n",
       "      <td>Porco, Travis C Holbrook, Karen A Fernyak, Sus...</td>\n",
       "      <td>PMC520756</td>\n",
       "      <td>9</td>\n",
       "      <td>gra.sca gra.lin gra.lin gra.lin oth gra.lin gr...</td>\n",
       "      <td>cord19-uic/PMC520756/main.pdf</td>\n",
       "    </tr>\n",
       "    <tr>\n",
       "      <th>3</th>\n",
       "      <td>6569273</td>\n",
       "      <td>PMC</td>\n",
       "      <td>Bioinformatic mapping of AlkB homology domains...</td>\n",
       "      <td>BACKGROUND: AlkB-like proteins are members of ...</td>\n",
       "      <td>2005-01-03</td>\n",
       "      <td>BMC Genomics</td>\n",
       "      <td>Bratlie, Marit S Drabløs, Finn</td>\n",
       "      <td>PMC544882</td>\n",
       "      <td>5</td>\n",
       "      <td>gra.sca gra.sca gra mol.dna mol gra mol.dna gr...</td>\n",
       "      <td>cord19-uic/PMC544882/main.pdf</td>\n",
       "    </tr>\n",
       "    <tr>\n",
       "      <th>4</th>\n",
       "      <td>6569276</td>\n",
       "      <td>PMC</td>\n",
       "      <td>Detection and characterization of horizontal t...</td>\n",
       "      <td>Horizontal DNA transfer is an important factor...</td>\n",
       "      <td>2005-01-13</td>\n",
       "      <td>Nucleic Acids Res</td>\n",
       "      <td>Dufraigne, Christine Fertil, Bernard Lespinats...</td>\n",
       "      <td>PMC546175</td>\n",
       "      <td>4</td>\n",
       "      <td>mol gra.sca mol oth oth oth oth mol gra</td>\n",
       "      <td>cord19-uic/PMC546175/main.pdf</td>\n",
       "    </tr>\n",
       "  </tbody>\n",
       "</table>\n",
       "</div>"
      ],
      "text/plain": [
       "     docId source                                              title  \\\n",
       "0  6569263    PMC  Technical Description of RODS: A Real-time Pub...   \n",
       "1  6569266    PMC  A Method to Identify p62's UBA Domain Interact...   \n",
       "2  6569271    PMC  Logistics of community smallpox control throug...   \n",
       "3  6569273    PMC  Bioinformatic mapping of AlkB homology domains...   \n",
       "4  6569276    PMC  Detection and characterization of horizontal t...   \n",
       "\n",
       "                                            abstract    pub_date  \\\n",
       "0  This report describes the design and implement...  2003-09-01   \n",
       "1  The UBA domain is a conserved sequence motif a...  2003-12-12   \n",
       "2  BACKGROUND: Previous smallpox ring vaccination...  2004-08-06   \n",
       "3  BACKGROUND: AlkB-like proteins are members of ...  2005-01-03   \n",
       "4  Horizontal DNA transfer is an important factor...  2005-01-13   \n",
       "\n",
       "                                             journal  \\\n",
       "0  Journal of the American Medical Informatics As...   \n",
       "1                                 Biol Proced Online   \n",
       "2                                  BMC Public Health   \n",
       "3                                       BMC Genomics   \n",
       "4                                  Nucleic Acids Res   \n",
       "\n",
       "                                             authors      pmcid  num_figures  \\\n",
       "0  Tsui, Fu-Chiang Espino, Jeremy U. Dato, Virgin...  PMC212776            6   \n",
       "1  Pridgeon, Julia W. Geetha, Thangiah Wooten, Ma...  PMC302190            8   \n",
       "2  Porco, Travis C Holbrook, Karen A Fernyak, Sus...  PMC520756            9   \n",
       "3                     Bratlie, Marit S Drabløs, Finn  PMC544882            5   \n",
       "4  Dufraigne, Christine Fertil, Bernard Lespinats...  PMC546175            4   \n",
       "\n",
       "                                          modalities  \\\n",
       "0                        oth oth oth oth oth oth oth   \n",
       "1  oth exp.gel gra exp.gel exp oth exp exp exp ex...   \n",
       "2  gra.sca gra.lin gra.lin gra.lin oth gra.lin gr...   \n",
       "3  gra.sca gra.sca gra mol.dna mol gra mol.dna gr...   \n",
       "4            mol gra.sca mol oth oth oth oth mol gra   \n",
       "\n",
       "                             url  \n",
       "0  cord19-uic/PMC212776/main.pdf  \n",
       "1  cord19-uic/PMC302190/main.pdf  \n",
       "2  cord19-uic/PMC520756/main.pdf  \n",
       "3  cord19-uic/PMC544882/main.pdf  \n",
       "4  cord19-uic/PMC546175/main.pdf  "
      ]
     },
     "execution_count": 7,
     "metadata": {},
     "output_type": "execute_result"
    }
   ],
   "source": [
    "df.head()"
   ]
  },
  {
   "cell_type": "code",
   "execution_count": 13,
   "metadata": {},
   "outputs": [
    {
     "data": {
      "text/plain": [
       "LuceneDocument(docId=6569263, source='PMC', title='Technical Description of RODS: A Real-time Public Health Surveillance System', abstract='This report describes the design and implementation of the Real-time Outbreak and Disease Surveillance (RODS) system, a computer-based public health surveillance system for early detection of disease outbreaks. Hospitals send RODS data from clinical encounters over virtual private networks and leased lines using the Health Level 7 (HL7) message protocol. The data are sent in real time. RODS automatically classifies the registration chief complaint from the visit into one of seven syndrome categories using Bayesian classifiers. It stores the data in a relational database, aggregates the data for analysis using data warehousing techniques, applies univariate and multivariate statistical detection algorithms to the data, and alerts users of when the algorithms identify anomalous patterns in the syndrome counts. RODS also has a Web-based user interface that supports temporal and spatial analyses. RODS processes sales of over-the-counter health care products in a similar manner but receives such data in batch mode on a daily basis. RODS was used during the 2002 Winter Olympics and currently operates in two states—Pennsylvania and Utah. It has been and continues to be a resource for implementing, evaluating, and applying new methods of public health surveillance.', pub_date=datetime.date(2003, 9, 1), journal='Journal of the American Medical Informatics Association', authors=['Tsui, Fu-Chiang', 'Espino, Jeremy U.', 'Dato, Virginia M.', 'Gesteland, Per H.', 'Hutman, Judith', 'Wagner, Michael M.'], pmcid='cord19-uic/PMC212776/main.pdf', num_figures='PMC212776', modalities=['oth', 'oth', 'oth', 'oth', 'oth', 'oth', 'oth'], project='cord19')"
      ]
     },
     "execution_count": 13,
     "metadata": {},
     "output_type": "execute_result"
    }
   ],
   "source": [
    "from index_writer import Indexer"
   ]
  },
  {
   "cell_type": "code",
   "execution_count": null,
   "metadata": {},
   "outputs": [],
   "source": []
  }
 ],
 "metadata": {
  "kernelspec": {
   "display_name": "Python 3.10.4 ('onboarding')",
   "language": "python",
   "name": "python3"
  },
  "language_info": {
   "codemirror_mode": {
    "name": "ipython",
    "version": 3
   },
   "file_extension": ".py",
   "mimetype": "text/x-python",
   "name": "python",
   "nbconvert_exporter": "python",
   "pygments_lexer": "ipython3",
   "version": "3.10.4"
  },
  "orig_nbformat": 4,
  "vscode": {
   "interpreter": {
    "hash": "57877b7f3feb1a7cf64d28d515d2ef487f55874f3acb52603d700000d2d9750c"
   }
  }
 },
 "nbformat": 4,
 "nbformat_minor": 2
}
