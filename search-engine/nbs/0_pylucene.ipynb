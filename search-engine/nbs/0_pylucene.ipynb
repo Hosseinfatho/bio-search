{
 "cells": [
  {
   "cell_type": "markdown",
   "metadata": {},
   "source": [
    "# Short Pylucene Tutorial\n",
    "\n",
    "## Requirements\n",
    "* Install the Python/Java version of pylucene locally\n",
    "* Alternatively, use the Dockerfile to run this notebook on Docker"
   ]
  },
  {
   "cell_type": "code",
   "execution_count": 4,
   "metadata": {},
   "outputs": [],
   "source": [
    "import lucene\n",
    "from java.io import StringReader\n",
    "from org.apache.lucene.analysis.standard import StandardAnalyzer, StandardTokenizer\n",
    "from org.apache.lucene.analysis.tokenattributes import CharTermAttribute"
   ]
  },
  {
   "cell_type": "code",
   "execution_count": 2,
   "metadata": {},
   "outputs": [],
   "source": [
    "from java.nio.file import Path, Paths\n",
    "from org.apache.lucene.analysis.standard import StandardAnalyzer\n",
    "from org.apache.lucene.index import IndexWriter, IndexWriterConfig\n",
    "#from org.apache.lucene.store import SimpleFSDirectory\n",
    "from org.apache.lucene.store import RAFDirectory \n",
    "\n",
    "\n",
    "from org.apache.lucene.util import Version\n",
    "from org.apache.lucene.document import Document, Field, TextField, StringField, LongPoint\n",
    "from org.apache.lucene.search import IndexSearcher"
   ]
  },
  {
   "cell_type": "markdown",
   "metadata": {},
   "source": [
    "You need to initialize the Java virtual machine before invoking any Lucene command."
   ]
  },
  {
   "cell_type": "code",
   "execution_count": 3,
   "metadata": {},
   "outputs": [
    {
     "data": {
      "text/plain": [
       "<jcc.JCCEnv at 0x7fd55ef049d0>"
      ]
     },
     "execution_count": 3,
     "metadata": {},
     "output_type": "execute_result"
    }
   ],
   "source": [
    "lucene.initVM(vmargs=['-Djava.awt.headless=true'])"
   ]
  },
  {
   "cell_type": "code",
   "execution_count": 5,
   "metadata": {},
   "outputs": [
    {
     "name": "stdout",
     "output_type": "stream",
     "text": [
      "8.9.0\n"
     ]
    }
   ],
   "source": [
    "from org.apache.lucene.util import Version\n",
    "print(Version.LUCENE_CURRENT)"
   ]
  },
  {
   "cell_type": "markdown",
   "metadata": {},
   "source": [
    "## 1. Tokenizers"
   ]
  },
  {
   "cell_type": "markdown",
   "metadata": {},
   "source": [
    "### 1.1 Standard Tokenizer"
   ]
  },
  {
   "cell_type": "code",
   "execution_count": 6,
   "metadata": {},
   "outputs": [],
   "source": [
    "test = \"This is how we do it.\"\n",
    "tokenizer = StandardTokenizer()\n",
    "tokenizer.setReader(StringReader(test))"
   ]
  },
  {
   "cell_type": "code",
   "execution_count": 7,
   "metadata": {},
   "outputs": [],
   "source": [
    "charTermAttrib = tokenizer.getAttribute(CharTermAttribute.class_)\n",
    "tokenizer.reset()"
   ]
  },
  {
   "cell_type": "code",
   "execution_count": 8,
   "metadata": {},
   "outputs": [],
   "source": [
    "tokens = []\n",
    "while tokenizer.incrementToken():\n",
    "    tokens.append(charTermAttrib.toString())"
   ]
  },
  {
   "cell_type": "code",
   "execution_count": 9,
   "metadata": {},
   "outputs": [
    {
     "name": "stdout",
     "output_type": "stream",
     "text": [
      "['This', 'is', 'how', 'we', 'do', 'it']\n"
     ]
    }
   ],
   "source": [
    "print(tokens)"
   ]
  },
  {
   "cell_type": "code",
   "execution_count": 10,
   "metadata": {},
   "outputs": [
    {
     "name": "stdout",
     "output_type": "stream",
     "text": [
      "['this', 'is', 'how', 'we', 'do', 'it']\n"
     ]
    }
   ],
   "source": [
    "# StandardAnalyzer example.\n",
    "analyzer = StandardAnalyzer()\n",
    "stream = analyzer.tokenStream(\"\", StringReader(test))\n",
    "stream.reset()\n",
    "tokens = []\n",
    "while stream.incrementToken():\n",
    "    tokens.append(stream.getAttribute(CharTermAttribute.class_).toString())\n",
    "print(tokens)"
   ]
  },
  {
   "cell_type": "markdown",
   "metadata": {},
   "source": [
    "## Index Documents\n",
    "\n",
    "Indexing requires defining the schema for the objects being indexed by using the Document class. \n",
    "\n",
    "In this example, we set up a file system folder as a *store* or target location for the indexes."
   ]
  },
  {
   "cell_type": "code",
   "execution_count": 12,
   "metadata": {},
   "outputs": [],
   "source": [
    "from java.nio.file import Path, Paths\n",
    "from org.apache.lucene.analysis.standard import StandardAnalyzer\n",
    "from org.apache.lucene.index import IndexWriter, IndexWriterConfig\n",
    "from org.apache.lucene.store import RAFDirectory \n",
    "from org.apache.lucene.util import Version\n",
    "from org.apache.lucene.document import Document, Field, TextField\n",
    "from org.apache.lucene.search import IndexSearcher\n",
    "\n",
    "\n",
    "def get_index_writer(store, create=False):\n",
    "  analyzer = StandardAnalyzer()\n",
    "  config = IndexWriterConfig(analyzer)\n",
    "  if create:\n",
    "    config.setOpenMode(IndexWriterConfig.OpenMode.CREATE)\n",
    "  index_writer = IndexWriter(store, config)\n",
    "  return index_writer\n",
    "\n",
    "def create_document(title: str, abstract: str) -> Document:\n",
    "  document = Document()\n",
    "  document.add(Field(\"title\", title, TextField.TYPE_STORED))\n",
    "  document.add(Field(\"abstract\", abstract, TextField.TYPE_STORED))\n",
    "  return document\n",
    "\n",
    "\n",
    "store = RAFDirectory (Paths.get('/tmp/index'))\n",
    "index_writer = get_index_writer(store, create=True)\n",
    "\n",
    "titles = [\n",
    "  'toy story 1',\n",
    "  'toy story 2',\n",
    "  'finding nemo0'\n",
    "]\n",
    "\n",
    "abstracts = [\n",
    "  'This is the text to be indexed.',\n",
    "  'Some other text',\n",
    "  \"It's friday at the lab\"\n",
    "]\n",
    "\n",
    "for title, abstract in zip(titles, abstracts):\n",
    "  document = create_document(title, abstract)\n",
    "  index_writer.addDocument(document)\n",
    "\n",
    "index_writer.close()\n",
    "\n",
    "store.close()\n",
    "\n"
   ]
  },
  {
   "cell_type": "markdown",
   "metadata": {},
   "source": [
    "Consuming those indexes can be done in several ways. The following example receives the fieldnames to check and uses a StandardAnalyzer as the method to tokenize the query term."
   ]
  },
  {
   "cell_type": "code",
   "execution_count": 13,
   "metadata": {},
   "outputs": [
    {
     "name": "stdout",
     "output_type": "stream",
     "text": [
      "This is the text to be indexed.\n"
     ]
    }
   ],
   "source": [
    "# https://stackoverflow.com/questions/2005084/how-to-specify-two-fields-in-lucene-queryparser\n",
    "# https://lucene.apache.org/core/8_0_0/queryparser/org/apache/lucene/queryparser/classic/package-summary.html#package.description\n",
    "from org.apache.lucene.search import IndexSearcher, BooleanClause\n",
    "from org.apache.lucene.index import DirectoryReader\n",
    "from org.apache.lucene.queryparser.classic import QueryParser, MultiFieldQueryParser\n",
    "\n",
    "directory = RAFDirectory (Paths.get('/tmp/index'))\n",
    "dir_reader = DirectoryReader.open(directory)\n",
    "index_searcher = IndexSearcher(dir_reader)\n",
    "\n",
    "# query_parser = QueryParser(\"abstract\", StandardAnalyzer())\n",
    "\n",
    "text_query = \"1\"\n",
    "fieldnames = ['title', 'abstract']\n",
    "SHOULD = BooleanClause.Occur.SHOULD\n",
    "query = MultiFieldQueryParser.parse(text_query,\n",
    "                                    fieldnames,\n",
    "                                    [SHOULD, SHOULD],\n",
    "                                    StandardAnalyzer())\n",
    "\n",
    "# query = query_parser.parse(\"text\")\n",
    "hits = index_searcher.search(query, 10).scoreDocs\n",
    "\n",
    "for hit in hits:\n",
    "  hitDoc = index_searcher.doc(hit.doc)\n",
    "  print(hitDoc.get(\"abstract\"))\n",
    "\n",
    "\n",
    "# index_searcher.close()\n",
    "dir_reader.close()\n",
    "\n"
   ]
  },
  {
   "cell_type": "markdown",
   "metadata": {},
   "source": [
    "# CORD-19 Test"
   ]
  },
  {
   "cell_type": "code",
   "execution_count": 17,
   "metadata": {},
   "outputs": [
    {
     "data": {
      "text/html": [
       "<div>\n",
       "<style scoped>\n",
       "    .dataframe tbody tr th:only-of-type {\n",
       "        vertical-align: middle;\n",
       "    }\n",
       "\n",
       "    .dataframe tbody tr th {\n",
       "        vertical-align: top;\n",
       "    }\n",
       "\n",
       "    .dataframe thead th {\n",
       "        text-align: right;\n",
       "    }\n",
       "</style>\n",
       "<table border=\"1\" class=\"dataframe\">\n",
       "  <thead>\n",
       "    <tr style=\"text-align: right;\">\n",
       "      <th></th>\n",
       "      <th>cord_uid</th>\n",
       "      <th>source_x</th>\n",
       "      <th>title</th>\n",
       "      <th>abstract</th>\n",
       "      <th>publish_time</th>\n",
       "      <th>journal</th>\n",
       "      <th>authors</th>\n",
       "      <th>url</th>\n",
       "    </tr>\n",
       "  </thead>\n",
       "  <tbody>\n",
       "    <tr>\n",
       "      <th>0</th>\n",
       "      <td>ug7v899j</td>\n",
       "      <td>PMC</td>\n",
       "      <td>Clinical features of culture-proven Mycoplasma...</td>\n",
       "      <td>OBJECTIVE: This retrospective chart review des...</td>\n",
       "      <td>2001-07-04</td>\n",
       "      <td>BMC Infect Dis</td>\n",
       "      <td>Madani, Tariq A; Al-Ghamdi, Aisha A</td>\n",
       "      <td>https://www.ncbi.nlm.nih.gov/pmc/articles/PMC3...</td>\n",
       "    </tr>\n",
       "    <tr>\n",
       "      <th>1</th>\n",
       "      <td>02tnwd4m</td>\n",
       "      <td>PMC</td>\n",
       "      <td>Nitric oxide: a pro-inflammatory mediator in l...</td>\n",
       "      <td>Inflammatory diseases of the respiratory tract...</td>\n",
       "      <td>2000-08-15</td>\n",
       "      <td>Respir Res</td>\n",
       "      <td>Vliet, Albert van der; Eiserich, Jason P; Cros...</td>\n",
       "      <td>https://www.ncbi.nlm.nih.gov/pmc/articles/PMC5...</td>\n",
       "    </tr>\n",
       "    <tr>\n",
       "      <th>2</th>\n",
       "      <td>ejv2xln0</td>\n",
       "      <td>PMC</td>\n",
       "      <td>Surfactant protein-D and pulmonary host defense</td>\n",
       "      <td>Surfactant protein-D (SP-D) participates in th...</td>\n",
       "      <td>2000-08-25</td>\n",
       "      <td>Respir Res</td>\n",
       "      <td>Crouch, Erika C</td>\n",
       "      <td>https://www.ncbi.nlm.nih.gov/pmc/articles/PMC5...</td>\n",
       "    </tr>\n",
       "  </tbody>\n",
       "</table>\n",
       "</div>"
      ],
      "text/plain": [
       "   cord_uid source_x                                              title  \\\n",
       "0  ug7v899j      PMC  Clinical features of culture-proven Mycoplasma...   \n",
       "1  02tnwd4m      PMC  Nitric oxide: a pro-inflammatory mediator in l...   \n",
       "2  ejv2xln0      PMC    Surfactant protein-D and pulmonary host defense   \n",
       "\n",
       "                                            abstract publish_time  \\\n",
       "0  OBJECTIVE: This retrospective chart review des...   2001-07-04   \n",
       "1  Inflammatory diseases of the respiratory tract...   2000-08-15   \n",
       "2  Surfactant protein-D (SP-D) participates in th...   2000-08-25   \n",
       "\n",
       "          journal                                            authors  \\\n",
       "0  BMC Infect Dis                Madani, Tariq A; Al-Ghamdi, Aisha A   \n",
       "1      Respir Res  Vliet, Albert van der; Eiserich, Jason P; Cros...   \n",
       "2      Respir Res                                    Crouch, Erika C   \n",
       "\n",
       "                                                 url  \n",
       "0  https://www.ncbi.nlm.nih.gov/pmc/articles/PMC3...  \n",
       "1  https://www.ncbi.nlm.nih.gov/pmc/articles/PMC5...  \n",
       "2  https://www.ncbi.nlm.nih.gov/pmc/articles/PMC5...  "
      ]
     },
     "execution_count": 17,
     "metadata": {},
     "output_type": "execute_result"
    }
   ],
   "source": [
    "import pandas as pd\n",
    "cord_19_path = '../sample_data/small_cord_19.csv'\n",
    "\n",
    "\n",
    "index_path = '/tmp/cord_small_index'\n",
    "df = pd.read_csv(cord_19_path)\n",
    "df.head()"
   ]
  },
  {
   "cell_type": "code",
   "execution_count": 18,
   "metadata": {},
   "outputs": [],
   "source": [
    "from org.apache.lucene.document import Document, Field, TextField, LongPoint\n",
    "from datetime import datetime\n",
    "\n",
    "fields = {\n",
    "  'cord_uid': StringField.TYPE_NOT_STORED,\n",
    "  'source_x': TextField.TYPE_STORED,\n",
    "  'title': TextField.TYPE_STORED,\n",
    "  'abstract': TextField.TYPE_STORED,\n",
    "  'publish_time': LongPoint,\n",
    "  'journal': TextField.TYPE_STORED,\n",
    "  'authors': TextField.TYPE_STORED,\n",
    "  'url': TextField.TYPE_STORED\n",
    "}\n",
    "\n",
    "def date2long(date):\n",
    "  return int(datetime.strptime(date, '%Y-%m-%d').strftime('%Y%m%d'))\n",
    "\n",
    "def get_index_writer(store, create=False):\n",
    "  analyzer = StandardAnalyzer()\n",
    "  config = IndexWriterConfig(analyzer)\n",
    "  if create:\n",
    "    config.setOpenMode(IndexWriterConfig.OpenMode.CREATE)\n",
    "  index_writer = IndexWriter(store, config)\n",
    "  return index_writer\n",
    "\n",
    "def index_from_dataframe(index_writer, df, fields):\n",
    "  df = df.reset_index()\n",
    "  for _, row, in df.iterrows():\n",
    "    document = Document()\n",
    "    for key in fields.keys():\n",
    "      if fields[key] == LongPoint:\n",
    "        date_millis = date2long(row[key])\n",
    "        document.add(LongPoint(key, date_millis))\n",
    "        document.add(Field(\"publish\", row[key], StringField.TYPE_STORED))\n",
    "      else:\n",
    "        document.add(Field(key, row[key], fields[key]))\n",
    "    index_writer.addDocument(document)\n",
    "\n",
    "try:\n",
    "  store = RAFDirectory (Paths.get(index_path))\n",
    "  index_writer = get_index_writer(store, create=True)\n",
    "  index_from_dataframe(index_writer, df, fields)\n",
    "finally:\n",
    "  index_writer.close()\n",
    "  store.close()\n",
    "\n",
    "  "
   ]
  },
  {
   "cell_type": "code",
   "execution_count": 20,
   "metadata": {},
   "outputs": [
    {
     "name": "stdout",
     "output_type": "stream",
     "text": [
      "Nitric oxide: a pro-inflammatory mediator in lung disease?\n",
      "Inflammatory diseases of the respiratory tract are commonly associated with elevated production of nitric oxide (NO•) and increased indices of NO• -dependent oxidative stress. Although NO• is known to have anti-microbial, anti-inflammatory and anti-oxidant properties, various lines of evidence support the contribution of NO• to lung injury in several disease models. On the basis of biochemical evidence, it is often presumed that such NO• -dependent oxidations are due to the formation of the oxidant peroxynitrite, although alternative mechanisms involving the phagocyte-derived heme proteins myeloperoxidase and eosinophil peroxidase might be operative during conditions of inflammation. Because of the overwhelming literature on NO• generation and activities in the respiratory tract, it would be beyond the scope of this commentary to review this area comprehensively. Instead, it focuses on recent evidence and concepts of the presumed contribution of NO• to inflammatory diseases of the lung.\n",
      "2000-08-15\n",
      "\n",
      "Clinical features of culture-proven Mycoplasma pneumoniae infections at King Abdulaziz University Hospital, Jeddah, Saudi Arabia\n",
      "OBJECTIVE: This retrospective chart review describes the epidemiology and clinical features of 40 patients with culture-proven Mycoplasma pneumoniae infections at King Abdulaziz University Hospital, Jeddah, Saudi Arabia. METHODS: Patients with positive M. pneumoniae cultures from respiratory specimens from January 1997 through December 1998 were identified through the Microbiology records. Charts of patients were reviewed. RESULTS: 40 patients were identified, 33 (82.5%) of whom required admission. Most infections (92.5%) were community-acquired. The infection affected all age groups but was most common in infants (32.5%) and pre-school children (22.5%). It occurred year-round but was most common in the fall (35%) and spring (30%). More than three-quarters of patients (77.5%) had comorbidities. Twenty-four isolates (60%) were associated with pneumonia, 14 (35%) with upper respiratory tract infections, and 2 (5%) with bronchiolitis. Cough (82.5%), fever (75%), and malaise (58.8%) were the most common symptoms, and crepitations (60%), and wheezes (40%) were the most common signs. Most patients with pneumonia had crepitations (79.2%) but only 25% had bronchial breathing. Immunocompromised patients were more likely than non-immunocompromised patients to present with pneumonia (8/9 versus 16/31, P = 0.05). Of the 24 patients with pneumonia, 14 (58.3%) had uneventful recovery, 4 (16.7%) recovered following some complications, 3 (12.5%) died because of M pneumoniae infection, and 3 (12.5%) died due to underlying comorbidities. The 3 patients who died of M pneumoniae pneumonia had other comorbidities. CONCLUSION: our results were similar to published data except for the finding that infections were more common in infants and preschool children and that the mortality rate of pneumonia in patients with comorbidities was high.\n",
      "2001-07-04\n",
      "\n",
      "Surfactant protein-D and pulmonary host defense\n",
      "Surfactant protein-D (SP-D) participates in the innate response to inhaled microorganisms and organic antigens, and contributes to immune and inflammatory regulation within the lung. SP-D is synthesized and secreted by alveolar and bronchiolar epithelial cells, but is also expressed by epithelial cells lining various exocrine ducts and the mucosa of the gastrointestinal and genitourinary tracts. SP-D, a collagenous calcium-dependent lectin (or collectin), binds to surface glycoconjugates expressed by a wide variety of microorganisms, and to oligosaccharides associated with the surface of various complex organic antigens. SP-D also specifically interacts with glycoconjugates and other molecules expressed on the surface of macrophages, neutrophils, and lymphocytes. In addition, SP-D binds to specific surfactant-associated lipids and can influence the organization of lipid mixtures containing phosphatidylinositol in vitro. Consistent with these diverse in vitro activities is the observation that SP-D-deficient transgenic mice show abnormal accumulations of surfactant lipids, and respond abnormally to challenge with respiratory viruses and bacterial lipopolysaccharides. The phenotype of macrophages isolated from the lungs of SP-D-deficient mice is altered, and there is circumstantial evidence that abnormal oxidant metabolism and/or increased metalloproteinase expression contributes to the development of emphysema. The expression of SP-D is increased in response to many forms of lung injury, and deficient accumulation of appropriately oligomerized SP-D might contribute to the pathogenesis of a variety of human lung diseases.\n",
      "2000-08-25\n",
      "\n"
     ]
    }
   ],
   "source": [
    "from org.apache.lucene.search import IndexSearcher, BooleanClause\n",
    "from org.apache.lucene.index import DirectoryReader\n",
    "from org.apache.lucene.queryparser.classic import QueryParser, MultiFieldQueryParser\n",
    "\n",
    "directory = RAFDirectory (Paths.get(index_path))\n",
    "dir_reader = DirectoryReader.open(directory)\n",
    "index_searcher = IndexSearcher(dir_reader)\n",
    "\n",
    "try: \n",
    "  text_query = \"respiratory\"\n",
    "  fieldnames = ['title', 'abstract']\n",
    "  SHOULD = BooleanClause.Occur.SHOULD\n",
    "  query = MultiFieldQueryParser.parse(text_query,\n",
    "                                      fieldnames,\n",
    "                                      [SHOULD, SHOULD],\n",
    "                                      StandardAnalyzer())\n",
    "\n",
    "  # query = query_parser.parse(\"text\")\n",
    "  hits = index_searcher.search(query, 10).scoreDocs\n",
    "\n",
    "  for hit in hits:\n",
    "    hitDoc = index_searcher.doc(hit.doc)\n",
    "    print(hitDoc.get(\"title\"))\n",
    "    print(hitDoc.get(\"abstract\"))\n",
    "    print(hitDoc.get(\"publish\"))\n",
    "    print()\n",
    "finally:\n",
    "  dir_reader.close()\n",
    "\n",
    "\n",
    "# index_searcher.close()\n",
    "\n",
    "\n"
   ]
  },
  {
   "cell_type": "markdown",
   "metadata": {},
   "source": [
    "### Sample search by range of dates"
   ]
  },
  {
   "cell_type": "code",
   "execution_count": 21,
   "metadata": {},
   "outputs": [
    {
     "name": "stdout",
     "output_type": "stream",
     "text": [
      "Nitric oxide: a pro-inflammatory mediator in lung disease?\n",
      "Inflammatory diseases of the respiratory tract are commonly associated with elevated production of nitric oxide (NO•) and increased indices of NO• -dependent oxidative stress. Although NO• is known to have anti-microbial, anti-inflammatory and anti-oxidant properties, various lines of evidence support the contribution of NO• to lung injury in several disease models. On the basis of biochemical evidence, it is often presumed that such NO• -dependent oxidations are due to the formation of the oxidant peroxynitrite, although alternative mechanisms involving the phagocyte-derived heme proteins myeloperoxidase and eosinophil peroxidase might be operative during conditions of inflammation. Because of the overwhelming literature on NO• generation and activities in the respiratory tract, it would be beyond the scope of this commentary to review this area comprehensively. Instead, it focuses on recent evidence and concepts of the presumed contribution of NO• to inflammatory diseases of the lung.\n",
      "None\n",
      "\n",
      "Surfactant protein-D and pulmonary host defense\n",
      "Surfactant protein-D (SP-D) participates in the innate response to inhaled microorganisms and organic antigens, and contributes to immune and inflammatory regulation within the lung. SP-D is synthesized and secreted by alveolar and bronchiolar epithelial cells, but is also expressed by epithelial cells lining various exocrine ducts and the mucosa of the gastrointestinal and genitourinary tracts. SP-D, a collagenous calcium-dependent lectin (or collectin), binds to surface glycoconjugates expressed by a wide variety of microorganisms, and to oligosaccharides associated with the surface of various complex organic antigens. SP-D also specifically interacts with glycoconjugates and other molecules expressed on the surface of macrophages, neutrophils, and lymphocytes. In addition, SP-D binds to specific surfactant-associated lipids and can influence the organization of lipid mixtures containing phosphatidylinositol in vitro. Consistent with these diverse in vitro activities is the observation that SP-D-deficient transgenic mice show abnormal accumulations of surfactant lipids, and respond abnormally to challenge with respiratory viruses and bacterial lipopolysaccharides. The phenotype of macrophages isolated from the lungs of SP-D-deficient mice is altered, and there is circumstantial evidence that abnormal oxidant metabolism and/or increased metalloproteinase expression contributes to the development of emphysema. The expression of SP-D is increased in response to many forms of lung injury, and deficient accumulation of appropriately oligomerized SP-D might contribute to the pathogenesis of a variety of human lung diseases.\n",
      "None\n",
      "\n"
     ]
    }
   ],
   "source": [
    "from org.apache.lucene.search import IndexSearcher, BooleanClause, BooleanQuery\n",
    "from org.apache.lucene.index import DirectoryReader\n",
    "from org.apache.lucene.queryparser.classic import QueryParser, MultiFieldQueryParser\n",
    "\n",
    "directory = RAFDirectory (Paths.get(index_path))\n",
    "dir_reader = DirectoryReader.open(directory)\n",
    "index_searcher = IndexSearcher(dir_reader)\n",
    "\n",
    "def time_to_millis(date):\n",
    "  date_millis = datetime.strptime(date, '%Y-%m-%d').timestamp() * 1000\n",
    "  return int(date_millis)\n",
    "\n",
    "try: \n",
    "  text_query = \"respiratory\"\n",
    "  date_query1 = \"2000-08-15\"\n",
    "  date_query2 = \"2000-08-25\"\n",
    "\n",
    "  rangeQuery = LongPoint.newRangeQuery(\"publish_time\", date2long(date_query1), date2long(date_query2))  \n",
    "\n",
    "  query_parser = QueryParser(\"default\", StandardAnalyzer())\n",
    "  special_query = f\"title:{text_query} OR abstract:{text_query}\"\n",
    "  searchQuery = query_parser.parse(special_query)\n",
    "\n",
    "  booleanQuery = BooleanQuery.Builder().add(rangeQuery, BooleanClause.Occur.MUST).add(searchQuery, BooleanClause.Occur.MUST).build()\n",
    "\n",
    "  # special_query = f\"publish_time:[{date2long(date_query1)} TO {date2long(date_query2)}]\"\n",
    "  # hits = index_searcher.search(query, 10).scoreDocs\n",
    "  hits = index_searcher.search(booleanQuery, 10).scoreDocs\n",
    "\n",
    "  for hit in hits:\n",
    "    hitDoc = index_searcher.doc(hit.doc)\n",
    "    print(hitDoc.get(\"title\"))\n",
    "    print(hitDoc.get(\"abstract\"))\n",
    "    print(hitDoc.get(\"publish_time\"))\n",
    "    print()\n",
    "finally:\n",
    "  dir_reader.close()\n",
    "\n",
    "\n",
    "# index_searcher.close()\n"
   ]
  },
  {
   "cell_type": "code",
   "execution_count": 22,
   "metadata": {},
   "outputs": [
    {
     "name": "stdout",
     "output_type": "stream",
     "text": [
      "indexed,omitNorms,indexOptions=DOCS\n",
      "stored,indexed,tokenized\n",
      "stored,indexed,tokenized\n",
      "stored,indexed,tokenized\n",
      "<class 'org.apache.lucene.document.LongPoint'>\n",
      "stored,indexed,tokenized\n",
      "stored,indexed,tokenized\n",
      "stored,indexed,tokenized\n"
     ]
    }
   ],
   "source": [
    "fields = {\n",
    "  'cord_uid': StringField.TYPE_NOT_STORED,\n",
    "  'source_x': TextField.TYPE_STORED,\n",
    "  'title': TextField.TYPE_STORED,\n",
    "  'abstract': TextField.TYPE_STORED,\n",
    "  'publish_time': LongPoint,\n",
    "  'journal': TextField.TYPE_STORED,\n",
    "  'authors': TextField.TYPE_STORED,\n",
    "  'url': TextField.TYPE_STORED\n",
    "}\n",
    "\n",
    "for key, val in fields.items():\n",
    "  print(val)"
   ]
  }
 ],
 "metadata": {
  "interpreter": {
   "hash": "ad104ecd562728f288946cf18c5c33ff8f20bfc142ef598d770669c5bc199b60"
  },
  "kernelspec": {
   "display_name": "Python 3.9.7 ('biosearch')",
   "language": "python",
   "name": "python3"
  },
  "language_info": {
   "codemirror_mode": {
    "name": "ipython",
    "version": 3
   },
   "file_extension": ".py",
   "mimetype": "text/x-python",
   "name": "python",
   "nbconvert_exporter": "python",
   "pygments_lexer": "ipython3",
   "version": "3.9.7"
  },
  "orig_nbformat": 4
 },
 "nbformat": 4,
 "nbformat_minor": 2
}
