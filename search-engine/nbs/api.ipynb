{
 "cells": [
  {
   "cell_type": "code",
   "execution_count": 1,
   "metadata": {},
   "outputs": [],
   "source": [
    "import os\n",
    "import sys\n",
    "module_path = os.path.abspath(os.path.join('..'))\n",
    "if module_path not in sys.path:\n",
    "    sys.path.append(module_path)"
   ]
  },
  {
   "cell_type": "code",
   "execution_count": 2,
   "metadata": {},
   "outputs": [],
   "source": [
    "import lucene\n",
    "from src.retrieval.index_reader import Reader\n",
    "index_path = '/home/jtt/Documents/indexes/gxd'\n",
    "reader = Reader(index_path)"
   ]
  },
  {
   "cell_type": "code",
   "execution_count": 3,
   "metadata": {},
   "outputs": [
    {
     "data": {
      "text/plain": [
       "<jcc.JCCEnv at 0x7ffa5898fb10>"
      ]
     },
     "execution_count": 3,
     "metadata": {},
     "output_type": "execute_result"
    }
   ],
   "source": [
    "lucene.initVM(vmargs=['-Djava.awt.headless=true'])"
   ]
  },
  {
   "cell_type": "code",
   "execution_count": 4,
   "metadata": {},
   "outputs": [
    {
     "name": "stdout",
     "output_type": "stream",
     "text": [
      "modality:fluorescence?microscopy\n"
     ]
    }
   ],
   "source": [
    "query = 'mouse'\n",
    "modalities = ['fluorescence?microscopy']\n",
    "\n",
    "results = reader.search(terms=query, start_date=None, end_date=None, modalities=modalities)"
   ]
  },
  {
   "cell_type": "code",
   "execution_count": 5,
   "metadata": {},
   "outputs": [
    {
     "name": "stdout",
     "output_type": "stream",
     "text": [
      "10\n"
     ]
    }
   ],
   "source": [
    "print(len(results))"
   ]
  },
  {
   "cell_type": "code",
   "execution_count": 12,
   "metadata": {},
   "outputs": [
    {
     "data": {
      "text/plain": [
       "SearchResult(id='5427770', title='Identification of a new mouse sperm acrosome-associated protein.', abstract=\"The binding of capacitated spermatozoa to the egg's extracellular coat and induction of acrosome reaction are necessary for successful fertilization in mammals. Biogenesis of acrosome is complicated, and not all proteins involved in this process are known. In this study, we have cloned a novel mouse gene, Spaca7, that is expressed exclusively in the testes. During the postnatal development, transcripts of the gene could be detected at a very low level in 18-day-old mouse testes and at a higher level in 21-day-old mouse testes and later, which corresponds to an expansion of round spermatids. In the stably transfected PT67 cells, SPACA7 fused with EGFP was predominantly localized in the Golgi apparatus. In transgenic mouse testes, the fusion protein was found in acrosome (starting from the first stages of acrosome formation in late pachytene spermatocytes and finally in spermatozoa isolated from caput and cauda of epididymis). Confocal microscopy studies revealed an intra-acrosomal not membrane-bound localization of SPACA7/EGFP, which suggests that the protein can be released during acrosome reaction and involved in fertilization. Acrosomal localization of endogenous SPACA7 protein was also found in human spermatozoa.\", publish_date='2012-01-01', modalities=['residual', 'other diagram', '3D structure', 'other diagram', 'other diagram', 'other diagram', 'other diagram', 'other diagram', 'other diagram', 'fluorescence microscopy', 'fluorescence microscopy', 'fluorescence microscopy', 'other diagram', 'other diagram', 'other diagram', 'other diagram', 'other diagram', 'other diagram', 'other diagram', 'fluorescence microscopy', 'fluorescence microscopy', 'macromolecule sequence', 'macromolecule sequence', 'macromolecule sequence', 'macromolecule sequence', 'macromolecule sequence'], modalities_count={})"
      ]
     },
     "execution_count": 12,
     "metadata": {},
     "output_type": "execute_result"
    }
   ],
   "source": [
    "results[1]"
   ]
  },
  {
   "cell_type": "markdown",
   "metadata": {},
   "source": [
    "## Checking the dataframe"
   ]
  },
  {
   "cell_type": "code",
   "execution_count": 12,
   "metadata": {},
   "outputs": [],
   "source": [
    "import json\n",
    "\n",
    "with open('../sample_data/gxd_dict.json', 'r') as f:\n",
    "  data = json.load(f)\n"
   ]
  },
  {
   "cell_type": "code",
   "execution_count": 15,
   "metadata": {},
   "outputs": [],
   "source": [
    "modality = 'fluorescence microscopy'\n",
    "\n",
    "rs = []\n",
    "for k, v in data.items():\n",
    "  if modality in v['modalities']:\n",
    "    rs.append(v)"
   ]
  },
  {
   "cell_type": "code",
   "execution_count": 16,
   "metadata": {},
   "outputs": [
    {
     "data": {
      "text/plain": [
       "1314"
      ]
     },
     "execution_count": 16,
     "metadata": {},
     "output_type": "execute_result"
    }
   ],
   "source": [
    "len(rs)"
   ]
  },
  {
   "cell_type": "code",
   "execution_count": 17,
   "metadata": {},
   "outputs": [
    {
     "data": {
      "text/plain": [
       "{'cord_uid': '5792639',\n",
       " 'source_x': 'gxd',\n",
       " 'title': 'MicroRNA-127 Promotes Mesendoderm Differentiation of Mouse Embryonic Stem Cells by Targeting Left-Right Determination Factor 2.',\n",
       " 'abstract': 'Specification of the three germ layers is a fundamental process and is essential for the establishment of organ rudiments. Multiple genetic and epigenetic factors regulate this dynamic process; however, the function of specific microRNAs in germ layer differentiation remains unknown. In this study, we established that microRNA-127 (miR-127) is related to germ layer specification via microRNA array analysis of isolated three germ layers of E7.5 mouse embryos and was verified through differentiation of mouse embryonic stem cells. miR-127 is highly expressed in endoderm and primitive streak. Overexpression of miR-127 increases and inhibition of miR-127 decreases the expression of mesendoderm markers. We further show that miR-127 promotes mesendoderm differentiation through the nodal pathway, a determinative signaling pathway in early embryogenesis. Using luciferase reporter assay, left-right determination factor 2 (Lefty2), an antagonist of nodal, is identified to be a novel target of miR-127. Furthermore, the role of miR-127 in mesendoderm differentiation is attenuated by Lefty2 overexpression. Altogether, our results indicate that miR-127 accelerates mesendoderm differentiation of mouse embryonic stem cells through nodal signaling by targeting Lefty2.',\n",
       " 'publish_time': '2016-01-01',\n",
       " 'journal': '',\n",
       " 'authors': '',\n",
       " 'url': '',\n",
       " 'pmcid': '',\n",
       " 'modalities': {'line chart': 16,\n",
       "  'fluorescence microscopy': 1,\n",
       "  'macromolecule sequence': 4,\n",
       "  'other diagram': 1,\n",
       "  'gel blot': 2,\n",
       "  '3D structure': 1},\n",
       " 'pages': {'5': [{'page': 5,\n",
       "    'no_subfig': 1,\n",
       "    'caption': \"'FIGURE 3. miR-127 knockdown inhibits mesendoderm differentiation. A, qRT-PCR shows expression of miR-127 and pluripotent markers in miR-127 'knockdown ESCs. The significance of expression was analyzed by Studentâ\\x80\\x99s t test, and data are presented as means Ï® S.E. (n Ï\\xad 3, ***, p Ï½ 0.001). B, qRT-PCR 'displays the expression of miR-127 in miR-127 knockdown days 1â\\x80\\x933 EBs. The data are presented as means Ï® S.E. (n Ï\\xad 3). C, qRT-PCR displays lineage marker 'expression in miR-127 knockdown day 3 EBs. The data are presented as means Ï® S.E. (n Ï\\xad 3). D, qRT-PCR displays the expression of miR-127 on day 6 and 8 EBs 'following miR-127 knockdown on day 6 EBs. The data are presented as means Ï® S.E. (n Ï\\xad 3). E, qRT-PCR shows miR-127 expression on day 6 knockdown EBs and 'lineage marker expression on day 8 EBs following miR-127 knocked down on day 6 EBs. The significance of expression was analyzed by Studentâ\\x80\\x99s t test, and data 'are presented as means Ï® S.E. (n Ï\\xad 3, *, p Ï½ 0.05). F, expression of mesendoderm markers in negative control (NC) and miR-127 knockdown day 8 EBs (negative 'control and Si-127), revealed by Western blot. Gapdh served as loading control. G, qRT-PCR shows miR-127 expression in miR-127 knockdown EpiSC cells. The 'significance of expression was analyzed by Studentâ\\x80\\x99s t test, and data are presented as means Ï® S.E. (n Ï\\xad 3, **, p Ï½ 0.01). H, qRT-PCR shows lineage marker 'expression in EpiSC cells treated with 10 ng/ml activin A followed by control and miR-127 inhibitor transfected (negative control and Si-127). The significance 'of expression was analyzed using Studentâ\\x80\\x99s t test, and data are presented as means Ï® S.E. (n Ï\\xad 3, *, p Ï½ 0.05). I, expression of mesendoderm markers (Foxa2 and 'T) was analyzed by Western blot. Gapdh was used as a loading control.'\",\n",
       "    'subfigures': [{'name': '002', 'type': 1},\n",
       "     {'name': '001', 'type': 1},\n",
       "     {'name': '003', 'type': 1}]}],\n",
       "  '8': [{'page': 8,\n",
       "    'no_subfig': 1,\n",
       "    'caption': \"'FIGURE 6. miR-127 accelerates the development of zebrafish embryonic shield. A, expression of embryonic shield markers and Lefty2 measured with 'whole-mount in situ hybridization in miR-127 mimic-injected zebrafish embryos at concentrations of 0 and 20 â\\x90®M. Embryos were injected with miR-127 mimics 'at the one-cell stage and harvested at 6 h post-fertilization for probing with indicated probes. B, qRT-PCR displaying embryonic shield markers and Lefty2 'expression in miR-127 mimic-injected zebrafish embryos, at concentrations of 0, 10, and 20 â\\x90®M, respectively. The significance of expression was analyzed by 'Studentâ\\x80\\x99s t test, and data are presented as means Ï® S.E. (n Ï\\xad 3, *, p Ï½ 0.05).'\",\n",
       "    'subfigures': [{'name': '003', 'type': 1},\n",
       "     {'name': '002', 'type': 1},\n",
       "     {'name': '004', 'type': 1},\n",
       "     {'name': '001', 'type': 5}]},\n",
       "   {'page': 8,\n",
       "    'no_subfig': 2,\n",
       "    'caption': \"'FIGURE 7. Schematic representation depicts the mechanism of miR-127 in accelerating mesendoderm differentiation. miR-127, through the comple- 'mentary pairing, suppresses the expression of Lefty2, which is referred to as antagonist to the nodal pathway. Thus, miR-127 induces p-Smad2 expression and 'finally up-regulates expression of mesendoderm markers.'\",\n",
       "    'subfigures': [{'name': '001', 'type': 6}]}],\n",
       "  '4': [{'page': 4,\n",
       "    'no_subfig': 1,\n",
       "    'caption': \"'FIGURE 2. Overexpression of miR-127 promotes mesendoderm differentiation. A, qRT-PCR displays the expression of miR-127 and pluripotent markers in 'miR-127-overexpressed ESCs. The significance of expression was analyzed by Studentâ\\x80\\x99s t test, and data are presented as means Ï® S.E. (n Ï\\xad 3, ***, p Ï½ 0.001). B, 'qRT-PCR displays the expression of miR-127 in miR-127-overexpressed days 1â\\x80\\x933 EBs. The data are presented as means Ï® S.E. (n Ï\\xad 3). C, qRT-PCR displays lineage 'markers expression in miR-127-overexpressed day 1 EBs. The data are presented as means Ï® S.E. (n Ï\\xad 3). D, qRT-PCR displays lineage marker expression in 'miR-127-overexpressed day 2 EBs. The data are presented as means Ï® S.E. (n Ï\\xad 3). E, qRT-PCR displays lineage marker expression in miR-127-overexpressed day '3 EBs. Significant differences in expression between the designated pairs were analyzed by Studentâ\\x80\\x99s t test with equal variance, and the data are presented as 'means Ï® S.E. (n Ï\\xad 3, *, p Ï½ 0.05; **, p Ï½ 0.01; ***, p Ï½ 0.001). F, Western blot shows mesendoderm marker expression in miR-127-overexpressed day 3 EBs. Gapdh 'was served as a loading control.'\",\n",
       "    'subfigures': [{'name': '004', 'type': 1},\n",
       "     {'name': '001', 'type': 1},\n",
       "     {'name': '003', 'type': 1},\n",
       "     {'name': '002', 'type': 1},\n",
       "     {'name': '005', 'type': 3}]}],\n",
       "  '3': [{'page': 3,\n",
       "    'no_subfig': 1,\n",
       "    'caption': \"'FIGURE 1. miR-127 is associated with germ layer formation and is mainly expressed in PS and endoderm of E7.5 mouse embryo. A, qRT-PCR shows 'lineage marker expression in detached germ layers of E7.5 embryos. B, heat map was generated by performing miRNAs specifically expressed in endoderm '(Endo), mesoderm (Meso), and ectoderm (Ecto) of E7.5 mouse embryos, respectively. C, qRT-PCR shows miR-127 expression during EB formation (one-way 'ANOVA, **, p Ï½ 0.01). D, qRT-PCR shows miR-127 expression in gastrulating embryos from E5.5 to E7.5 (one-way ANOVA, **, p Ï½ 0.01). E, qRT-PCR shows miR-127 'expression pattern in extra-embryonic field and embryonic region of E5.5, E6.5, and E7.5 embryos. F, qRT-PCR shows miR-127 expression in germ layers of E7.5 'mouse embryos (one-way ANOVA, **, p Ï½ 0.01). G, qRT-PCR shows miR-127 expression in PS and neuro-ectoderm (one-way ANOVA, **, p Ï½ 0.01). H, expression 'of miR-127 in E7.5 embryo, shown by in situ hybridization. Brown represents miR-127 expression. Scale bar, 300 â\\x90®m.'\",\n",
       "    'subfigures': [{'name': '003', 'type': 1},\n",
       "     {'name': '002', 'type': 2},\n",
       "     {'name': '001', 'type': 6}]}],\n",
       "  '7': [{'page': 7,\n",
       "    'no_subfig': 1,\n",
       "    'caption': \"'FIGURE 5. miR-127 functions through nodal signaling by down-regulating Lefty2. A, analysis of repression of Lefty2 gene by miR-127 at the sequence of '3Ð\\x88UTR through a luciferase reporter assay. PGL3 vector acted as a control. These results from three independent experiments are shown as means Ï® S.E., *, p Ï½ '0.05. B, expression levels of miR-127 and Lefty2, measured by qRT-PCR during EB differentiation. Data are presented as means Ï® S.E. (n Ï\\xad 3). C, Lefty2 expression 'analyzed by qRT-PCR in miR-127-overexpressed ESCs. The significance of expression was analyzed by Studentâ\\x80\\x99s t test, and data are presented as means Ï® S.E. '(n Ï\\xad 3, *, p Ï½ 0.05). D, Western blot showing Lefty2 expression in miR-127-overexpressed ESCs. â\\x90¤-Actin was used as loading control. E, qRT-PCR reveals 'expression of mesendoderm markers on day 3 EBs, transfected with random sequence, miR-127 mimic, or co-transfected with miR-127 mimic and Lefty2 'overexpressed vector, respectively. The significance of expression was analyzed by Studentâ\\x80\\x99s t test, and data are presented as means Ï® S.E. (n Ï\\xad 3, *, p Ï½ 0.05). 'F, changes in expression of mesendoderm markers, p-Smad2 and Lefty2, are shown by Western blot, when miR-127 was overexpressed, or both miR-127 and 'Lefty2 were overexpressed. Gapdh was used as loading control. NC, negative control.'\",\n",
       "    'subfigures': [{'name': '001', 'type': 1},\n",
       "     {'name': '003', 'type': 1},\n",
       "     {'name': '004', 'type': 4},\n",
       "     {'name': '002', 'type': 3}]}],\n",
       "  '6': [{'page': 6,\n",
       "    'no_subfig': 1,\n",
       "    'caption': \"'FIGURE 4. miR-127 involved in nodal signaling pathway. A, effectors of nodal and Wnt pathway expression were measured on day 2 EBs by Western blot. 'GAPDH was used as loading control. B, analysis of gray scale scanning of Western blot results of signaling effectors on day 2 EBs. The data were from three 'independent experiments (*, p Ï½ 0.05). C, mesendoderm marker expression in ESCs treated with activin A for 0, 12, 24, and 48 h, displayed by Western blot. D, 'qRT-PCR shows Foxa2, T, and miR-127 expression in ESCs treated with 10 ng/ml activin A. The significance of expression was analyzed by Studentâ\\x80\\x99s t test, and 'data are presented as means Ï® S.E. (n Ï\\xad 3, *, p Ï½ 0.05; **, p Ï½ 0.01; ***, p Ï½ 0.001). E, expression of p-Smad2 and mesendoderm markers in miR-127 knockdown 'ESCs under activin A treatment, shown by Western blot. â\\x90¤-actin was used as loading control. F, luciferase report vectors containing the binding site of miR-127 'in 3Ð\\x88UTR and either miR-127 mimics or negative control (NC), co-transfected into 293FT cells, with relative luciferase activity measured. PGL3 vector acted as a 'control. NC, negative control.'\",\n",
       "    'subfigures': [{'name': '003', 'type': 1},\n",
       "     {'name': '004', 'type': 1},\n",
       "     {'name': '002', 'type': 1},\n",
       "     {'name': '001', 'type': 3},\n",
       "     {'name': '005', 'type': 3}]}]}}"
      ]
     },
     "execution_count": 17,
     "metadata": {},
     "output_type": "execute_result"
    }
   ],
   "source": [
    "rs[0]"
   ]
  },
  {
   "cell_type": "code",
   "execution_count": null,
   "metadata": {},
   "outputs": [],
   "source": []
  }
 ],
 "metadata": {
  "interpreter": {
   "hash": "ad104ecd562728f288946cf18c5c33ff8f20bfc142ef598d770669c5bc199b60"
  },
  "kernelspec": {
   "display_name": "Python 3.9.7 ('biosearch')",
   "language": "python",
   "name": "python3"
  },
  "language_info": {
   "codemirror_mode": {
    "name": "ipython",
    "version": 3
   },
   "file_extension": ".py",
   "mimetype": "text/x-python",
   "name": "python",
   "nbconvert_exporter": "python",
   "pygments_lexer": "ipython3",
   "version": "3.9.7"
  },
  "orig_nbformat": 4
 },
 "nbformat": 4,
 "nbformat_minor": 2
}
