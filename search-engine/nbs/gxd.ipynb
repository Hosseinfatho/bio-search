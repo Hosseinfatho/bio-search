{
 "cells": [
  {
   "cell_type": "code",
   "execution_count": 1,
   "metadata": {},
   "outputs": [],
   "source": [
    "import json\n",
    "\n",
    "gxd_data = '../sample_data/gxd.json'\n",
    "\n",
    "code2modality = {\n",
    "  0: \"histogram\",\n",
    "  1: \"line chart\",\n",
    "  2: \"other diagram\",\n",
    "  3: \"macromolecule sequence\",\n",
    "  4: \"3D structure\",\n",
    "  5: \"fluorescence\",\n",
    "  6: \"gel/blot\",\n",
    "  7: \"plate\",\n",
    "  8: \"light microscopy\",\n",
    "  9: \"other\",\n",
    "  10: \"residual\",\n",
    "  11: \"compound\"\n",
    "}\n",
    "\n",
    "with open(gxd_data, 'r') as f:\n",
    "  data = json.load(f)"
   ]
  },
  {
   "cell_type": "code",
   "execution_count": 2,
   "metadata": {},
   "outputs": [],
   "source": [
    "def parseEntry(entry: dict) -> dict:\n",
    "  modalities = []\n",
    "  for figure in entry['figures']:\n",
    "    for subfigure in figure['subfigures']:\n",
    "      modalities.append(code2modality[subfigure['type']])\n",
    "\n",
    "  return {\n",
    "    \"cord_uid\": entry['jaxid'],\n",
    "    \"source_x\": 'gxd',\n",
    "    \"title\": entry['title'],\n",
    "    \"abstract\": entry['abstract'],\n",
    "    \"publish_time\": f\"{entry['year']}-01-01\",\n",
    "    \"journal\": \"\",\n",
    "    \"authors\": \"\",\n",
    "    \"url\": \"\",\n",
    "    \"pmcid\": \"\",\n",
    "    \"modalities\": \";\".join(modalities),\n",
    "  }\n"
   ]
  },
  {
   "cell_type": "code",
   "execution_count": 3,
   "metadata": {},
   "outputs": [],
   "source": [
    "parsed_entries = []\n",
    "for entry in data:\n",
    "  parsed_entries.append(parseEntry(entry))"
   ]
  },
  {
   "cell_type": "code",
   "execution_count": 4,
   "metadata": {},
   "outputs": [],
   "source": [
    "import pandas as pd \n",
    "df = pd.DataFrame(parsed_entries)"
   ]
  },
  {
   "cell_type": "code",
   "execution_count": 5,
   "metadata": {},
   "outputs": [
    {
     "data": {
      "text/html": [
       "<div>\n",
       "<style scoped>\n",
       "    .dataframe tbody tr th:only-of-type {\n",
       "        vertical-align: middle;\n",
       "    }\n",
       "\n",
       "    .dataframe tbody tr th {\n",
       "        vertical-align: top;\n",
       "    }\n",
       "\n",
       "    .dataframe thead th {\n",
       "        text-align: right;\n",
       "    }\n",
       "</style>\n",
       "<table border=\"1\" class=\"dataframe\">\n",
       "  <thead>\n",
       "    <tr style=\"text-align: right;\">\n",
       "      <th></th>\n",
       "      <th>cord_uid</th>\n",
       "      <th>source_x</th>\n",
       "      <th>title</th>\n",
       "      <th>abstract</th>\n",
       "      <th>publish_time</th>\n",
       "      <th>journal</th>\n",
       "      <th>authors</th>\n",
       "      <th>url</th>\n",
       "      <th>pmcid</th>\n",
       "      <th>modalities</th>\n",
       "    </tr>\n",
       "  </thead>\n",
       "  <tbody>\n",
       "    <tr>\n",
       "      <th>0</th>\n",
       "      <td>5792639</td>\n",
       "      <td>gxd</td>\n",
       "      <td>MicroRNA-127 Promotes Mesendoderm Differentiat...</td>\n",
       "      <td>Specification of the three germ layers is a fu...</td>\n",
       "      <td>2016-01-01</td>\n",
       "      <td></td>\n",
       "      <td></td>\n",
       "      <td></td>\n",
       "      <td></td>\n",
       "      <td>line chart;line chart;line chart;line chart;li...</td>\n",
       "    </tr>\n",
       "    <tr>\n",
       "      <th>1</th>\n",
       "      <td>5754472</td>\n",
       "      <td>gxd</td>\n",
       "      <td>The number of X chromosomes influences protect...</td>\n",
       "      <td>AIM: Sex differences in coronary heart disease...</td>\n",
       "      <td>2014-01-01</td>\n",
       "      <td></td>\n",
       "      <td></td>\n",
       "      <td></td>\n",
       "      <td></td>\n",
       "      <td>compound;line chart;line chart;line chart;line...</td>\n",
       "    </tr>\n",
       "    <tr>\n",
       "      <th>2</th>\n",
       "      <td>5430698</td>\n",
       "      <td>gxd</td>\n",
       "      <td>Regulated Expression of Chromobox Homolog 5 Re...</td>\n",
       "      <td>The gene-trap lacZ reporter insertion, ROSA11,...</td>\n",
       "      <td>2012-01-01</td>\n",
       "      <td></td>\n",
       "      <td></td>\n",
       "      <td></td>\n",
       "      <td></td>\n",
       "      <td>line chart;histogram;other diagram;fluorescenc...</td>\n",
       "    </tr>\n",
       "    <tr>\n",
       "      <th>3</th>\n",
       "      <td>5758794</td>\n",
       "      <td>gxd</td>\n",
       "      <td>White spotting phenotype induced by targeted R...</td>\n",
       "      <td>Neural crest cells (NCCs) emerge from the dors...</td>\n",
       "      <td>2015-01-01</td>\n",
       "      <td></td>\n",
       "      <td></td>\n",
       "      <td></td>\n",
       "      <td></td>\n",
       "      <td>compound;residual;residual;residual;residual;r...</td>\n",
       "    </tr>\n",
       "    <tr>\n",
       "      <th>4</th>\n",
       "      <td>5553023</td>\n",
       "      <td>gxd</td>\n",
       "      <td>Transcriptional activation of hypoxia-inducibl...</td>\n",
       "      <td>Emerging evidence indicates that myeloid cells...</td>\n",
       "      <td>2014-01-01</td>\n",
       "      <td></td>\n",
       "      <td></td>\n",
       "      <td></td>\n",
       "      <td></td>\n",
       "      <td>residual;line chart;line chart;other diagram;o...</td>\n",
       "    </tr>\n",
       "  </tbody>\n",
       "</table>\n",
       "</div>"
      ],
      "text/plain": [
       "  cord_uid source_x                                              title  \\\n",
       "0  5792639      gxd  MicroRNA-127 Promotes Mesendoderm Differentiat...   \n",
       "1  5754472      gxd  The number of X chromosomes influences protect...   \n",
       "2  5430698      gxd  Regulated Expression of Chromobox Homolog 5 Re...   \n",
       "3  5758794      gxd  White spotting phenotype induced by targeted R...   \n",
       "4  5553023      gxd  Transcriptional activation of hypoxia-inducibl...   \n",
       "\n",
       "                                            abstract publish_time journal  \\\n",
       "0  Specification of the three germ layers is a fu...   2016-01-01           \n",
       "1  AIM: Sex differences in coronary heart disease...   2014-01-01           \n",
       "2  The gene-trap lacZ reporter insertion, ROSA11,...   2012-01-01           \n",
       "3  Neural crest cells (NCCs) emerge from the dors...   2015-01-01           \n",
       "4  Emerging evidence indicates that myeloid cells...   2014-01-01           \n",
       "\n",
       "  authors url pmcid                                         modalities  \n",
       "0                    line chart;line chart;line chart;line chart;li...  \n",
       "1                    compound;line chart;line chart;line chart;line...  \n",
       "2                    line chart;histogram;other diagram;fluorescenc...  \n",
       "3                    compound;residual;residual;residual;residual;r...  \n",
       "4                    residual;line chart;line chart;other diagram;o...  "
      ]
     },
     "execution_count": 5,
     "metadata": {},
     "output_type": "execute_result"
    }
   ],
   "source": [
    "df.head()"
   ]
  },
  {
   "cell_type": "code",
   "execution_count": 36,
   "metadata": {},
   "outputs": [],
   "source": [
    "# output_path = \"../sample_data/gxd.parquet\"\n",
    "# df.to_parquet(output_path, index=None)"
   ]
  },
  {
   "cell_type": "code",
   "execution_count": 15,
   "metadata": {},
   "outputs": [],
   "source": [
    "from collections import Counter\n",
    "\n",
    "def parseEntryJson(entry: dict) -> dict:\n",
    "  modalities = []\n",
    "  for figure in entry['figures']:\n",
    "    for subfigure in figure['subfigures']:\n",
    "      modalities.append(code2modality[subfigure['type']])\n",
    "  counter = Counter(modalities)\n",
    "  modalities_count = {key: counter[key] for key in counter}\n",
    "\n",
    "  return {\n",
    "    \"cord_uid\": entry['jaxid'],\n",
    "    \"source_x\": 'gxd',\n",
    "    \"title\": entry['title'],\n",
    "    \"abstract\": entry['abstract'],\n",
    "    \"publish_time\": f\"{entry['year']}-01-01\",\n",
    "    \"journal\": \"\",\n",
    "    \"authors\": \"\",\n",
    "    \"url\": \"\",\n",
    "    \"pmcid\": \"\",\n",
    "    \"modalities\": modalities_count,\n",
    "  }"
   ]
  },
  {
   "cell_type": "code",
   "execution_count": 16,
   "metadata": {},
   "outputs": [],
   "source": [
    "parsed_entries_json = []\n",
    "for entry in data:\n",
    "  parsed_entries_json.append(parseEntryJson(entry))"
   ]
  },
  {
   "cell_type": "code",
   "execution_count": 18,
   "metadata": {},
   "outputs": [
    {
     "data": {
      "text/plain": [
       "{'cord_uid': '5792639',\n",
       " 'source_x': 'gxd',\n",
       " 'title': 'MicroRNA-127 Promotes Mesendoderm Differentiation of Mouse Embryonic Stem Cells by Targeting Left-Right Determination Factor 2.',\n",
       " 'abstract': 'Specification of the three germ layers is a fundamental process and is essential for the establishment of organ rudiments. Multiple genetic and epigenetic factors regulate this dynamic process; however, the function of specific microRNAs in germ layer differentiation remains unknown. In this study, we established that microRNA-127 (miR-127) is related to germ layer specification via microRNA array analysis of isolated three germ layers of E7.5 mouse embryos and was verified through differentiation of mouse embryonic stem cells. miR-127 is highly expressed in endoderm and primitive streak. Overexpression of miR-127 increases and inhibition of miR-127 decreases the expression of mesendoderm markers. We further show that miR-127 promotes mesendoderm differentiation through the nodal pathway, a determinative signaling pathway in early embryogenesis. Using luciferase reporter assay, left-right determination factor 2 (Lefty2), an antagonist of nodal, is identified to be a novel target of miR-127. Furthermore, the role of miR-127 in mesendoderm differentiation is attenuated by Lefty2 overexpression. Altogether, our results indicate that miR-127 accelerates mesendoderm differentiation of mouse embryonic stem cells through nodal signaling by targeting Lefty2.',\n",
       " 'publish_time': '2016-01-01',\n",
       " 'journal': '',\n",
       " 'authors': '',\n",
       " 'url': '',\n",
       " 'pmcid': '',\n",
       " 'modalities': {'line chart': 16,\n",
       "  'fluorescence': 1,\n",
       "  'macromolecule sequence': 4,\n",
       "  'other diagram': 1,\n",
       "  'gel/blot': 2,\n",
       "  '3D structure': 1}}"
      ]
     },
     "execution_count": 18,
     "metadata": {},
     "output_type": "execute_result"
    }
   ],
   "source": [
    "parsed_entries_json[0]"
   ]
  },
  {
   "cell_type": "code",
   "execution_count": 22,
   "metadata": {},
   "outputs": [],
   "source": [
    "gxd_dict = {x['cord_uid']: x for x in parsed_entries_json}\n",
    "json_string = json.dumps(gxd_dict)\n",
    "with open('../sample_data/gdx_dict.json', 'w') as outfile:\n",
    "  outfile.write(json_string)"
   ]
  },
  {
   "cell_type": "code",
   "execution_count": 23,
   "metadata": {},
   "outputs": [
    {
     "data": {
      "text/plain": [
       "{'cord_uid': '5645828',\n",
       " 'source_x': 'gxd',\n",
       " 'title': \"Dopaminergic control of autophagic-lysosomal function implicates Lmx1b in Parkinson's disease.\",\n",
       " 'abstract': \"The role of developmental transcription factors in maintenance of neuronal properties and in disease remains poorly understood. Lmx1a and Lmx1b are key transcription factors required for the early specification of ventral midbrain dopamine (mDA) neurons. Here we show that conditional ablation of Lmx1a and Lmx1b after mDA neuron specification resulted in abnormalities that show striking resemblance to early cellular abnormalities seen in Parkinson's disease. We found that Lmx1b was required for the normal execution of the autophagic-lysosomal pathway and for the integrity of dopaminergic nerve terminals and long-term mDA neuronal survival. Notably, human LMX1B expression was decreased in mDA neurons in brain tissue affected by Parkinson's disease. Thus, these results reveal a sustained and essential requirement of Lmx1b for the function of midbrain mDA neurons and suggest that its dysfunction is associated with Parkinson's disease pathogenesis.\",\n",
       " 'publish_time': '2015-01-01',\n",
       " 'journal': '',\n",
       " 'authors': '',\n",
       " 'url': '',\n",
       " 'pmcid': '',\n",
       " 'modalities': {'line chart': 21,\n",
       "  'gel/blot': 1,\n",
       "  'macromolecule sequence': 3,\n",
       "  'other diagram': 9,\n",
       "  'fluorescence': 9}}"
      ]
     },
     "execution_count": 23,
     "metadata": {},
     "output_type": "execute_result"
    }
   ],
   "source": [
    "gxd_dict['5645828']"
   ]
  },
  {
   "cell_type": "code",
   "execution_count": null,
   "metadata": {},
   "outputs": [],
   "source": []
  }
 ],
 "metadata": {
  "interpreter": {
   "hash": "ad104ecd562728f288946cf18c5c33ff8f20bfc142ef598d770669c5bc199b60"
  },
  "kernelspec": {
   "display_name": "Python 3.9.7 ('biosearch')",
   "language": "python",
   "name": "python3"
  },
  "language_info": {
   "codemirror_mode": {
    "name": "ipython",
    "version": 3
   },
   "file_extension": ".py",
   "mimetype": "text/x-python",
   "name": "python",
   "nbconvert_exporter": "python",
   "pygments_lexer": "ipython3",
   "version": "3.9.7"
  },
  "orig_nbformat": 4
 },
 "nbformat": 4,
 "nbformat_minor": 2
}
