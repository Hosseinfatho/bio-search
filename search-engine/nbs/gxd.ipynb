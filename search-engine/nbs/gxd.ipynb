{
 "cells": [
  {
   "cell_type": "code",
   "execution_count": 1,
   "metadata": {},
   "outputs": [],
   "source": [
    "import json\n",
    "\n",
    "gxd_data = '../sample_data/gxd.json'\n",
    "\n",
    "code2modality = {\n",
    "  0: \"histogram\",\n",
    "  1: \"line chart\",\n",
    "  2: \"other diagram\",\n",
    "  3: \"macromolecule sequence\",\n",
    "  4: \"3D structure\",\n",
    "  5: \"fluorescence\",\n",
    "  6: \"gel/blot\",\n",
    "  7: \"plate\",\n",
    "  8: \"light microscopy\",\n",
    "  9: \"other\",\n",
    "  10: \"residual\",\n",
    "  11: \"compound\"\n",
    "}\n",
    "\n",
    "with open(gxd_data, 'r') as f:\n",
    "  data = json.load(f)"
   ]
  },
  {
   "cell_type": "code",
   "execution_count": 2,
   "metadata": {},
   "outputs": [],
   "source": [
    "def parseEntry(entry: dict) -> dict:\n",
    "  modalities = []\n",
    "  for figure in entry['figures']:\n",
    "    for subfigure in figure['subfigures']:\n",
    "      modalities.append(code2modality[subfigure['type']])\n",
    "\n",
    "  return {\n",
    "    \"cord_uid\": entry['jaxid'],\n",
    "    \"source_x\": 'gxd',\n",
    "    \"title\": entry['title'],\n",
    "    \"abstract\": entry['abstract'],\n",
    "    \"publish_time\": f\"{entry['year']}-01-01\",\n",
    "    \"journal\": \"\",\n",
    "    \"authors\": \"\",\n",
    "    \"url\": \"\",\n",
    "    \"pmcid\": \"\",\n",
    "    \"modalities\": \";\".join(modalities),\n",
    "  }\n"
   ]
  },
  {
   "cell_type": "code",
   "execution_count": 3,
   "metadata": {},
   "outputs": [],
   "source": [
    "parsed_entries = []\n",
    "for entry in data:\n",
    "  parsed_entries.append(parseEntry(entry))"
   ]
  },
  {
   "cell_type": "code",
   "execution_count": 4,
   "metadata": {},
   "outputs": [],
   "source": [
    "import pandas as pd \n",
    "df = pd.DataFrame(parsed_entries)"
   ]
  },
  {
   "cell_type": "code",
   "execution_count": 5,
   "metadata": {},
   "outputs": [
    {
     "data": {
      "text/html": [
       "<div>\n",
       "<style scoped>\n",
       "    .dataframe tbody tr th:only-of-type {\n",
       "        vertical-align: middle;\n",
       "    }\n",
       "\n",
       "    .dataframe tbody tr th {\n",
       "        vertical-align: top;\n",
       "    }\n",
       "\n",
       "    .dataframe thead th {\n",
       "        text-align: right;\n",
       "    }\n",
       "</style>\n",
       "<table border=\"1\" class=\"dataframe\">\n",
       "  <thead>\n",
       "    <tr style=\"text-align: right;\">\n",
       "      <th></th>\n",
       "      <th>cord_uid</th>\n",
       "      <th>source_x</th>\n",
       "      <th>title</th>\n",
       "      <th>abstract</th>\n",
       "      <th>publish_time</th>\n",
       "      <th>journal</th>\n",
       "      <th>authors</th>\n",
       "      <th>url</th>\n",
       "      <th>pmcid</th>\n",
       "      <th>modalities</th>\n",
       "    </tr>\n",
       "  </thead>\n",
       "  <tbody>\n",
       "    <tr>\n",
       "      <th>0</th>\n",
       "      <td>5792639</td>\n",
       "      <td>gxd</td>\n",
       "      <td>MicroRNA-127 Promotes Mesendoderm Differentiat...</td>\n",
       "      <td>Specification of the three germ layers is a fu...</td>\n",
       "      <td>2016-01-01</td>\n",
       "      <td></td>\n",
       "      <td></td>\n",
       "      <td></td>\n",
       "      <td></td>\n",
       "      <td>line chart;line chart;line chart;line chart;li...</td>\n",
       "    </tr>\n",
       "    <tr>\n",
       "      <th>1</th>\n",
       "      <td>5754472</td>\n",
       "      <td>gxd</td>\n",
       "      <td>The number of X chromosomes influences protect...</td>\n",
       "      <td>AIM: Sex differences in coronary heart disease...</td>\n",
       "      <td>2014-01-01</td>\n",
       "      <td></td>\n",
       "      <td></td>\n",
       "      <td></td>\n",
       "      <td></td>\n",
       "      <td>compound;line chart;line chart;line chart;line...</td>\n",
       "    </tr>\n",
       "    <tr>\n",
       "      <th>2</th>\n",
       "      <td>5430698</td>\n",
       "      <td>gxd</td>\n",
       "      <td>Regulated Expression of Chromobox Homolog 5 Re...</td>\n",
       "      <td>The gene-trap lacZ reporter insertion, ROSA11,...</td>\n",
       "      <td>2012-01-01</td>\n",
       "      <td></td>\n",
       "      <td></td>\n",
       "      <td></td>\n",
       "      <td></td>\n",
       "      <td>line chart;histogram;other diagram;fluorescenc...</td>\n",
       "    </tr>\n",
       "    <tr>\n",
       "      <th>3</th>\n",
       "      <td>5758794</td>\n",
       "      <td>gxd</td>\n",
       "      <td>White spotting phenotype induced by targeted R...</td>\n",
       "      <td>Neural crest cells (NCCs) emerge from the dors...</td>\n",
       "      <td>2015-01-01</td>\n",
       "      <td></td>\n",
       "      <td></td>\n",
       "      <td></td>\n",
       "      <td></td>\n",
       "      <td>compound;residual;residual;residual;residual;r...</td>\n",
       "    </tr>\n",
       "    <tr>\n",
       "      <th>4</th>\n",
       "      <td>5553023</td>\n",
       "      <td>gxd</td>\n",
       "      <td>Transcriptional activation of hypoxia-inducibl...</td>\n",
       "      <td>Emerging evidence indicates that myeloid cells...</td>\n",
       "      <td>2014-01-01</td>\n",
       "      <td></td>\n",
       "      <td></td>\n",
       "      <td></td>\n",
       "      <td></td>\n",
       "      <td>residual;line chart;line chart;other diagram;o...</td>\n",
       "    </tr>\n",
       "  </tbody>\n",
       "</table>\n",
       "</div>"
      ],
      "text/plain": [
       "  cord_uid source_x                                              title  \\\n",
       "0  5792639      gxd  MicroRNA-127 Promotes Mesendoderm Differentiat...   \n",
       "1  5754472      gxd  The number of X chromosomes influences protect...   \n",
       "2  5430698      gxd  Regulated Expression of Chromobox Homolog 5 Re...   \n",
       "3  5758794      gxd  White spotting phenotype induced by targeted R...   \n",
       "4  5553023      gxd  Transcriptional activation of hypoxia-inducibl...   \n",
       "\n",
       "                                            abstract publish_time journal  \\\n",
       "0  Specification of the three germ layers is a fu...   2016-01-01           \n",
       "1  AIM: Sex differences in coronary heart disease...   2014-01-01           \n",
       "2  The gene-trap lacZ reporter insertion, ROSA11,...   2012-01-01           \n",
       "3  Neural crest cells (NCCs) emerge from the dors...   2015-01-01           \n",
       "4  Emerging evidence indicates that myeloid cells...   2014-01-01           \n",
       "\n",
       "  authors url pmcid                                         modalities  \n",
       "0                    line chart;line chart;line chart;line chart;li...  \n",
       "1                    compound;line chart;line chart;line chart;line...  \n",
       "2                    line chart;histogram;other diagram;fluorescenc...  \n",
       "3                    compound;residual;residual;residual;residual;r...  \n",
       "4                    residual;line chart;line chart;other diagram;o...  "
      ]
     },
     "execution_count": 5,
     "metadata": {},
     "output_type": "execute_result"
    }
   ],
   "source": [
    "df.head()"
   ]
  },
  {
   "cell_type": "code",
   "execution_count": 6,
   "metadata": {},
   "outputs": [],
   "source": [
    "# output_path = \"../sample_data/gxd.parquet\"\n",
    "# df.to_parquet(output_path, index=None)"
   ]
  },
  {
   "cell_type": "code",
   "execution_count": 7,
   "metadata": {},
   "outputs": [],
   "source": [
    "from collections import Counter\n",
    "\n",
    "def parseEntryJson(entry: dict) -> dict:\n",
    "  modalities = []\n",
    "  for figure in entry['figures']:\n",
    "    for subfigure in figure['subfigures']:\n",
    "      modalities.append(code2modality[subfigure['type']])\n",
    "  counter = Counter(modalities)\n",
    "  modalities_count = {key: counter[key] for key in counter}\n",
    "\n",
    "  return {\n",
    "    \"cord_uid\": entry['jaxid'],\n",
    "    \"source_x\": 'gxd',\n",
    "    \"title\": entry['title'],\n",
    "    \"abstract\": entry['abstract'],\n",
    "    \"publish_time\": f\"{entry['year']}-01-01\",\n",
    "    \"journal\": \"\",\n",
    "    \"authors\": \"\",\n",
    "    \"url\": \"\",\n",
    "    \"pmcid\": \"\",\n",
    "    \"modalities\": modalities_count,\n",
    "  }"
   ]
  },
  {
   "cell_type": "code",
   "execution_count": 8,
   "metadata": {},
   "outputs": [],
   "source": [
    "parsed_entries_json = []\n",
    "for entry in data:\n",
    "  parsed_entries_json.append(parseEntryJson(entry))"
   ]
  },
  {
   "cell_type": "code",
   "execution_count": 9,
   "metadata": {},
   "outputs": [
    {
     "data": {
      "text/plain": [
       "{'cord_uid': '5792639',\n",
       " 'source_x': 'gxd',\n",
       " 'title': 'MicroRNA-127 Promotes Mesendoderm Differentiation of Mouse Embryonic Stem Cells by Targeting Left-Right Determination Factor 2.',\n",
       " 'abstract': 'Specification of the three germ layers is a fundamental process and is essential for the establishment of organ rudiments. Multiple genetic and epigenetic factors regulate this dynamic process; however, the function of specific microRNAs in germ layer differentiation remains unknown. In this study, we established that microRNA-127 (miR-127) is related to germ layer specification via microRNA array analysis of isolated three germ layers of E7.5 mouse embryos and was verified through differentiation of mouse embryonic stem cells. miR-127 is highly expressed in endoderm and primitive streak. Overexpression of miR-127 increases and inhibition of miR-127 decreases the expression of mesendoderm markers. We further show that miR-127 promotes mesendoderm differentiation through the nodal pathway, a determinative signaling pathway in early embryogenesis. Using luciferase reporter assay, left-right determination factor 2 (Lefty2), an antagonist of nodal, is identified to be a novel target of miR-127. Furthermore, the role of miR-127 in mesendoderm differentiation is attenuated by Lefty2 overexpression. Altogether, our results indicate that miR-127 accelerates mesendoderm differentiation of mouse embryonic stem cells through nodal signaling by targeting Lefty2.',\n",
       " 'publish_time': '2016-01-01',\n",
       " 'journal': '',\n",
       " 'authors': '',\n",
       " 'url': '',\n",
       " 'pmcid': '',\n",
       " 'modalities': {'line chart': 16,\n",
       "  'fluorescence': 1,\n",
       "  'macromolecule sequence': 4,\n",
       "  'other diagram': 1,\n",
       "  'gel/blot': 2,\n",
       "  '3D structure': 1}}"
      ]
     },
     "execution_count": 9,
     "metadata": {},
     "output_type": "execute_result"
    }
   ],
   "source": [
    "parsed_entries_json[0]"
   ]
  },
  {
   "cell_type": "code",
   "execution_count": 10,
   "metadata": {},
   "outputs": [],
   "source": [
    "gxd_dict = {x['cord_uid']: x for x in parsed_entries_json}\n",
    "json_string = json.dumps(gxd_dict)\n",
    "# with open('../sample_data/gdx_dict.json', 'w') as outfile:\n",
    "#   outfile.write(json_string)"
   ]
  },
  {
   "cell_type": "code",
   "execution_count": 11,
   "metadata": {},
   "outputs": [
    {
     "data": {
      "text/plain": [
       "{'cord_uid': '5645828',\n",
       " 'source_x': 'gxd',\n",
       " 'title': \"Dopaminergic control of autophagic-lysosomal function implicates Lmx1b in Parkinson's disease.\",\n",
       " 'abstract': \"The role of developmental transcription factors in maintenance of neuronal properties and in disease remains poorly understood. Lmx1a and Lmx1b are key transcription factors required for the early specification of ventral midbrain dopamine (mDA) neurons. Here we show that conditional ablation of Lmx1a and Lmx1b after mDA neuron specification resulted in abnormalities that show striking resemblance to early cellular abnormalities seen in Parkinson's disease. We found that Lmx1b was required for the normal execution of the autophagic-lysosomal pathway and for the integrity of dopaminergic nerve terminals and long-term mDA neuronal survival. Notably, human LMX1B expression was decreased in mDA neurons in brain tissue affected by Parkinson's disease. Thus, these results reveal a sustained and essential requirement of Lmx1b for the function of midbrain mDA neurons and suggest that its dysfunction is associated with Parkinson's disease pathogenesis.\",\n",
       " 'publish_time': '2015-01-01',\n",
       " 'journal': '',\n",
       " 'authors': '',\n",
       " 'url': '',\n",
       " 'pmcid': '',\n",
       " 'modalities': {'line chart': 21,\n",
       "  'gel/blot': 1,\n",
       "  'macromolecule sequence': 3,\n",
       "  'other diagram': 9,\n",
       "  'fluorescence': 9}}"
      ]
     },
     "execution_count": 11,
     "metadata": {},
     "output_type": "execute_result"
    }
   ],
   "source": [
    "gxd_dict['5645828']"
   ]
  },
  {
   "cell_type": "code",
   "execution_count": 15,
   "metadata": {},
   "outputs": [],
   "source": [
    "data_dict = {x['jaxid']: x for x in data}"
   ]
  },
  {
   "cell_type": "code",
   "execution_count": 30,
   "metadata": {},
   "outputs": [],
   "source": [
    "def process_figures(el):\n",
    "  figures = el['figures']\n",
    "  pages = {}\n",
    "\n",
    "  for figure in figures:\n",
    "    page, no_subfig = figure['name'].split('_')\n",
    "    caption = figure['caption']\n",
    "    page = int(page)\n",
    "    no_subfig=int(no_subfig)\n",
    "\n",
    "    newFigure = {\n",
    "      \"page\": page,\n",
    "      \"no_subfig\": no_subfig,\n",
    "      \"caption\": caption,\n",
    "      \"subfigures\": figure['subfigures']\n",
    "    }\n",
    "\n",
    "    if page in pages:\n",
    "      pages[page].append(newFigure)\n",
    "    else:\n",
    "      pages[page] = [newFigure]\n",
    "  return pages\n",
    "    \n"
   ]
  },
  {
   "cell_type": "code",
   "execution_count": 31,
   "metadata": {},
   "outputs": [],
   "source": [
    "for key in gxd_dict:\n",
    "  gxd_dict[key]['pages'] = process_figures(data_dict[gxd_dict[key]['cord_uid']])\n",
    "# data_dict['5645828']"
   ]
  },
  {
   "cell_type": "code",
   "execution_count": 36,
   "metadata": {},
   "outputs": [
    {
     "data": {
      "text/plain": [
       "{7: [{'page': 7,\n",
       "   'no_subfig': 1,\n",
       "   'caption': \"'Figure 6â\\x80\\x82 Impaired autophagic-lysosomal pathway in Lmx1a/b ablated mice. (a) Quantification of proteins by 'western blot analysis in striatal total cell extracts from 9-month-old cLmx1a/bCtrl (cCtrl) and cLmx1a/bDatCre '(cDatCre) mice. n = 4 cCtrl and 5 cDatCre animals. CatD, cathepsin D. (Beclin1, P = 0.0286; p62, P = 0.0286; 'LC3BI, P = 0.0286; LC3BII, P = 0.0286; Lamp1, P = 0.0159; Lamp2, P = 0.0159; CatD, P = 0.0303). '(b,c) High magnification electron micrographs of TH-labeled cell bodies in the substantia nigra from 3-month-old 'cLmx1a/bDatCre (cDatCre) mice, cLmx1a/bDatCreERT2 (cERT2) mice 3 months after tamoxifen (TAM) treatment, 'and cLmx1a/bCtrl (cCtrl) mice. Micrographs show lipofuscin granules (LFG; b) and electron-dense protein 'aggregates (EPA; c). Scale bars: in b, 1 Âµm; in c, 0.5 Âµm. n = 2 animals per genotype. (d) Quantitative 'evaluation of LFGs and EPAs per cell in the substantia nigra (SN) in cCtrl, cDatCre (LFG, P = 0.0001; EPA, 'P = 0.0001) and cERT2 (LFG, P = 0.7297; EPA, P = 0.0578) mice. n = 40â\\x80\\x9374 cells per genotype, 2 animals per 'genotype. (e) Western blot and quantification of phospho-mTOR (P-mTOR) and mTOR expression after rapamycin 'injection compared to vehicle injection (intraperitoneal, 5 mg per kilogram per day for 10 consecutive days before 'sacrifice) in 2-month-old cCtrl and cDatCre mice. n = 5 animals (lanes 1â\\x80\\x935) per genotype. (cCtrl versus cDatCre vehicle, P = 0.0937; cCtrl versus 'cDatCre rapamycin, P = 0.9361; cCtrl vehicle versus rapamycin, P = 0.0080; cDatCre vehicle versus rapamycin, P = 0.0222). Molecular weights (kDa) 'for the protein marker (Mk) are indicated. Western blot images are cropped, but full-length blots are presented in Supplementary Figure 6. '(f) Quantification of western blot analysis of ALP proteins in striatal cell extracts from vehicle- or rapamycin-treated cCtrl and cDatCre mice. 'n = 5 animals per genotype. Data show fold change relative to their corresponding controls (either vehicle-treated cCtrl or rapamycin-treated cCtrl) 'normalized against actin expression. (p62 vehicle, P = 0.0043; p62 rapamycin, P = 0.1255; LC3BI vehicle, P = 0.0381; LC3BI rapamycin, 'P = 0.0317; Lamp1 vehicle, P = 0.0095; Lamp1 rapamycin, P = 0.0317; CatD vehicle, P = 0.0095; CatD rapamycin, P = 0.0317). (g) Optical 'densitometry from TH-immunostained striatal nerve terminals of vehicle- or rapamycin-treated cCtrl and cDatCre mice. n = 5 animals per genotype. 'Data are shown in arbitrary units (AU). (cCtrl versus cDatCre vehicle, P = 0.0043; cCtrl versus cDatCre rapamycin, P = 0.1255; cCtrl vehicle versus 'rapamycin, P = 0.4206; cDatCre vehicle versus rapamycin, P = 0.0043). (h) Density quantification of TH-immunopositive nerve terminals larger 'than 10 Âµm2 in vehicle- or rapamycin-treated cCtrl and cDatCre mice. n = 5 animals per genotype. (P = 0.0389). All data are represented as mean Â± 's.e.m.; ns, not significant; Mann-Whitney test *P < 0.05, **P < 0.005, ***P < 0.0005; one sample t-test #P â\\x89¤ 0.05.'\",\n",
       "   'subfigures': [{'name': '001', 'type': 1},\n",
       "    {'name': '004', 'type': 1},\n",
       "    {'name': '006', 'type': 1},\n",
       "    {'name': '005', 'type': 1},\n",
       "    {'name': '002', 'type': 6}]}],\n",
       " 16: [{'page': 16,\n",
       "   'no_subfig': 1,\n",
       "   'caption': '',\n",
       "   'subfigures': [{'name': '002', 'type': 1},\n",
       "    {'name': '003', 'type': 1},\n",
       "    {'name': '001', 'type': 3}]}],\n",
       " 23: [{'page': 23,\n",
       "   'no_subfig': 1,\n",
       "   'caption': '',\n",
       "   'subfigures': [{'name': '001', 'type': 1},\n",
       "    {'name': '002', 'type': 1},\n",
       "    {'name': '003', 'type': 1},\n",
       "    {'name': '004', 'type': 1}]}],\n",
       " 3: [{'page': 3,\n",
       "   'no_subfig': 1,\n",
       "   'caption': \"'Figure 2â\\x80\\x82 Behavioral characterization of adult and old cLmx1a/bCtrl and cLmx1a/bDatCre mice. (aâ\\x80\\x93e) Battery of behavioral tests performed with 'cLmx1a/bCtrl (cCtrl) and cLmx1a/bDatCre (cDatCre) mice. Beam traversal test (a; P = 0.0248) and pole test (b; T-turn adult, P = 0.0288; T-total adult, 'P = 0.0324; T-turn old, P = 0.0399; T-total old, P = 0.0493) indicate significant impairments of motor coordination and postural control. T-turn, 'time taken to orient downward at the top of the pole; T-total, total time to turn and descend the pole. Open field test (c) shows no major alteration in 'locomotor activity, though old cLmx1a/bDatCre mice show a slight hyperactivity (P = 0.0473), measured as the total distance traveled in the arena. 'Wooden block test (d; adult, P = 0.0392; old, P = 0.0001) reveals impaired social olfactory acuity. The investigatory index was calculated as the 'percentage of time spent with the wooden block scented with its own bedding minus the percentage of time spent with a block scented with bedding from 'another cage during a 2-min session. Novel object recognition test (e; P = 0.0474) reveals impaired short-term memory formation. The discrimination 'index was calculated as the cumulative time spent exploring both objects during the test session minus the difference between the exploratory times of 'the novel object (N) and the previously presented familiar object (F) respectively: (TimeN + TimeF) â\\x88\\x92 (TimeN â\\x88\\x92 TimeF). Adult mice were age 6â\\x80\\x939 months 'and old mice 18â\\x80\\x9321 months. n = 8 or 9 cCtrl and 13 or 14 cDatCre young animals per group and n = 11â\\x80\\x9318 cCtrl and 13â\\x80\\x9318 cDatCre young animals per 'group; all data are represented as mean Â± s.e.m.; an unpaired t-test was applied in aâ\\x80\\x93d and one sample t-test in e, *P < 0.05, ***P < 0.0005.'\",\n",
       "   'subfigures': [{'name': '002', 'type': 1},\n",
       "    {'name': '004', 'type': 1},\n",
       "    {'name': '001', 'type': 1},\n",
       "    {'name': '003', 'type': 1}]}],\n",
       " 5: [{'page': 5,\n",
       "   'no_subfig': 1,\n",
       "   'caption': \"'Figure 4â\\x80\\x82 Abnormal morphology of DA nerve terminals in Lmx1a/b-ablated mice. (a,b) TH immunostaining in striatal sections of 2-month-old 'cLmx1a/bCtrl (cCtrl) and cLmx1a/bDatCre (cDatCre) mice showing nerve terminals and abnormally large profiles. Scale bar, 50 Âµm. (c) Area distribution 'of TH-immunopositive nerve terminals as a percentage of the total number of nerve terminals in 2-month-old cCtrl and cDatCre mice. n = 6 animals per 'genotype. (dâ\\x80\\x93h) Electron micrographs of TH-labeled nerve terminals from striatum in 3-month-old cCtrl (d) and large axonal boutons from striatum in 'cDatCre mice (eâ\\x80\\x93h). Red lines delineate borders of giant nerve terminals. f and inset in g show boxed areas around synaptic active zones (arrowheads) 'in e and main panel of g, respectively, at higher magnification. f and h show an area from a giant nerve terminal at higher magnification, illustrating 'an accumulation of autolysosomes (AL), endosome-like profiles (e) and autophagosomes (AP) in the axoplasm (ax). d, dendritic shaft; SV, synaptic 'vesicles; MVB, multivesicular body; m, mitochondrion. Scale bars: for d, f and h, 0.5 Âµm; for e and g, 1 Âµm. All data are represented as mean Â± s.e.m.; 'Mann-Whitney test *P < 0.05; one-sample t-test #P â\\x89¤ 0.05.'\",\n",
       "   'subfigures': [{'name': '006', 'type': 1},\n",
       "    {'name': '005', 'type': 2},\n",
       "    {'name': '004', 'type': 2},\n",
       "    {'name': '007', 'type': 2},\n",
       "    {'name': '008', 'type': 5},\n",
       "    {'name': '001', 'type': 5},\n",
       "    {'name': '002', 'type': 5},\n",
       "    {'name': '003', 'type': 5}]}],\n",
       " 14: [{'page': 14,\n",
       "   'no_subfig': 1,\n",
       "   'caption': '',\n",
       "   'subfigures': [{'name': '003', 'type': 1},\n",
       "    {'name': '001', 'type': 2},\n",
       "    {'name': '002', 'type': 5}]}],\n",
       " 8: [{'page': 8,\n",
       "   'no_subfig': 1,\n",
       "   'caption': \"'Figure 7â\\x80\\x82 Lmx1b-mediated transcriptional effects on lysosome- 'mediated autophagy. (a,b) RT-qPCR expression analysis of ALP and 'transcription factor genes in dissected ventral midbrain of E14.5 'cLmx1a/bCtrl (cCtrl) and cLmx1a/bDatCre (cDatCre) embryos. n = 5 'embryos per genotype. (c) RT-qPCR expression analysis of ALP genes 'in primary cultures from dissected ventral midbrains 6 d after infection 'with lentiviruses expressing GFP (LV-GFP) or Lmx1b (LV-Lmx1b), and a 'short-hairpin RNA with a scrambled sequence (shScrmbl) or a 'sequence targeting Lmx1b (shLmx1b). n = 2 biological duplicates in at 'least 3 independent experiments. Data are normalized to their 'corresponding controls (either LV-GFP or shScrmbl). (d) RT-qPCR 'expression analysis of genes involved in autophagosome dynamics in 'dissected ventral midbrain of E14.5 cCtrl and cDatCre embryos. n = 5 'embryos per genotype. (e) RT-qPCR expression analysis of genes involved 'in autophagosome dynamics in primary cultures from dissected ventral midbrains 6 d after lentiviral infection with LV-GFP or LV-Lmx1b, and shScrmbl 'or shLmx1b. n = 2 biological duplicates in at least 3 independent experiments. Data are normalized to their corresponding controls (either LV-GFP 'or shScrmbl). All data are represented as mean Â± s.e.m. of the fold change normalized to Rpl19 levels; Mann-Whitney test *P < 0.05, **P < 0.005. 'Becn1, beclin 1; Sqstm1, p62; Map1lc3b, LC3B; Ctsb, cathepsin B; Ctsd, cathepsin D; Ppargc1a, PGC-1Î±.'\",\n",
       "   'subfigures': [{'name': '001', 'type': 1}, {'name': '003', 'type': 1}]}],\n",
       " 18: [{'page': 18,\n",
       "   'no_subfig': 1,\n",
       "   'caption': '',\n",
       "   'subfigures': [{'name': '003', 'type': 1},\n",
       "    {'name': '006', 'type': 1},\n",
       "    {'name': '011', 'type': 1},\n",
       "    {'name': '001', 'type': 2},\n",
       "    {'name': '002', 'type': 2},\n",
       "    {'name': '010', 'type': 2},\n",
       "    {'name': '007', 'type': 2},\n",
       "    {'name': '009', 'type': 2},\n",
       "    {'name': '008', 'type': 5},\n",
       "    {'name': '004', 'type': 5},\n",
       "    {'name': '005', 'type': 5}]}],\n",
       " 2: [{'page': 2,\n",
       "   'no_subfig': 1,\n",
       "   'caption': \"'Figure 1â\\x80\\x82 Maintenance of Lmx1a and Lmx1b expression in postmitotic and adult DA neurons. (a) Representative nonradioactive in situ hybridization 'in ventral midbrain cryosections from C57BL6 mouse brains at the indicated time points (P0, newborn). Expression of tyrosine hydroxylase (Th) is 'shown as a reference to identify DA neurons. n = 2 animals per stage. Scale bar, 100 Âµm. (b) RT-qPCR analysis showing Lmx1a and Lmx1b mRNA 'expression in the ventral midbrain of C57BL6 embryos and mice at E15.5 and 3 and 18 months (m). Data are represented as mean Â± s.e.m. of the 'fold change relative to the expression at E15.5 and normalized against Rpl19. n = 4 animals per stage. (c) Representative LMX1B immunostaining '(blue; brown pigment is neuromelanin) in postmortem substantia nigra sections from three Parkinsonâ\\x80\\x99s disease (PD) patients and three age-matched 'healthy control subjects. Information and clinical data on PD patients and controls is included in Supplementary Table 1. Scale bar, 25 Âµm. '(d) Densitometry quantification of LMX1B immunostaining intensity in neuromelanin-positive cells in postmortem substantia nigra sections from 'PD patients and control subjects (n = 20 to 65 neuromelanin-positive cells in each case; n = 3 control and n = 3 PD cases). Top, mean Â± s.e.m. for 'the control and the PD group of cases. Bottom, individual intensity values for all cells analyzed (n = 124 control and n = 94 PD). Data are given in 'arbitrary units (AU). Mann-Whitney test ***P < 0.0005.'\",\n",
       "   'subfigures': [{'name': '001', 'type': 5}]}],\n",
       " 6: [{'page': 6,\n",
       "   'no_subfig': 1,\n",
       "   'caption': \"'Figure 5â\\x80\\x82 Abnormal morphology of DA nerve 'terminals and analysis of catecholamines, 'behavior and DA markers after Lmx1a/b 'ablation. (aâ\\x80\\x93f) Electron micrographs of TH- 'labeled nerve terminals (ax) from striatum 'in cLmx1a/bCtrl (cCtrl) mice (a) and large 'axonal boutons (b,c) from striatum in 'cLmx1a/bDatCreERT2 (cERT2) mice 3 months after 'tamoxifen (TAM) treatment. Red lines delineate 'borders of giant nerve terminals. Arrowheads 'indicate synaptic active zones. Higher 'magnification micrographs (dâ\\x80\\x93f) illustrating 'a dramatic increase in number of endosome- 'like structures (e), autolysosomes (AL) and 'autophagosomes (AP). S, soma of a postsynaptic 'neuron; MVB, multivesicular body; m, 'mitochondrion; d, dendritic shaft. Scale bars: 'for aâ\\x80\\x93c in c, 1 Âµm; for dâ\\x80\\x93f in f, 0.2 Âµm. n = 2 'animals per genotype. (g) HPLC measurements 'of DA, DOPAC and HVA in cCtrl and cERT2 'mice 9 months after TAM treatment. Separate 'analyses were performed on tissue extracts from 'olfactory bulb (OlfB; DA, P = 0.9024; DOPAC, 'P = 1.0000; HVA, P = 0.4470), prefrontal 'cortex (PFC; DA, P = 0.0494; DOPAC, 'P = 0.2697; HVA, P = 0.2701), dorsal 'striatum (Striatum; DA, P = 0.0041; DOPAC, 'P = 0.0266; HVA, P = 0.4002), nucleus 'accumbens (NAcc; DA, P = 0.0172; 'DOPAC, P = 0.0030; HVA, P = 0.0070) and 'hippocampus (Hip; DA, P = 0.3911; DOPAC, 'P = 0.4122; HVA, P = 0.6607). n = 9 cCtrl and '10 cERT2 animals per genotype. (h) Wooden 'block test in cERT2 mice 6 months after TAM 'treatment. Investigatory index calculated 'as in Figure 2d. n = 14 cCtrl and 16 cERT2 'animals per group (P = 0.0095). (i) Optical 'densitometry from TH and DAT immunostained 'terminals from the dorsal and ventral striatum '18 months after TAM treatment. n = 7 animals per genotype (dorsal TH, P = 0.7104; ventral TH, P = 0.5350; dorsal DAT, P = 0.2593; ventral 'DAT, P = 0.0350). (j) Unbiased stereological counting of TH-immunopositive cells in the SN (P = 0.6200) and the VTA (P = 0.1248) 18 months 'after TAM treatment. n = 7 animals per genotype. All data are represented as mean Â± s.e.m.; ns, not significant; Mann-Whitney test except in h, 'where an unpaired t-test was applied; *P < 0.05, **P < 0.005.'\",\n",
       "   'subfigures': [{'name': '002', 'type': 3}]}],\n",
       " 4: [{'page': 4,\n",
       "   'no_subfig': 1,\n",
       "   'caption': \"'Figure 3â\\x80\\x82 Expression analysis of DA neuron 'markers and analysis of catecholamines in 'Lmx1a/b-ablated mice. (a) Tyrosine hydroxylase '(TH) immunostaining in ventral midbrain 'sections of 18-month-old cLmx1a/bCtrl (cCtrl) 'and cLmx1a/bDatCre (cDatCre) mice. Scale bar, '100 Âµm. (b) Unbiased stereological counting 'of TH-immunopositive cells in the substantia 'nigra (SN) and the ventral tegmental area '(VTA) of 18-month-old cCtrl and cDatCre mice '(SN, P = 0.0129; VTA, P = 0.0152). Nissl- 'counterstained sections were used to count 'total numbers of TH-positive and TH-negative 'neurons (Nissl) in the SN and VTA (total) '(SN, P = 0.0022; VTA, P = 0.0260). Numbers 'correspond to the estimated cell numbers in 'one hemisphere. n = 6 animals per genotype. '(c) Representative electron micrographs of 'TH-positive neurons from SN of 3-month- 'old cCtrl and cDatCre mice. The two right 'panels show dark degenerating neurons. 'n = 2 animals per genotype. Scale bar, 5 Âµm. '(d) TH immunostaining in striatal sections of '2-month-old cCtrl and cDatCre mice. Scale bar, '100 Âµm. (e) Optical densitometry from TH (top) 'and DAT (bottom) immunostained terminals 'from the dorsal and ventral striatum of young '(2-month-old) and old (18-month-old) cCtrl and 'cDatCre mice, n = 6 animals per genotype. Data 'are shown in arbitrary units (AU). (TH dorsal 'young, P = 0.0190; TH ventral young, 'P = 0.0381; TH dorsal old, P = 0.0175; 'TH ventral old P = 0.4762; DAT dorsal young, 'P = 0.4762; DAT ventral young, P = 0.4762; 'DAT dorsal old, P = 0.0111; DAT ventral old, 'P = 0.0012). (f) HPLC measurements of DA 'and the DA metabolites DOPAC and HVA in '9-month-old cCtrl and cDatCre mice. Separate 'analyses were performed on tissue extracts from 'prefrontal cortex (PFC; DA, P = 0.0058; DOPAC, 'P = 0.0026; HVA, P = 0.0031), hippocampus '(Hip; DA, P = 1.0000; DOPAC, P = 0.0321; 'HVA, P = 0.0426), dorsal striatum (Striatum; 'DA, P = 0.0003; DOPAC, P = 0.0031; HVA, 'P = 0.0156) and nucleus accumbens (NAcc; 'DA, P = 0.0031; DOPAC, P = 0.0002; HVA, 'P = 0.0378). n = 10 cCtrl and 13 cDatCre 'animals. (g) Normal basal synaptic transmission 'as shown in the input-output curves obtained 'in the CA1 area following collateral stimulation 'in hippocampal slices from cCtrl and cDatCre 'adult mice (6 months old). (h) Representative 'traces and summary of long-term potentiation '(LTP) experiments in cCtrl and cDatCre mice '(left) and quantification of LTP induction and maintenance (right; induction, P = 0.0400; maintenance, P = 0.0022). n = 9 or 10 slices, 5 animals 'per genotype. All data are represented as mean Â± s.e.m.; Mann-Whitney test; *P < 0.05, **P < 0.005, ***P < 0.0005.'\",\n",
       "   'subfigures': [{'name': '002', 'type': 3}]}]}"
      ]
     },
     "execution_count": 36,
     "metadata": {},
     "output_type": "execute_result"
    }
   ],
   "source": [
    "gxd_dict['5645828']['pages']"
   ]
  },
  {
   "cell_type": "code",
   "execution_count": 35,
   "metadata": {},
   "outputs": [
    {
     "data": {
      "text/plain": [
       "11"
      ]
     },
     "execution_count": 35,
     "metadata": {},
     "output_type": "execute_result"
    }
   ],
   "source": [
    "len(data_dict['5645828']['figures'])"
   ]
  },
  {
   "cell_type": "code",
   "execution_count": 37,
   "metadata": {},
   "outputs": [],
   "source": [
    "json_string = json.dumps(gxd_dict)\n",
    "with open('../sample_data/gdx_dict.json', 'w') as outfile:\n",
    "  outfile.write(json_string)"
   ]
  },
  {
   "cell_type": "code",
   "execution_count": null,
   "metadata": {},
   "outputs": [],
   "source": []
  }
 ],
 "metadata": {
  "interpreter": {
   "hash": "ad104ecd562728f288946cf18c5c33ff8f20bfc142ef598d770669c5bc199b60"
  },
  "kernelspec": {
   "display_name": "Python 3.9.7 ('biosearch')",
   "language": "python",
   "name": "python3"
  },
  "language_info": {
   "codemirror_mode": {
    "name": "ipython",
    "version": 3
   },
   "file_extension": ".py",
   "mimetype": "text/x-python",
   "name": "python",
   "nbconvert_exporter": "python",
   "pygments_lexer": "ipython3",
   "version": "3.9.7"
  },
  "orig_nbformat": 4
 },
 "nbformat": 4,
 "nbformat_minor": 2
}
