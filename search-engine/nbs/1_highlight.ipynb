{
 "cells": [
  {
   "cell_type": "code",
   "execution_count": 1,
   "metadata": {},
   "outputs": [],
   "source": [
    "import os\n",
    "import sys\n",
    "module_path = os.path.abspath(os.path.join('..'))\n",
    "if module_path not in sys.path:\n",
    "    sys.path.append(module_path)"
   ]
  },
  {
   "cell_type": "code",
   "execution_count": 2,
   "metadata": {},
   "outputs": [],
   "source": [
    "import lucene\n",
    "from src.retrieval.index_reader import Reader"
   ]
  },
  {
   "cell_type": "code",
   "execution_count": 3,
   "metadata": {},
   "outputs": [],
   "source": [
    "index_path = '/home/jtt/Documents/indexes/cord19'\n",
    "reader = Reader(index_path)"
   ]
  },
  {
   "cell_type": "code",
   "execution_count": 4,
   "metadata": {},
   "outputs": [
    {
     "data": {
      "text/plain": [
       "<jcc.JCCEnv at 0x7fc234d53d10>"
      ]
     },
     "execution_count": 4,
     "metadata": {},
     "output_type": "execute_result"
    }
   ],
   "source": [
    "lucene.initVM(vmargs=['-Djava.awt.headless=true'])"
   ]
  },
  {
   "cell_type": "code",
   "execution_count": 11,
   "metadata": {},
   "outputs": [],
   "source": [
    "query = 'disease'\n",
    "# modalities = ['oth']\n",
    "results = reader.search(terms=query, start_date=None, end_date=None, modalities=None, only_with_images=True)"
   ]
  },
  {
   "cell_type": "code",
   "execution_count": 12,
   "metadata": {},
   "outputs": [],
   "source": [
    "from org.apache.lucene.analysis.standard import StandardAnalyzer\n",
    "from org.apache.lucene.search.highlight import SimpleHTMLFormatter, QueryScorer, Highlighter, SimpleSpanFragmenter, GradientFormatter\n",
    "from java.io import StringReader\n",
    "from IPython.display import Markdown as md"
   ]
  },
  {
   "cell_type": "code",
   "execution_count": 13,
   "metadata": {},
   "outputs": [],
   "source": [
    "highlight_formatter = SimpleHTMLFormatter()\n",
    "# highlight_formatter = GradientFormatter(10.0, '#000000', '#000000', '#FFFFFF', '#FF0000')\n",
    "query_scorer = QueryScorer(reader.get_last_query())\n",
    "highlighter = Highlighter(highlight_formatter, query_scorer)\n",
    "analyzer = StandardAnalyzer()"
   ]
  },
  {
   "cell_type": "code",
   "execution_count": 14,
   "metadata": {},
   "outputs": [],
   "source": [
    "fragmenter = SimpleSpanFragmenter(query_scorer, 200)\n",
    "highlighter.setTextFragmenter(fragmenter)\n",
    "\n",
    "# abstract = \",\".join(results[0].abstract)\n",
    "abstract = results[0].abstract\n",
    "title = results[0].title\n",
    "\n",
    "ts_abs = analyzer.tokenStream(\"abstract\", StringReader(abstract))\n",
    "frag_abs = highlighter.getBestFragments(ts_abs, abstract, 3, \"...\")\n",
    "\n",
    "ts_title = analyzer.tokenStream(\"title\", StringReader(title))\n",
    "frag_title = highlighter.getBestFragments(ts_title, title, 3, \"...\")\n",
    "\n",
    "ts_mods = analyzer.tokenStream(\"modalities\", StringReader(\"\".join(results[0].modalities)))\n",
    "frag_mods = highlighter.getBestFragments(ts_mods, \"\".join(results[0].modalities), 3, \"...\")"
   ]
  },
  {
   "cell_type": "code",
   "execution_count": 15,
   "metadata": {},
   "outputs": [
    {
     "data": {
      "text/markdown": [
       " requested that the Institute of Medicine (IOM) evaluate priority-setting criteria for NIH funding; the IOM recommended greater consideration of <B>disease</B> burden. We examined whether the association between current burden and funding has changed since that time. METHODS: We analyzed public data on 2006 NIH funding for 29 common conditions. Measures of US <B>disease</B> burden in 2004 were obtained from the World Health Organization's Global Burden of <B>Disease</B> study and national databases. We assessed the relationship between <B>disease</B> burden and NIH funding dollars in univariate and multivariable log"
      ],
      "text/plain": [
       "<IPython.core.display.Markdown object>"
      ]
     },
     "execution_count": 15,
     "metadata": {},
     "output_type": "execute_result"
    }
   ],
   "source": [
    "md(f\"{frag_abs}\")"
   ]
  },
  {
   "cell_type": "code",
   "execution_count": 10,
   "metadata": {},
   "outputs": [
    {
     "data": {
      "text/markdown": [
       "Migration in <B>Saudi</B> Arabia: Present and Prospects"
      ],
      "text/plain": [
       "<IPython.core.display.Markdown object>"
      ]
     },
     "execution_count": 10,
     "metadata": {},
     "output_type": "execute_result"
    }
   ],
   "source": [
    "md(f\"{frag_title}\")"
   ]
  },
  {
   "cell_type": "code",
   "execution_count": 11,
   "metadata": {},
   "outputs": [
    {
     "data": {
      "text/plain": [
       "SearchResult(title='NIH Disease Funding Levels and Burden of Disease', abstract=\"BACKGROUND: An analysis of NIH funding in 1996 found that the strongest predictor of funding, disability-adjusted life-years (DALYs), explained only 39% of the variance in funding. In 1998, Congress requested that the Institute of Medicine (IOM) evaluate priority-setting criteria for NIH funding; the IOM recommended greater consideration of disease burden. We examined whether the association between current burden and funding has changed since that time. METHODS: We analyzed public data on 2006 NIH funding for 29 common conditions. Measures of US disease burden in 2004 were obtained from the World Health Organization's Global Burden of Disease study and national databases. We assessed the relationship between disease burden and NIH funding dollars in univariate and multivariable log-linear models that evaluated all measures of disease burden. Sensitivity analyses examined associations with future US burden, current and future measures of world disease burden, and a newly standardized NIH accounting method. RESULTS: In univariate and multivariable analyses, disease-specific NIH funding levels increased with burden of disease measured in DALYs (p = 0.001), which accounted for 33% of funding level variation. No other factor predicted funding in multivariable models. Conditions receiving the most funding greater than expected based on disease burden were AIDS ($2474 M), diabetes mellitus ($390 M), and perinatal conditions ($297 M). Depression ($719 M), injuries ($691 M), and chronic obstructive pulmonary disease ($613 M) were the most underfunded. Results were similar using estimates of future US burden, current and future world disease burden, and alternate NIH accounting methods. CONCLUSIONS: Current levels of NIH disease-specific research funding correlate modestly with US disease burden, and correlation has not improved in the last decade.\", publish_date='2011-02-24', modalities=['mol', 'gra', 'gra', 'mol', 'gra', 'gra', 'gra', 'oth'])"
      ]
     },
     "execution_count": 11,
     "metadata": {},
     "output_type": "execute_result"
    }
   ],
   "source": [
    "results[0]"
   ]
  },
  {
   "cell_type": "code",
   "execution_count": 54,
   "metadata": {},
   "outputs": [
    {
     "data": {
      "text/plain": [
       "'COVID-19 and dysnatremia: A comparison between COVID-19 and non-COVID-19 respiratory illness'"
      ]
     },
     "execution_count": 54,
     "metadata": {},
     "output_type": "execute_result"
    }
   ],
   "source": [
    "results[0].title"
   ]
  },
  {
   "cell_type": "code",
   "execution_count": null,
   "metadata": {},
   "outputs": [],
   "source": []
  }
 ],
 "metadata": {
  "interpreter": {
   "hash": "ad104ecd562728f288946cf18c5c33ff8f20bfc142ef598d770669c5bc199b60"
  },
  "kernelspec": {
   "display_name": "Python 3.9.7 ('biosearch')",
   "language": "python",
   "name": "python3"
  },
  "language_info": {
   "codemirror_mode": {
    "name": "ipython",
    "version": 3
   },
   "file_extension": ".py",
   "mimetype": "text/x-python",
   "name": "python",
   "nbconvert_exporter": "python",
   "pygments_lexer": "ipython3",
   "version": "3.9.7"
  },
  "orig_nbformat": 4
 },
 "nbformat": 4,
 "nbformat_minor": 2
}
