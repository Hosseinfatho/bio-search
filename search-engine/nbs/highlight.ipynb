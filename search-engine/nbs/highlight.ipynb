{
 "cells": [
  {
   "cell_type": "code",
   "execution_count": 1,
   "metadata": {},
   "outputs": [],
   "source": [
    "import os\n",
    "import sys\n",
    "module_path = os.path.abspath(os.path.join('..'))\n",
    "if module_path not in sys.path:\n",
    "    sys.path.append(module_path)"
   ]
  },
  {
   "cell_type": "code",
   "execution_count": 2,
   "metadata": {},
   "outputs": [],
   "source": [
    "import lucene\n",
    "from src.retrieval.index_reader import Reader"
   ]
  },
  {
   "cell_type": "code",
   "execution_count": 3,
   "metadata": {},
   "outputs": [],
   "source": [
    "index_path = '/home/jtt/Documents/indexes/cord19'\n",
    "reader = Reader(index_path)"
   ]
  },
  {
   "cell_type": "code",
   "execution_count": 4,
   "metadata": {},
   "outputs": [
    {
     "data": {
      "text/plain": [
       "<jcc.JCCEnv at 0x7f9b8a583a50>"
      ]
     },
     "execution_count": 4,
     "metadata": {},
     "output_type": "execute_result"
    }
   ],
   "source": [
    "lucene.initVM(vmargs=['-Djava.awt.headless=true'])"
   ]
  },
  {
   "cell_type": "code",
   "execution_count": 81,
   "metadata": {},
   "outputs": [],
   "source": [
    "query = 'disease'\n",
    "# modalities = ['oth']\n",
    "results = reader.search(terms=query, start_date=None, end_date=None, modalities=None, only_with_images=True)"
   ]
  },
  {
   "cell_type": "code",
   "execution_count": 82,
   "metadata": {},
   "outputs": [],
   "source": [
    "from org.apache.lucene.analysis.standard import StandardAnalyzer\n",
    "from org.apache.lucene.search.highlight import SimpleHTMLFormatter, QueryScorer, Highlighter, SimpleSpanFragmenter, GradientFormatter\n",
    "from java.io import StringReader\n",
    "from IPython.display import Markdown as md"
   ]
  },
  {
   "cell_type": "code",
   "execution_count": 83,
   "metadata": {},
   "outputs": [],
   "source": [
    "highlight_formatter = SimpleHTMLFormatter()\n",
    "# highlight_formatter = GradientFormatter(10.0, '#000000', '#000000', '#FFFFFF', '#FF0000')\n",
    "query_scorer = QueryScorer(reader.get_last_query())\n",
    "highlighter = Highlighter(highlight_formatter, query_scorer)\n",
    "analyzer = StandardAnalyzer()"
   ]
  },
  {
   "cell_type": "code",
   "execution_count": 96,
   "metadata": {},
   "outputs": [],
   "source": [
    "fragmenter = SimpleSpanFragmenter(query_scorer, 200)\n",
    "highlighter.setTextFragmenter(fragmenter)\n",
    "\n",
    "# abstract = \",\".join(results[0].abstract)\n",
    "abstract = results[0].abstract\n",
    "title = results[0].title\n",
    "\n",
    "ts_abs = analyzer.tokenStream(\"abstract\", StringReader(abstract))\n",
    "frag_abs = highlighter.getBestFragments(ts_abs, abstract, 3, \"...\")\n",
    "\n",
    "ts_title = analyzer.tokenStream(\"title\", StringReader(title))\n",
    "frag_title = highlighter.getBestFragments(ts_title, title, 3, \"...\")\n",
    "\n",
    "ts_mods = analyzer.tokenStream(\"modalities\", StringReader(\"\".join(results[0].modalities)))\n",
    "frag_mods = highlighter.getBestFragments(ts_mods, \"\".join(results[0].modalities), 3, \"...\")"
   ]
  },
  {
   "cell_type": "code",
   "execution_count": 97,
   "metadata": {},
   "outputs": [
    {
     "data": {
      "text/markdown": [
       "OBJECTIVE: The current study was intended to evaluate the knowledge and awareness toward Middle East respiratory syndrome coronavirus (MERS-CoV) of pilgrims from <B>Saudi</B> Arabia and from different Arabian countries. METHODS: A prospective study was conducted among pilgrims from <B>Saudi</B> Arabia and those from other Arab nations. A total number of 2120 participants including 736 <B>Saudi</B> pilgrims (436 males and 300 females) and 1384 non-<B>Saudi</B> Arabian pilgrims (1384; 909 males and 475 females) were included in the study. The responses of the participants were descriptively analyzed. Pearson correlation"
      ],
      "text/plain": [
       "<IPython.core.display.Markdown object>"
      ]
     },
     "execution_count": 97,
     "metadata": {},
     "output_type": "execute_result"
    }
   ],
   "source": [
    "md(f\"{frag_abs}\")"
   ]
  },
  {
   "cell_type": "code",
   "execution_count": 98,
   "metadata": {},
   "outputs": [
    {
     "data": {
      "text/markdown": [
       "Knowledge and awareness of Middle East respiratory syndrome coronavirus among <B>Saudi</B> and Non-<B>Saudi</B> Arabian pilgrims"
      ],
      "text/plain": [
       "<IPython.core.display.Markdown object>"
      ]
     },
     "execution_count": 98,
     "metadata": {},
     "output_type": "execute_result"
    }
   ],
   "source": [
    "md(f\"{frag_title}\")"
   ]
  },
  {
   "cell_type": "code",
   "execution_count": 100,
   "metadata": {},
   "outputs": [
    {
     "data": {
      "text/plain": [
       "''"
      ]
     },
     "execution_count": 100,
     "metadata": {},
     "output_type": "execute_result"
    }
   ],
   "source": [
    "frag_mods"
   ]
  },
  {
   "cell_type": "code",
   "execution_count": 54,
   "metadata": {},
   "outputs": [
    {
     "data": {
      "text/plain": [
       "'COVID-19 and dysnatremia: A comparison between COVID-19 and non-COVID-19 respiratory illness'"
      ]
     },
     "execution_count": 54,
     "metadata": {},
     "output_type": "execute_result"
    }
   ],
   "source": [
    "results[0].title"
   ]
  },
  {
   "cell_type": "code",
   "execution_count": null,
   "metadata": {},
   "outputs": [],
   "source": []
  }
 ],
 "metadata": {
  "interpreter": {
   "hash": "ad104ecd562728f288946cf18c5c33ff8f20bfc142ef598d770669c5bc199b60"
  },
  "kernelspec": {
   "display_name": "Python 3.9.7 ('biosearch')",
   "language": "python",
   "name": "python3"
  },
  "language_info": {
   "codemirror_mode": {
    "name": "ipython",
    "version": 3
   },
   "file_extension": ".py",
   "mimetype": "text/x-python",
   "name": "python",
   "nbconvert_exporter": "python",
   "pygments_lexer": "ipython3",
   "version": "3.9.7"
  },
  "orig_nbformat": 4
 },
 "nbformat": 4,
 "nbformat_minor": 2
}
