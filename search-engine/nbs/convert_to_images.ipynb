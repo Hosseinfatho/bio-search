{
 "cells": [
  {
   "cell_type": "code",
   "execution_count": 7,
   "metadata": {},
   "outputs": [],
   "source": [
    "from os import listdir, makedirs, system\n",
    "from pathlib import Path\n",
    "docs_path = \"\"\n",
    "output_folder = ''"
   ]
  },
  {
   "cell_type": "code",
   "execution_count": 17,
   "metadata": {},
   "outputs": [],
   "source": [
    "base_path = Path(docs_path)\n",
    "output_path = Path(output_folder)\n",
    "documents = listdir(base_path)\n",
    "\n",
    "for document in documents:\n",
    "  doc_path = base_path / document\n",
    "  filename = doc_path.stem\n",
    "\n",
    "  target_path = output_path / filename\n",
    "  makedirs(target_path, exist_ok=True)\n",
    "\n",
    "  t = f\"{target_path}/{filename}\"\n",
    "  x = system(f\"pdftopng -r 150 {str(doc_path)} {t}\")\n"
   ]
  },
  {
   "cell_type": "code",
   "execution_count": null,
   "metadata": {},
   "outputs": [],
   "source": []
  }
 ],
 "metadata": {
  "interpreter": {
   "hash": "916dbcbb3f70747c44a77c7bcd40155683ae19c65e1c03b4aa3499c5328201f1"
  },
  "kernelspec": {
   "display_name": "Python 3.8.10 64-bit",
   "language": "python",
   "name": "python3"
  },
  "language_info": {
   "codemirror_mode": {
    "name": "ipython",
    "version": 3
   },
   "file_extension": ".py",
   "mimetype": "text/x-python",
   "name": "python",
   "nbconvert_exporter": "python",
   "pygments_lexer": "ipython3",
   "version": "3.9.7"
  },
  "orig_nbformat": 4
 },
 "nbformat": 4,
 "nbformat_minor": 2
}
