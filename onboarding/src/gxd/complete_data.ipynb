{
 "cells": [
  {
   "cell_type": "code",
   "execution_count": 4,
   "metadata": {},
   "outputs": [],
   "source": [
    "import json\n",
    "import requests"
   ]
  },
  {
   "cell_type": "code",
   "execution_count": 2,
   "metadata": {},
   "outputs": [],
   "source": [
    "with open('gxd.json', 'r') as handler:\n",
    "  data = json.load(handler)"
   ]
  },
  {
   "cell_type": "code",
   "execution_count": 3,
   "metadata": {},
   "outputs": [
    {
     "data": {
      "text/plain": [
       "{'pmid': '27072135',\n",
       " 'jaxid': '5792639',\n",
       " 'relevant': 'relevant',\n",
       " 'year': '2016',\n",
       " 'title': 'MicroRNA-127 Promotes Mesendoderm Differentiation of Mouse Embryonic Stem Cells by Targeting Left-Right Determination Factor 2.',\n",
       " 'abstract': 'Specification of the three germ layers is a fundamental process and is essential for the establishment of organ rudiments. Multiple genetic and epigenetic factors regulate this dynamic process; however, the function of specific microRNAs in germ layer differentiation remains unknown. In this study, we established that microRNA-127 (miR-127) is related to germ layer specification via microRNA array analysis of isolated three germ layers of E7.5 mouse embryos and was verified through differentiation of mouse embryonic stem cells. miR-127 is highly expressed in endoderm and primitive streak. Overexpression of miR-127 increases and inhibition of miR-127 decreases the expression of mesendoderm markers. We further show that miR-127 promotes mesendoderm differentiation through the nodal pathway, a determinative signaling pathway in early embryogenesis. Using luciferase reporter assay, left-right determination factor 2 (Lefty2), an antagonist of nodal, is identified to be a novel target of miR-127. Furthermore, the role of miR-127 in mesendoderm differentiation is attenuated by Lefty2 overexpression. Altogether, our results indicate that miR-127 accelerates mesendoderm differentiation of mouse embryonic stem cells through nodal signaling by targeting Lefty2.',\n",
       " 'probability': [0.8427845385623925, 0.1572154614376077],\n",
       " 'figures': [{'name': '5_1',\n",
       "   'caption': \"'FIGURE 3. miR-127 knockdown inhibits mesendoderm differentiation. A, qRT-PCR shows expression of miR-127 and pluripotent markers in miR-127 'knockdown ESCs. The significance of expression was analyzed by Studentâ\\x80\\x99s t test, and data are presented as means Ï® S.E. (n Ï\\xad 3, ***, p Ï½ 0.001). B, qRT-PCR 'displays the expression of miR-127 in miR-127 knockdown days 1â\\x80\\x933 EBs. The data are presented as means Ï® S.E. (n Ï\\xad 3). C, qRT-PCR displays lineage marker 'expression in miR-127 knockdown day 3 EBs. The data are presented as means Ï® S.E. (n Ï\\xad 3). D, qRT-PCR displays the expression of miR-127 on day 6 and 8 EBs 'following miR-127 knockdown on day 6 EBs. The data are presented as means Ï® S.E. (n Ï\\xad 3). E, qRT-PCR shows miR-127 expression on day 6 knockdown EBs and 'lineage marker expression on day 8 EBs following miR-127 knocked down on day 6 EBs. The significance of expression was analyzed by Studentâ\\x80\\x99s t test, and data 'are presented as means Ï® S.E. (n Ï\\xad 3, *, p Ï½ 0.05). F, expression of mesendoderm markers in negative control (NC) and miR-127 knockdown day 8 EBs (negative 'control and Si-127), revealed by Western blot. Gapdh served as loading control. G, qRT-PCR shows miR-127 expression in miR-127 knockdown EpiSC cells. The 'significance of expression was analyzed by Studentâ\\x80\\x99s t test, and data are presented as means Ï® S.E. (n Ï\\xad 3, **, p Ï½ 0.01). H, qRT-PCR shows lineage marker 'expression in EpiSC cells treated with 10 ng/ml activin A followed by control and miR-127 inhibitor transfected (negative control and Si-127). The significance 'of expression was analyzed using Studentâ\\x80\\x99s t test, and data are presented as means Ï® S.E. (n Ï\\xad 3, *, p Ï½ 0.05). I, expression of mesendoderm markers (Foxa2 and 'T) was analyzed by Western blot. Gapdh was used as a loading control.'\",\n",
       "   'subfigures': [{'name': '002', 'type': 1},\n",
       "    {'name': '001', 'type': 1},\n",
       "    {'name': '003', 'type': 1}]},\n",
       "  {'name': '8_1',\n",
       "   'caption': \"'FIGURE 6. miR-127 accelerates the development of zebrafish embryonic shield. A, expression of embryonic shield markers and Lefty2 measured with 'whole-mount in situ hybridization in miR-127 mimic-injected zebrafish embryos at concentrations of 0 and 20 â\\x90®M. Embryos were injected with miR-127 mimics 'at the one-cell stage and harvested at 6 h post-fertilization for probing with indicated probes. B, qRT-PCR displaying embryonic shield markers and Lefty2 'expression in miR-127 mimic-injected zebrafish embryos, at concentrations of 0, 10, and 20 â\\x90®M, respectively. The significance of expression was analyzed by 'Studentâ\\x80\\x99s t test, and data are presented as means Ï® S.E. (n Ï\\xad 3, *, p Ï½ 0.05).'\",\n",
       "   'subfigures': [{'name': '003', 'type': 1},\n",
       "    {'name': '002', 'type': 1},\n",
       "    {'name': '004', 'type': 1},\n",
       "    {'name': '001', 'type': 5}]},\n",
       "  {'name': '4_1',\n",
       "   'caption': \"'FIGURE 2. Overexpression of miR-127 promotes mesendoderm differentiation. A, qRT-PCR displays the expression of miR-127 and pluripotent markers in 'miR-127-overexpressed ESCs. The significance of expression was analyzed by Studentâ\\x80\\x99s t test, and data are presented as means Ï® S.E. (n Ï\\xad 3, ***, p Ï½ 0.001). B, 'qRT-PCR displays the expression of miR-127 in miR-127-overexpressed days 1â\\x80\\x933 EBs. The data are presented as means Ï® S.E. (n Ï\\xad 3). C, qRT-PCR displays lineage 'markers expression in miR-127-overexpressed day 1 EBs. The data are presented as means Ï® S.E. (n Ï\\xad 3). D, qRT-PCR displays lineage marker expression in 'miR-127-overexpressed day 2 EBs. The data are presented as means Ï® S.E. (n Ï\\xad 3). E, qRT-PCR displays lineage marker expression in miR-127-overexpressed day '3 EBs. Significant differences in expression between the designated pairs were analyzed by Studentâ\\x80\\x99s t test with equal variance, and the data are presented as 'means Ï® S.E. (n Ï\\xad 3, *, p Ï½ 0.05; **, p Ï½ 0.01; ***, p Ï½ 0.001). F, Western blot shows mesendoderm marker expression in miR-127-overexpressed day 3 EBs. Gapdh 'was served as a loading control.'\",\n",
       "   'subfigures': [{'name': '004', 'type': 1},\n",
       "    {'name': '001', 'type': 1},\n",
       "    {'name': '003', 'type': 1},\n",
       "    {'name': '002', 'type': 1},\n",
       "    {'name': '005', 'type': 3}]},\n",
       "  {'name': '3_1',\n",
       "   'caption': \"'FIGURE 1. miR-127 is associated with germ layer formation and is mainly expressed in PS and endoderm of E7.5 mouse embryo. A, qRT-PCR shows 'lineage marker expression in detached germ layers of E7.5 embryos. B, heat map was generated by performing miRNAs specifically expressed in endoderm '(Endo), mesoderm (Meso), and ectoderm (Ecto) of E7.5 mouse embryos, respectively. C, qRT-PCR shows miR-127 expression during EB formation (one-way 'ANOVA, **, p Ï½ 0.01). D, qRT-PCR shows miR-127 expression in gastrulating embryos from E5.5 to E7.5 (one-way ANOVA, **, p Ï½ 0.01). E, qRT-PCR shows miR-127 'expression pattern in extra-embryonic field and embryonic region of E5.5, E6.5, and E7.5 embryos. F, qRT-PCR shows miR-127 expression in germ layers of E7.5 'mouse embryos (one-way ANOVA, **, p Ï½ 0.01). G, qRT-PCR shows miR-127 expression in PS and neuro-ectoderm (one-way ANOVA, **, p Ï½ 0.01). H, expression 'of miR-127 in E7.5 embryo, shown by in situ hybridization. Brown represents miR-127 expression. Scale bar, 300 â\\x90®m.'\",\n",
       "   'subfigures': [{'name': '003', 'type': 1},\n",
       "    {'name': '002', 'type': 2},\n",
       "    {'name': '001', 'type': 6}]},\n",
       "  {'name': '7_1',\n",
       "   'caption': \"'FIGURE 5. miR-127 functions through nodal signaling by down-regulating Lefty2. A, analysis of repression of Lefty2 gene by miR-127 at the sequence of '3Ð\\x88UTR through a luciferase reporter assay. PGL3 vector acted as a control. These results from three independent experiments are shown as means Ï® S.E., *, p Ï½ '0.05. B, expression levels of miR-127 and Lefty2, measured by qRT-PCR during EB differentiation. Data are presented as means Ï® S.E. (n Ï\\xad 3). C, Lefty2 expression 'analyzed by qRT-PCR in miR-127-overexpressed ESCs. The significance of expression was analyzed by Studentâ\\x80\\x99s t test, and data are presented as means Ï® S.E. '(n Ï\\xad 3, *, p Ï½ 0.05). D, Western blot showing Lefty2 expression in miR-127-overexpressed ESCs. â\\x90¤-Actin was used as loading control. E, qRT-PCR reveals 'expression of mesendoderm markers on day 3 EBs, transfected with random sequence, miR-127 mimic, or co-transfected with miR-127 mimic and Lefty2 'overexpressed vector, respectively. The significance of expression was analyzed by Studentâ\\x80\\x99s t test, and data are presented as means Ï® S.E. (n Ï\\xad 3, *, p Ï½ 0.05). 'F, changes in expression of mesendoderm markers, p-Smad2 and Lefty2, are shown by Western blot, when miR-127 was overexpressed, or both miR-127 and 'Lefty2 were overexpressed. Gapdh was used as loading control. NC, negative control.'\",\n",
       "   'subfigures': [{'name': '001', 'type': 1},\n",
       "    {'name': '003', 'type': 1},\n",
       "    {'name': '004', 'type': 4},\n",
       "    {'name': '002', 'type': 3}]},\n",
       "  {'name': '6_1',\n",
       "   'caption': \"'FIGURE 4. miR-127 involved in nodal signaling pathway. A, effectors of nodal and Wnt pathway expression were measured on day 2 EBs by Western blot. 'GAPDH was used as loading control. B, analysis of gray scale scanning of Western blot results of signaling effectors on day 2 EBs. The data were from three 'independent experiments (*, p Ï½ 0.05). C, mesendoderm marker expression in ESCs treated with activin A for 0, 12, 24, and 48 h, displayed by Western blot. D, 'qRT-PCR shows Foxa2, T, and miR-127 expression in ESCs treated with 10 ng/ml activin A. The significance of expression was analyzed by Studentâ\\x80\\x99s t test, and 'data are presented as means Ï® S.E. (n Ï\\xad 3, *, p Ï½ 0.05; **, p Ï½ 0.01; ***, p Ï½ 0.001). E, expression of p-Smad2 and mesendoderm markers in miR-127 knockdown 'ESCs under activin A treatment, shown by Western blot. â\\x90¤-actin was used as loading control. F, luciferase report vectors containing the binding site of miR-127 'in 3Ð\\x88UTR and either miR-127 mimics or negative control (NC), co-transfected into 293FT cells, with relative luciferase activity measured. PGL3 vector acted as a 'control. NC, negative control.'\",\n",
       "   'subfigures': [{'name': '003', 'type': 1},\n",
       "    {'name': '004', 'type': 1},\n",
       "    {'name': '002', 'type': 1},\n",
       "    {'name': '001', 'type': 3},\n",
       "    {'name': '005', 'type': 3}]},\n",
       "  {'name': '8_2',\n",
       "   'caption': \"'FIGURE 7. Schematic representation depicts the mechanism of miR-127 in accelerating mesendoderm differentiation. miR-127, through the comple- 'mentary pairing, suppresses the expression of Lefty2, which is referred to as antagonist to the nodal pathway. Thus, miR-127 induces p-Smad2 expression and 'finally up-regulates expression of mesendoderm markers.'\",\n",
       "   'subfigures': [{'name': '001', 'type': 6}]}],\n",
       " '0': 0,\n",
       " '1': 16,\n",
       " '2': 1,\n",
       " '3': 4,\n",
       " '4': 1,\n",
       " '5': 1,\n",
       " '6': 2,\n",
       " '7': 0,\n",
       " '8': 0,\n",
       " '9': 0,\n",
       " '10': 0,\n",
       " '11': 0}"
      ]
     },
     "execution_count": 3,
     "metadata": {},
     "output_type": "execute_result"
    }
   ],
   "source": [
    "data[0]"
   ]
  },
  {
   "cell_type": "code",
   "execution_count": 12,
   "metadata": {},
   "outputs": [],
   "source": [
    "from dataclasses import dataclass\n",
    "from datetime import datetime\n",
    "from dataclasses import field\n",
    "from time import sleep\n",
    "from typing import Optional\n",
    "from pathlib import Path\n",
    "from os import listdir, path\n",
    "import csv\n",
    "import requests\n",
    "\n",
    "\n",
    "@dataclass\n",
    "class Cord19Document:\n",
    "    title: str\n",
    "    project: str\n",
    "    status: str\n",
    "    abstract: Optional[str] = field(default=None)\n",
    "    authors: Optional[list[str]] = field(default=None)\n",
    "    publication_date: Optional[datetime] = field(default=None)\n",
    "    modalities: Optional[list[str]] = field(default=None)\n",
    "    pmcid: Optional[str] = field(default=None)\n",
    "    pubmed_id: Optional[int] = field(default=None)\n",
    "    journal: Optional[str] = field(default=None)\n",
    "    repository: Optional[str] = field(default=None)\n",
    "    cord_uid: Optional[str] = field(default=None)\n",
    "    license: Optional[str] = field(default=None)\n",
    "    uri: Optional[str] = field(default=None)\n",
    "    doi: Optional[str] = field(default=None)\n",
    "    notes: Optional[str] = field(default=None)\n",
    "\n",
    "    def to_tuple(self):\n",
    "        \"\"\"Return data as tuple to insert in database\"\"\"\n",
    "        return (\n",
    "            self.title[:200] if self.title is not None else None,\n",
    "            [x[:100] for x in self.authors] if self.authors is not None else None,\n",
    "            self.abstract[:2000] if self.abstract is not None else None,\n",
    "            self.publication_date,\n",
    "            self.pmcid,\n",
    "            self.pubmed_id,\n",
    "            self.journal[:100] if self.journal is not None else None,\n",
    "            self.repository,\n",
    "            self.project,\n",
    "            self.license,\n",
    "            self.status,\n",
    "            self.uri,\n",
    "            self.doi,\n",
    "            self.notes,\n",
    "        )"
   ]
  },
  {
   "cell_type": "code",
   "execution_count": 17,
   "metadata": {},
   "outputs": [],
   "source": [
    "import numpy as np\n",
    "from datetime import datetime\n",
    "\n",
    "def get_metadata(id, gxd_entry, pubmed_dict):\n",
    "    data = pubmed_dict[\"result\"][id]\n",
    "\n",
    "    authors = [x[\"name\"] for x in data[\"authors\"]]\n",
    "    publication_date = datetime.strptime(data['sortpubdate'][:10], \"%Y/%m/%d\")\n",
    "    journal = data[\"fulljournalname\"]\n",
    "\n",
    "    pubmed_id = None\n",
    "    pmcid = None\n",
    "    doi = None\n",
    "    for articleid in data[\"articleids\"]:\n",
    "        if articleid[\"idtype\"] == \"pmcid\":\n",
    "          pmcid = articleid[\"value\"]\n",
    "        elif articleid[\"idtype\"] == \"pmc\":\n",
    "          pmcid = articleid[\"value\"]\n",
    "        if articleid[\"idtype\"] == \"doi\":\n",
    "            doi = articleid[\"value\"]\n",
    "    uri = f\"gxd/{gxd_entry['jaxid']}.pdf\"\n",
    "\n",
    "    return Cord19Document(\n",
    "      title=gxd_entry['title'],\n",
    "      abstract=gxd_entry['abstract'],\n",
    "      authors=authors,\n",
    "      modalities=None,\n",
    "      publication_date=publication_date,\n",
    "      pmcid=pmcid,\n",
    "      pubmed_id=id,\n",
    "      license=None,\n",
    "      journal=journal,\n",
    "      doi=doi,\n",
    "      cord_uid=None,\n",
    "      repository='pubmed',\n",
    "      uri=uri,\n",
    "      status=\"IMPORTED\",\n",
    "      project=\"gxd\",\n",
    "      notes=None,\n",
    "    )\n",
    "    \n",
    "\n",
    "def load_from_gxd(gxd: list[dict]):\n",
    "  documents = []\n",
    "  gxd_pubmed_ids = [x['pmid'] for x in gxd]\n",
    "  gxd_dict = {x['pmid']: x for x in gxd}\n",
    "\n",
    "  n_splits = len(gxd_pubmed_ids) // 100\n",
    "  id_splits = np.array_split(gxd_pubmed_ids, n_splits)\n",
    "  \n",
    "  for split in id_splits:\n",
    "    concat_pmids = \",\".join(split)\n",
    "    res_pubmedids = requests.get(f\"https://eutils.ncbi.nlm.nih.gov/entrez/eutils/esummary.fcgi?db=pubmed&id={concat_pmids}&retmode=json\")\n",
    "    \n",
    "    for pmid in split:\n",
    "      document = get_metadata(pmid, gxd_dict[pmid], res_pubmedids.json())\n",
    "      documents.append(document)\n",
    "    sleep(2.5)\n",
    "\n",
    "  return documents\n",
    "\n",
    "documents = load_from_gxd(data)"
   ]
  },
  {
   "cell_type": "code",
   "execution_count": 18,
   "metadata": {},
   "outputs": [
    {
     "data": {
      "text/plain": [
       "[Cord19Document(title='MicroRNA-127 Promotes Mesendoderm Differentiation of Mouse Embryonic Stem Cells by Targeting Left-Right Determination Factor 2.', project='gxd', status='IMPORTED', abstract='Specification of the three germ layers is a fundamental process and is essential for the establishment of organ rudiments. Multiple genetic and epigenetic factors regulate this dynamic process; however, the function of specific microRNAs in germ layer differentiation remains unknown. In this study, we established that microRNA-127 (miR-127) is related to germ layer specification via microRNA array analysis of isolated three germ layers of E7.5 mouse embryos and was verified through differentiation of mouse embryonic stem cells. miR-127 is highly expressed in endoderm and primitive streak. Overexpression of miR-127 increases and inhibition of miR-127 decreases the expression of mesendoderm markers. We further show that miR-127 promotes mesendoderm differentiation through the nodal pathway, a determinative signaling pathway in early embryogenesis. Using luciferase reporter assay, left-right determination factor 2 (Lefty2), an antagonist of nodal, is identified to be a novel target of miR-127. Furthermore, the role of miR-127 in mesendoderm differentiation is attenuated by Lefty2 overexpression. Altogether, our results indicate that miR-127 accelerates mesendoderm differentiation of mouse embryonic stem cells through nodal signaling by targeting Lefty2.', authors=['Ma H', 'Lin Y', 'Zhao ZA', 'Lu X', 'Yu Y', 'Zhang X', 'Wang Q', 'Li L'], publication_date=datetime.datetime(2016, 6, 3, 0, 0), modalities=None, pmcid='pmc-id: PMC4933263;', pubmed_id='27072135', journal='The Journal of biological chemistry', repository='pubmed', cord_uid=None, license=None, uri='gxd/5792639.pdf', doi='10.1074/jbc.M116.723247', notes=None),\n",
       " Cord19Document(title='The number of X chromosomes influences protection from cardiac ischaemia/reperfusion injury in mice: one X is better than two.', project='gxd', status='IMPORTED', abstract=\"AIM: Sex differences in coronary heart disease have been attributed to sex hormones, whereas the potential role of the sex chromosomes has been ignored so far. Here, we investigated the role of the sex chromosomes in causing sex differences in myocardial ischaemia/reperfusion (I/R) injury. METHODS AND RESULTS: We used two unique mouse models, the 'four core genotypes' [XX mice with ovaries (XXF) or testes (XXM) and XY mice with ovaries (XYF) or testes (XYM)] and XY* (gonadal male or female mice with one or two X chromosomes). All mice were gonadectomized (GDX). In vivo or isolated Langendorff-perfused hearts were subjected to I/R injury. The in vivo infarct size in XY mice was significantly smaller than XX mice regardless of their gonadal type (24.5 +/- 4.1% in XYF and 21.8 +/- 3.3% in XYM vs. 37.0 +/- 3.2% in XXF and 35.5 +/- 2.1% in XXM, P < 0.01). Consistent with the results in vivo, the infarct size was markedly smaller and cardiac functional recovery was significantly better in XY mice compared with XX ex vivo. The mitochondrial calcium retention capacity was significantly higher in XY compared with XX mice (nmol/mg protein: XXF = 126 +/- 9 and XXM = 192 +/- 45 vs. XYF = 250 +/- 56 and XYM = 286 +/- 51, P < 0.05). In XY* mice, mice with 2X chromosomes had larger infarct size (2X females = 41.4 +/- 8.9% and 2X males = 46.3 +/- 9.5% vs. 1X females = 23.7 +/- 3.9% and 1X males = 26.6 +/- 6.9%, P < 0.05) and lower heart functional recovery, compared with those with 1X chromosome. Several X genes that escape X inactivation (Eif2s3x, Kdm6a, and Kdm5c) showed higher expression in XX than in XY hearts. CONCLUSION: XX mice have higher vulnerability to I/R injury compared with XY mice, which is due to the number of X chromosomes rather than the absence of the Y chromosome.\", authors=['Li J', 'Chen X', 'McClusky R', 'Ruiz-Sundstrom M', 'Itoh Y', 'Umar S', 'Arnold AP', 'Eghbali M'], publication_date=datetime.datetime(2014, 6, 1, 0, 0), modalities=None, pmcid='pmc-id: PMC4030514;', pubmed_id='24654234', journal='Cardiovascular research', repository='pubmed', cord_uid=None, license=None, uri='gxd/5754472.pdf', doi='10.1093/cvr/cvu064', notes=None)]"
      ]
     },
     "execution_count": 18,
     "metadata": {},
     "output_type": "execute_result"
    }
   ],
   "source": [
    "documents[:2]"
   ]
  },
  {
   "cell_type": "code",
   "execution_count": null,
   "metadata": {},
   "outputs": [],
   "source": []
  }
 ],
 "metadata": {
  "kernelspec": {
   "display_name": "Python 3.10.4 ('onboarding')",
   "language": "python",
   "name": "python3"
  },
  "language_info": {
   "codemirror_mode": {
    "name": "ipython",
    "version": 3
   },
   "file_extension": ".py",
   "mimetype": "text/x-python",
   "name": "python",
   "nbconvert_exporter": "python",
   "pygments_lexer": "ipython3",
   "version": "3.10.4"
  },
  "orig_nbformat": 4,
  "vscode": {
   "interpreter": {
    "hash": "57877b7f3feb1a7cf64d28d515d2ef487f55874f3acb52603d700000d2d9750c"
   }
  }
 },
 "nbformat": 4,
 "nbformat_minor": 2
}
