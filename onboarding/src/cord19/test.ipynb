{
 "cells": [
  {
   "cell_type": "code",
   "execution_count": 1,
   "metadata": {},
   "outputs": [],
   "source": [
    "from dotenv import dotenv_values"
   ]
  },
  {
   "cell_type": "code",
   "execution_count": 2,
   "metadata": {},
   "outputs": [],
   "source": [
    "env_file = '../../.env'"
   ]
  },
  {
   "cell_type": "code",
   "execution_count": 3,
   "metadata": {},
   "outputs": [],
   "source": [
    "config = dotenv_values(env_file)"
   ]
  },
  {
   "cell_type": "code",
   "execution_count": 4,
   "metadata": {},
   "outputs": [
    {
     "data": {
      "text/plain": [
       "{'dbname': 'biocuration',\n",
       " 'user': 'biocurator',\n",
       " 'password': '20050326',\n",
       " 'port': '5432',\n",
       " 'host': 'localhost'}"
      ]
     },
     "execution_count": 4,
     "metadata": {},
     "output_type": "execute_result"
    }
   ],
   "source": [
    "dict(config)"
   ]
  },
  {
   "cell_type": "code",
   "execution_count": 5,
   "metadata": {},
   "outputs": [],
   "source": [
    "import psycopg"
   ]
  },
  {
   "cell_type": "code",
   "execution_count": 6,
   "metadata": {},
   "outputs": [],
   "source": [
    "def connect(host: str, port: int, dbname: str, user: str, password: str) -> psycopg.Connection:\n",
    "  conn_str = f\"host={host} port={port} dbname={dbname} user={user} password={password}\"\n",
    "  return psycopg.connect(conn_str)"
   ]
  },
  {
   "cell_type": "code",
   "execution_count": 13,
   "metadata": {},
   "outputs": [],
   "source": [
    "conn = connect(**config)"
   ]
  },
  {
   "cell_type": "code",
   "execution_count": 14,
   "metadata": {},
   "outputs": [
    {
     "data": {
      "text/plain": [
       "<psycopg.Connection [IDLE] (host=localhost user=biocurator database=biocuration) at 0x7ff4d89f60e0>"
      ]
     },
     "execution_count": 14,
     "metadata": {},
     "output_type": "execute_result"
    }
   ],
   "source": [
    "conn"
   ]
  },
  {
   "cell_type": "code",
   "execution_count": 15,
   "metadata": {},
   "outputs": [],
   "source": [
    "conn.close()"
   ]
  },
  {
   "cell_type": "code",
   "execution_count": 13,
   "metadata": {},
   "outputs": [],
   "source": [
    "PATH_TO_METADATA = '/Users/jtrell2/data/biocuration/cord19_datasets/2021-01-12/metadata.csv'\n",
    "\n",
    "import csv\n",
    "from document import Cord19Document\n",
    "from datetime import datetime\n",
    "from os import listdir\n",
    "from pathlib import Path\n",
    "\n",
    "PROJECT = 'cord19'\n",
    "ROOT_UIC_DOCS = Path('/Users/jtrell2/data/biocuration/cord19-uic')\n",
    "\n",
    "documents = []\n",
    "\n",
    "uic_pmc_ids = listdir(ROOT_UIC_DOCS)\n",
    "\n",
    "with open(PATH_TO_METADATA) as f_in:\n",
    "  reader = csv.DictReader(f_in)\n",
    "\n",
    "  for row in reader:\n",
    "    if len(row['publish_time']) == 0:\n",
    "      publication_date = None\n",
    "    elif len(row['publish_time']) == 4:\n",
    "      publication_date = datetime(int(row['publish_time']), 1, 1)\n",
    "    else:\n",
    "      publication_date = datetime.strptime(row['publish_time'], \"%Y-%m-%d\")\n",
    "\n",
    "    uri = None\n",
    "    if row['pmcid'] in uic_pmc_ids:\n",
    "      uri = f\"{ROOT_UIC_DOCS.stem}/{row['pmcid']}\"\n",
    "\n",
    "    pubmed_id = int(row['pubmed_id']) if row['pubmed_id'].isdecimal() else None\n",
    "\n",
    "    authors = row['authors'].split('; ')\n",
    "    if len(authors[0]) == 0:\n",
    "      authors = None\n",
    "    else:\n",
    "      for author in authors:\n",
    "        author = author.replace(\"\\x00\", '')[:100]\n",
    "\n",
    "    document = Cord19Document(title=row['title'],\n",
    "                             abstract=row['abstract'],\n",
    "                             authors=authors,\n",
    "                             modalities=None,\n",
    "                             publication_date=publication_date,\n",
    "                             pmcid=row['pmcid'],\n",
    "                             pubmed_id=pubmed_id,\n",
    "                             license=row['license'],\n",
    "                             journal=row['journal'],\n",
    "                             doi=row['doi'],\n",
    "                             cord_uid=row['cord_uid'],\n",
    "                             repository=row['source_x'],\n",
    "                             uri=uri,\n",
    "                             status='IMPORTED',\n",
    "                             project=PROJECT,\n",
    "                             notes=None)\n",
    "    documents.append(document)"
   ]
  },
  {
   "cell_type": "code",
   "execution_count": 14,
   "metadata": {},
   "outputs": [
    {
     "ename": "StringDataRightTruncation",
     "evalue": "value too long for type character varying(100)\nCONTEXT:  COPY documents, line 35948, column authors: \"{\"(Shared Research Group in Ministry of Health, Labor and Welfare Scientific Research Grant for a Re...\"",
     "output_type": "error",
     "traceback": [
      "\u001b[0;31m---------------------------------------------------------------------------\u001b[0m",
      "\u001b[0;31mStringDataRightTruncation\u001b[0m                 Traceback (most recent call last)",
      "\u001b[1;32m/Users/jtrell2/repos/bio-search/onboarding/src/cord19/test.ipynb Cell 11\u001b[0m in \u001b[0;36m<cell line: 3>\u001b[0;34m()\u001b[0m\n\u001b[1;32m      <a href='vscode-notebook-cell:/Users/jtrell2/repos/bio-search/onboarding/src/cord19/test.ipynb#X13sZmlsZQ%3D%3D?line=0'>1</a>\u001b[0m conn \u001b[39m=\u001b[39m connect(\u001b[39m*\u001b[39m\u001b[39m*\u001b[39mconfig)\n\u001b[1;32m      <a href='vscode-notebook-cell:/Users/jtrell2/repos/bio-search/onboarding/src/cord19/test.ipynb#X13sZmlsZQ%3D%3D?line=2'>3</a>\u001b[0m \u001b[39mwith\u001b[39;00m conn\u001b[39m.\u001b[39mcursor() \u001b[39mas\u001b[39;00m cur:\n\u001b[0;32m----> <a href='vscode-notebook-cell:/Users/jtrell2/repos/bio-search/onboarding/src/cord19/test.ipynb#X13sZmlsZQ%3D%3D?line=3'>4</a>\u001b[0m   \u001b[39mwith\u001b[39;00m cur\u001b[39m.\u001b[39mcopy(\u001b[39m\"\u001b[39m\u001b[39mCOPY dev.documents (title, authors, abstract, publication_date, pmcid, pubmed_id, journal, repository, project, license, status, uri, doi, notes) FROM STDIN\u001b[39m\u001b[39m\"\u001b[39m) \u001b[39mas\u001b[39;00m copy:\n\u001b[1;32m      <a href='vscode-notebook-cell:/Users/jtrell2/repos/bio-search/onboarding/src/cord19/test.ipynb#X13sZmlsZQ%3D%3D?line=4'>5</a>\u001b[0m     \u001b[39mfor\u001b[39;00m d \u001b[39min\u001b[39;00m documents:\n\u001b[1;32m      <a href='vscode-notebook-cell:/Users/jtrell2/repos/bio-search/onboarding/src/cord19/test.ipynb#X13sZmlsZQ%3D%3D?line=5'>6</a>\u001b[0m       copy\u001b[39m.\u001b[39mwrite_row(d\u001b[39m.\u001b[39mto_tuple())\n",
      "File \u001b[0;32m/opt/anaconda3/envs/onboarding/lib/python3.10/contextlib.py:142\u001b[0m, in \u001b[0;36m_GeneratorContextManager.__exit__\u001b[0;34m(self, typ, value, traceback)\u001b[0m\n\u001b[1;32m    140\u001b[0m \u001b[39mif\u001b[39;00m typ \u001b[39mis\u001b[39;00m \u001b[39mNone\u001b[39;00m:\n\u001b[1;32m    141\u001b[0m     \u001b[39mtry\u001b[39;00m:\n\u001b[0;32m--> 142\u001b[0m         \u001b[39mnext\u001b[39;49m(\u001b[39mself\u001b[39;49m\u001b[39m.\u001b[39;49mgen)\n\u001b[1;32m    143\u001b[0m     \u001b[39mexcept\u001b[39;00m \u001b[39mStopIteration\u001b[39;00m:\n\u001b[1;32m    144\u001b[0m         \u001b[39mreturn\u001b[39;00m \u001b[39mFalse\u001b[39;00m\n",
      "File \u001b[0;32m/opt/anaconda3/envs/onboarding/lib/python3.10/site-packages/psycopg/cursor.py:903\u001b[0m, in \u001b[0;36mCursor.copy\u001b[0;34m(self, statement, params, writer)\u001b[0m\n\u001b[1;32m    901\u001b[0m         \u001b[39myield\u001b[39;00m copy\n\u001b[1;32m    902\u001b[0m \u001b[39mexcept\u001b[39;00m e\u001b[39m.\u001b[39mError \u001b[39mas\u001b[39;00m ex:\n\u001b[0;32m--> 903\u001b[0m     \u001b[39mraise\u001b[39;00m ex\u001b[39m.\u001b[39mwith_traceback(\u001b[39mNone\u001b[39;00m)\n\u001b[1;32m    905\u001b[0m \u001b[39m# If a fresher result has been set on the cursor by the Copy object,\u001b[39;00m\n\u001b[1;32m    906\u001b[0m \u001b[39m# read its properties (especially rowcount).\u001b[39;00m\n\u001b[1;32m    907\u001b[0m \u001b[39mself\u001b[39m\u001b[39m.\u001b[39m_select_current_result(\u001b[39m0\u001b[39m)\n",
      "\u001b[0;31mStringDataRightTruncation\u001b[0m: value too long for type character varying(100)\nCONTEXT:  COPY documents, line 35948, column authors: \"{\"(Shared Research Group in Ministry of Health, Labor and Welfare Scientific Research Grant for a Re...\""
     ]
    }
   ],
   "source": [
    "conn = connect(**config)\n",
    "\n",
    "with conn.cursor() as cur:\n",
    "  with cur.copy(\"COPY dev.documents (title, authors, abstract, publication_date, pmcid, pubmed_id, journal, repository, project, license, status, uri, doi, notes) FROM STDIN\") as copy:\n",
    "    for d in documents:\n",
    "      copy.write_row(d.to_tuple())\n",
    "\n"
   ]
  },
  {
   "cell_type": "code",
   "execution_count": 9,
   "metadata": {},
   "outputs": [
    {
     "data": {
      "text/plain": [
       "'Decima Novena Conferencia Iberoamericana en Sistemas, Cibernetica e Informatica, CISCI 2020, Decimo Septimo Simposium Iberoamericano en Educacion, Cibernetica e Informatica, SIECI 2020 - 19th Ibero-American Conference on Systems, Cybernetics and Informatics, CISCI 2020, 17th Ibero-American Symposium on Education, Cybernetics and Informatics, SIECI 2020'"
      ]
     },
     "execution_count": 9,
     "metadata": {},
     "output_type": "execute_result"
    }
   ],
   "source": [
    "max_len_abstract = 0\n",
    "t = \"\"\n",
    "for d in documents:\n",
    "  if len(d.journal) > max_len_abstract:\n",
    "    max_len_abstract = len(d.journal)\n",
    "    t = d.journal\n",
    "t"
   ]
  },
  {
   "cell_type": "code",
   "execution_count": 35,
   "metadata": {},
   "outputs": [
    {
     "data": {
      "text/plain": [
       "datetime.datetime(2008, 1, 1, 0, 0)"
      ]
     },
     "execution_count": 35,
     "metadata": {},
     "output_type": "execute_result"
    }
   ],
   "source": [
    "datetime(2008, 1, 1)"
   ]
  },
  {
   "cell_type": "code",
   "execution_count": 50,
   "metadata": {},
   "outputs": [
    {
     "data": {
      "text/plain": [
       "'cord19-uic'"
      ]
     },
     "execution_count": 50,
     "metadata": {},
     "output_type": "execute_result"
    }
   ],
   "source": [
    "from pathlib import Path\n",
    "\n",
    "ROOT_UIC_DOCS = '/Users/jtrell2/data/biocuration/cord19-uic'\n",
    "Path(ROOT_UIC_DOCS).stem"
   ]
  },
  {
   "cell_type": "code",
   "execution_count": 12,
   "metadata": {},
   "outputs": [
    {
     "data": {
      "text/plain": [
       "True"
      ]
     },
     "execution_count": 12,
     "metadata": {},
     "output_type": "execute_result"
    }
   ],
   "source": [
    "s = \"1123213\"\n",
    "s.isdecimal()"
   ]
  },
  {
   "cell_type": "code",
   "execution_count": null,
   "metadata": {},
   "outputs": [],
   "source": []
  }
 ],
 "metadata": {
  "kernelspec": {
   "display_name": "Python 3.10.4 ('onboarding')",
   "language": "python",
   "name": "python3"
  },
  "language_info": {
   "codemirror_mode": {
    "name": "ipython",
    "version": 3
   },
   "file_extension": ".py",
   "mimetype": "text/x-python",
   "name": "python",
   "nbconvert_exporter": "python",
   "pygments_lexer": "ipython3",
   "version": "3.10.4"
  },
  "orig_nbformat": 4,
  "vscode": {
   "interpreter": {
    "hash": "57877b7f3feb1a7cf64d28d515d2ef487f55874f3acb52603d700000d2d9750c"
   }
  }
 },
 "nbformat": 4,
 "nbformat_minor": 2
}
