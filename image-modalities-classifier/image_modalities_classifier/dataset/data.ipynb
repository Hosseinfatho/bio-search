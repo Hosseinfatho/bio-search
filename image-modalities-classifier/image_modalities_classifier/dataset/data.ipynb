{
 "cells": [
  {
   "cell_type": "code",
   "execution_count": 10,
   "metadata": {},
   "outputs": [],
   "source": [
    "import pandas as pd\n",
    "from pathlib import Path \n",
    "from os import listdir\n",
    "\n",
    "input_folder = Path(\"/media/cumulus/curation_data/modality_classifiers_production/data/cord19\")\n",
    "parquet_names = [el for el in listdir(input_folder) if el.endswith(\".parquet\")]\n",
    "\n",
    "def get_label(label_left, label_right):\n",
    "    if pd.notnull(label_left) and pd.notnull(label_right):\n",
    "        return label_left if len(str(label_left)) > len(str(label_right)) else label_right\n",
    "    else:\n",
    "        if pd.notnull(label_left): return label_left\n",
    "        else: return label_right\n",
    "\n",
    "def merge_dfs(df1: pd.DataFrame, df2: pd.DataFrame) -> pd.DataFrame:\n",
    "    df = df1.merge(df2, how='outer', on=\"img\", suffixes=('_left', '_right'))\n",
    "    columns = [\"source\", \"img_path\", \"caption\", \"is_gt\", \"width\", \"height\", \"original\"]\n",
    "    for column in columns:\n",
    "        df[column] = df.apply(lambda x: x[f\"{column}_left\"] if pd.notnull(x[f\"{column}_left\"]) else x[f\"{column}_right\"], axis=1)\n",
    "    df[\"label\"] = df.apply(lambda x:  get_label(x.label_left, x.label_right), axis=1)\n",
    "    columns.append(\"label\")\n",
    "    columns.append(\"img\")\n",
    "    return df[columns]"
   ]
  },
  {
   "cell_type": "code",
   "execution_count": 11,
   "metadata": {},
   "outputs": [],
   "source": [
    "df = pd.read_parquet(input_folder / parquet_names[0])\n",
    "for idx in range(len(parquet_names)- 1):\n",
    "    df_to_merge = pd.read_parquet(input_folder / parquet_names[idx + 1])\n",
    "    df = merge_dfs(df, df_to_merge)\n",
    "\n",
    "# df.to_parquet(\"./all.parquet\")"
   ]
  },
  {
   "cell_type": "code",
   "execution_count": 15,
   "metadata": {},
   "outputs": [],
   "source": [
    "df.to_parquet(\"./all.parquet\")"
   ]
  },
  {
   "cell_type": "code",
   "execution_count": 10,
   "metadata": {},
   "outputs": [],
   "source": [
    "import pandas as pd\n",
    "from pathlib import Path\n",
    "\n",
    "base_dir = Path('/home/jtt/Documents/modality_classifiers/data/cord19')\n",
    "datasets = [\n",
    "    \"cord19_electron_v1.parquet\",\n",
    "    \"cord19_experimental_v1.parquet\",\n",
    "    \"cord19_gel_v1.parquet\",\n",
    "    \"cord19_graphics_v1.parquet\",\n",
    "    \"cord19_higher-modality_v1.parquet\",\n",
    "    \"cord19_microscopy_v1.parquet\",\n",
    "    \"cord19_molecular_v1.parquet\",\n",
    "    \"cord19_radiology_v1.parquet\"\n",
    "]\n",
    "\n",
    "\n",
    "df_microscopy = pd.read_parquet(base_dir / datasets[5])\n",
    "df_electron = pd.read_parquet(base_dir / datasets[0])\n",
    "df_experimental = pd.read_parquet(base_dir / datasets[1])"
   ]
  },
  {
   "cell_type": "code",
   "execution_count": 15,
   "metadata": {},
   "outputs": [
    {
     "data": {
      "text/html": [
       "<div>\n",
       "<style scoped>\n",
       "    .dataframe tbody tr th:only-of-type {\n",
       "        vertical-align: middle;\n",
       "    }\n",
       "\n",
       "    .dataframe tbody tr th {\n",
       "        vertical-align: top;\n",
       "    }\n",
       "\n",
       "    .dataframe thead th {\n",
       "        text-align: right;\n",
       "    }\n",
       "</style>\n",
       "<table border=\"1\" class=\"dataframe\">\n",
       "  <thead>\n",
       "    <tr style=\"text-align: right;\">\n",
       "      <th></th>\n",
       "      <th>img</th>\n",
       "      <th>label</th>\n",
       "      <th>source</th>\n",
       "      <th>img_path</th>\n",
       "      <th>caption</th>\n",
       "      <th>split_set</th>\n",
       "      <th>features</th>\n",
       "      <th>prediction</th>\n",
       "      <th>width</th>\n",
       "      <th>height</th>\n",
       "      <th>pred_probs</th>\n",
       "      <th>ms_metric</th>\n",
       "      <th>en_metric</th>\n",
       "      <th>is_gt</th>\n",
       "    </tr>\n",
       "  </thead>\n",
       "  <tbody>\n",
       "    <tr>\n",
       "      <th>9912</th>\n",
       "      <td>10049825_2_P1.bmp</td>\n",
       "      <td>exp.pla</td>\n",
       "      <td>udel-plate</td>\n",
       "      <td>plates/udel_plates_batch_1/raw/10049825_2_P1.bmp</td>\n",
       "      <td></td>\n",
       "      <td>TRAIN</td>\n",
       "      <td>[1.567799, 0.92812777, 0.045118928, 0.09270513...</td>\n",
       "      <td>exp.pla</td>\n",
       "      <td>1028</td>\n",
       "      <td>833</td>\n",
       "      <td>[0.0006028650677762926, 0.9993971586227417]</td>\n",
       "      <td>NaN</td>\n",
       "      <td>NaN</td>\n",
       "      <td>True</td>\n",
       "    </tr>\n",
       "    <tr>\n",
       "      <th>9913</th>\n",
       "      <td>10074103_1_P2.bmp</td>\n",
       "      <td>exp.pla</td>\n",
       "      <td>udel-plate</td>\n",
       "      <td>plates/udel_plates_batch_1/raw/10074103_1_P2.bmp</td>\n",
       "      <td></td>\n",
       "      <td>TRAIN</td>\n",
       "      <td>[0.9221196, 1.1748763, 0.15570302, 0.28180322,...</td>\n",
       "      <td>exp.pla</td>\n",
       "      <td>1851</td>\n",
       "      <td>521</td>\n",
       "      <td>[0.03546514734625816, 0.9645348787307739]</td>\n",
       "      <td>NaN</td>\n",
       "      <td>NaN</td>\n",
       "      <td>True</td>\n",
       "    </tr>\n",
       "    <tr>\n",
       "      <th>9914</th>\n",
       "      <td>10074103_8_P1.bmp</td>\n",
       "      <td>exp.pla</td>\n",
       "      <td>udel-plate</td>\n",
       "      <td>plates/udel_plates_batch_1/raw/10074103_8_P1.bmp</td>\n",
       "      <td></td>\n",
       "      <td>TRAIN</td>\n",
       "      <td>[2.8431838, 2.2484183, 0.1148451, 0.07099429, ...</td>\n",
       "      <td>exp.pla</td>\n",
       "      <td>1955</td>\n",
       "      <td>1336</td>\n",
       "      <td>[7.20768584869802e-05, 0.9999278783798218]</td>\n",
       "      <td>NaN</td>\n",
       "      <td>NaN</td>\n",
       "      <td>True</td>\n",
       "    </tr>\n",
       "    <tr>\n",
       "      <th>9915</th>\n",
       "      <td>10087260_5_P1.bmp</td>\n",
       "      <td>exp.pla</td>\n",
       "      <td>udel-plate</td>\n",
       "      <td>plates/udel_plates_batch_1/raw/10087260_5_P1.bmp</td>\n",
       "      <td></td>\n",
       "      <td>TRAIN</td>\n",
       "      <td>[2.2030323, 2.1099832, 0.0, 0.0, 0.0, 4.029882...</td>\n",
       "      <td>exp.pla</td>\n",
       "      <td>449</td>\n",
       "      <td>331</td>\n",
       "      <td>[0.0010101338848471642, 0.9989898800849915]</td>\n",
       "      <td>NaN</td>\n",
       "      <td>NaN</td>\n",
       "      <td>True</td>\n",
       "    </tr>\n",
       "    <tr>\n",
       "      <th>9916</th>\n",
       "      <td>10087260_7_P1.bmp</td>\n",
       "      <td>exp.pla</td>\n",
       "      <td>udel-plate</td>\n",
       "      <td>plates/udel_plates_batch_1/raw/10087260_7_P1.bmp</td>\n",
       "      <td></td>\n",
       "      <td>TRAIN</td>\n",
       "      <td>[0.24758016, 0.969312, 0.062906325, 0.00778884...</td>\n",
       "      <td>exp.pla</td>\n",
       "      <td>749</td>\n",
       "      <td>319</td>\n",
       "      <td>[0.013996346853673458, 0.9860036969184875]</td>\n",
       "      <td>NaN</td>\n",
       "      <td>NaN</td>\n",
       "      <td>True</td>\n",
       "    </tr>\n",
       "  </tbody>\n",
       "</table>\n",
       "</div>"
      ],
      "text/plain": [
       "                    img    label      source  \\\n",
       "9912  10049825_2_P1.bmp  exp.pla  udel-plate   \n",
       "9913  10074103_1_P2.bmp  exp.pla  udel-plate   \n",
       "9914  10074103_8_P1.bmp  exp.pla  udel-plate   \n",
       "9915  10087260_5_P1.bmp  exp.pla  udel-plate   \n",
       "9916  10087260_7_P1.bmp  exp.pla  udel-plate   \n",
       "\n",
       "                                              img_path caption split_set  \\\n",
       "9912  plates/udel_plates_batch_1/raw/10049825_2_P1.bmp             TRAIN   \n",
       "9913  plates/udel_plates_batch_1/raw/10074103_1_P2.bmp             TRAIN   \n",
       "9914  plates/udel_plates_batch_1/raw/10074103_8_P1.bmp             TRAIN   \n",
       "9915  plates/udel_plates_batch_1/raw/10087260_5_P1.bmp             TRAIN   \n",
       "9916  plates/udel_plates_batch_1/raw/10087260_7_P1.bmp             TRAIN   \n",
       "\n",
       "                                               features prediction  width  \\\n",
       "9912  [1.567799, 0.92812777, 0.045118928, 0.09270513...    exp.pla   1028   \n",
       "9913  [0.9221196, 1.1748763, 0.15570302, 0.28180322,...    exp.pla   1851   \n",
       "9914  [2.8431838, 2.2484183, 0.1148451, 0.07099429, ...    exp.pla   1955   \n",
       "9915  [2.2030323, 2.1099832, 0.0, 0.0, 0.0, 4.029882...    exp.pla    449   \n",
       "9916  [0.24758016, 0.969312, 0.062906325, 0.00778884...    exp.pla    749   \n",
       "\n",
       "      height                                   pred_probs  ms_metric  \\\n",
       "9912     833  [0.0006028650677762926, 0.9993971586227417]        NaN   \n",
       "9913     521    [0.03546514734625816, 0.9645348787307739]        NaN   \n",
       "9914    1336   [7.20768584869802e-05, 0.9999278783798218]        NaN   \n",
       "9915     331  [0.0010101338848471642, 0.9989898800849915]        NaN   \n",
       "9916     319   [0.013996346853673458, 0.9860036969184875]        NaN   \n",
       "\n",
       "      en_metric  is_gt  \n",
       "9912        NaN   True  \n",
       "9913        NaN   True  \n",
       "9914        NaN   True  \n",
       "9915        NaN   True  \n",
       "9916        NaN   True  "
      ]
     },
     "execution_count": 15,
     "metadata": {},
     "output_type": "execute_result"
    }
   ],
   "source": [
    "df_experimental[df_experimental.source == \"udel-plate\"].head()"
   ]
  },
  {
   "cell_type": "code",
   "execution_count": 4,
   "metadata": {},
   "outputs": [],
   "source": [
    "def get_label(label_left, label_right):\n",
    "    if pd.notnull(label_left) and pd.notnull(label_right):\n",
    "        return label_left if len(str(label_left)) > len(str(label_right)) else label_right\n",
    "    else:\n",
    "        if pd.notnull(label_left): return label_left\n",
    "        else: return label_right\n",
    "\n",
    "def merge_dfs(df1: pd.DataFrame, df2: pd.DataFrame) -> pd.DataFrame:\n",
    "    df = df1.merge(df2, how='outer', on=\"img\", suffixes=('_left', '_right'))\n",
    "    columns = [\"source\", \"img_path\", \"caption\", \"is_gt\", \"width\", \"height\"]\n",
    "    for column in columns:\n",
    "        df[column] = df.apply(lambda x: x[f\"{column}_left\"] if pd.notnull(x[f\"{column}_left\"]) else x[f\"{column}_right\"], axis=1)\n",
    "    df[\"label\"] = df.apply(lambda x:  get_label(x.label_left, x.label_right), axis=1)\n",
    "    columns.append(\"label\")\n",
    "    columns.append(\"img\")\n",
    "    return df[columns]"
   ]
  },
  {
   "cell_type": "code",
   "execution_count": 36,
   "metadata": {},
   "outputs": [],
   "source": [
    "# df = pd.read_parquet(base_dir / datasets[0])\n",
    "# for idx in range(len(datasets)- 1):\n",
    "#     df_to_merge = pd.read_parquet(base_dir / datasets[idx + 1])\n",
    "#     df = merge_dfs(df, df_to_merge)\n",
    "\n",
    "# df.to_parquet(\"./all.parquet\")"
   ]
  },
  {
   "cell_type": "code",
   "execution_count": 27,
   "metadata": {},
   "outputs": [
    {
     "data": {
      "text/html": [
       "<div>\n",
       "<style scoped>\n",
       "    .dataframe tbody tr th:only-of-type {\n",
       "        vertical-align: middle;\n",
       "    }\n",
       "\n",
       "    .dataframe tbody tr th {\n",
       "        vertical-align: top;\n",
       "    }\n",
       "\n",
       "    .dataframe thead th {\n",
       "        text-align: right;\n",
       "    }\n",
       "</style>\n",
       "<table border=\"1\" class=\"dataframe\">\n",
       "  <thead>\n",
       "    <tr style=\"text-align: right;\">\n",
       "      <th></th>\n",
       "      <th>label</th>\n",
       "      <th>img</th>\n",
       "    </tr>\n",
       "  </thead>\n",
       "  <tbody>\n",
       "    <tr>\n",
       "      <th>0</th>\n",
       "      <td>exp.gel</td>\n",
       "      <td>15490</td>\n",
       "    </tr>\n",
       "    <tr>\n",
       "      <th>1</th>\n",
       "      <td>exp.gel.nor</td>\n",
       "      <td>16</td>\n",
       "    </tr>\n",
       "    <tr>\n",
       "      <th>2</th>\n",
       "      <td>exp.gel.oth</td>\n",
       "      <td>5</td>\n",
       "    </tr>\n",
       "    <tr>\n",
       "      <th>3</th>\n",
       "      <td>exp.gel.rpc</td>\n",
       "      <td>29</td>\n",
       "    </tr>\n",
       "    <tr>\n",
       "      <th>4</th>\n",
       "      <td>exp.gel.wes</td>\n",
       "      <td>197</td>\n",
       "    </tr>\n",
       "    <tr>\n",
       "      <th>5</th>\n",
       "      <td>exp.pla</td>\n",
       "      <td>591</td>\n",
       "    </tr>\n",
       "    <tr>\n",
       "      <th>6</th>\n",
       "      <td>gra</td>\n",
       "      <td>5751</td>\n",
       "    </tr>\n",
       "    <tr>\n",
       "      <th>7</th>\n",
       "      <td>gra.his</td>\n",
       "      <td>49407</td>\n",
       "    </tr>\n",
       "    <tr>\n",
       "      <th>8</th>\n",
       "      <td>gra.lin</td>\n",
       "      <td>49817</td>\n",
       "    </tr>\n",
       "    <tr>\n",
       "      <th>9</th>\n",
       "      <td>gra.oth</td>\n",
       "      <td>72396</td>\n",
       "    </tr>\n",
       "    <tr>\n",
       "      <th>10</th>\n",
       "      <td>gra.sca</td>\n",
       "      <td>43878</td>\n",
       "    </tr>\n",
       "    <tr>\n",
       "      <th>11</th>\n",
       "      <td>mic</td>\n",
       "      <td>16</td>\n",
       "    </tr>\n",
       "    <tr>\n",
       "      <th>12</th>\n",
       "      <td>mic.ele.oth</td>\n",
       "      <td>2</td>\n",
       "    </tr>\n",
       "    <tr>\n",
       "      <th>13</th>\n",
       "      <td>mic.ele.sca</td>\n",
       "      <td>348</td>\n",
       "    </tr>\n",
       "    <tr>\n",
       "      <th>14</th>\n",
       "      <td>mic.ele.tra</td>\n",
       "      <td>492</td>\n",
       "    </tr>\n",
       "    <tr>\n",
       "      <th>15</th>\n",
       "      <td>mic.flu</td>\n",
       "      <td>1433</td>\n",
       "    </tr>\n",
       "    <tr>\n",
       "      <th>16</th>\n",
       "      <td>mic.lig</td>\n",
       "      <td>1478</td>\n",
       "    </tr>\n",
       "    <tr>\n",
       "      <th>17</th>\n",
       "      <td>mol.3ds</td>\n",
       "      <td>192</td>\n",
       "    </tr>\n",
       "    <tr>\n",
       "      <th>18</th>\n",
       "      <td>mol.che</td>\n",
       "      <td>262</td>\n",
       "    </tr>\n",
       "    <tr>\n",
       "      <th>19</th>\n",
       "      <td>mol.dna</td>\n",
       "      <td>407</td>\n",
       "    </tr>\n",
       "    <tr>\n",
       "      <th>20</th>\n",
       "      <td>mol.pro</td>\n",
       "      <td>183</td>\n",
       "    </tr>\n",
       "    <tr>\n",
       "      <th>21</th>\n",
       "      <td>oth</td>\n",
       "      <td>844</td>\n",
       "    </tr>\n",
       "    <tr>\n",
       "      <th>22</th>\n",
       "      <td>pho</td>\n",
       "      <td>236</td>\n",
       "    </tr>\n",
       "    <tr>\n",
       "      <th>23</th>\n",
       "      <td>rad</td>\n",
       "      <td>245</td>\n",
       "    </tr>\n",
       "    <tr>\n",
       "      <th>24</th>\n",
       "      <td>rad.ang</td>\n",
       "      <td>147</td>\n",
       "    </tr>\n",
       "    <tr>\n",
       "      <th>25</th>\n",
       "      <td>rad.cmp</td>\n",
       "      <td>1607</td>\n",
       "    </tr>\n",
       "    <tr>\n",
       "      <th>26</th>\n",
       "      <td>rad.uls</td>\n",
       "      <td>227</td>\n",
       "    </tr>\n",
       "    <tr>\n",
       "      <th>27</th>\n",
       "      <td>rad.xra</td>\n",
       "      <td>971</td>\n",
       "    </tr>\n",
       "  </tbody>\n",
       "</table>\n",
       "</div>"
      ],
      "text/plain": [
       "          label    img\n",
       "0       exp.gel  15490\n",
       "1   exp.gel.nor     16\n",
       "2   exp.gel.oth      5\n",
       "3   exp.gel.rpc     29\n",
       "4   exp.gel.wes    197\n",
       "5       exp.pla    591\n",
       "6           gra   5751\n",
       "7       gra.his  49407\n",
       "8       gra.lin  49817\n",
       "9       gra.oth  72396\n",
       "10      gra.sca  43878\n",
       "11          mic     16\n",
       "12  mic.ele.oth      2\n",
       "13  mic.ele.sca    348\n",
       "14  mic.ele.tra    492\n",
       "15      mic.flu   1433\n",
       "16      mic.lig   1478\n",
       "17      mol.3ds    192\n",
       "18      mol.che    262\n",
       "19      mol.dna    407\n",
       "20      mol.pro    183\n",
       "21          oth    844\n",
       "22          pho    236\n",
       "23          rad    245\n",
       "24      rad.ang    147\n",
       "25      rad.cmp   1607\n",
       "26      rad.uls    227\n",
       "27      rad.xra    971"
      ]
     },
     "execution_count": 27,
     "metadata": {},
     "output_type": "execute_result"
    }
   ],
   "source": [
    "df = pd.read_parquet(\"./all.parquet\")\n",
    "df[df.is_gt==True].groupby([\"label\"])[\"img\"].count().reset_index()"
   ]
  },
  {
   "cell_type": "code",
   "execution_count": 47,
   "metadata": {},
   "outputs": [
    {
     "data": {
      "text/html": [
       "<div>\n",
       "<style scoped>\n",
       "    .dataframe tbody tr th:only-of-type {\n",
       "        vertical-align: middle;\n",
       "    }\n",
       "\n",
       "    .dataframe tbody tr th {\n",
       "        vertical-align: top;\n",
       "    }\n",
       "\n",
       "    .dataframe thead th {\n",
       "        text-align: right;\n",
       "    }\n",
       "</style>\n",
       "<table border=\"1\" class=\"dataframe\">\n",
       "  <thead>\n",
       "    <tr style=\"text-align: right;\">\n",
       "      <th></th>\n",
       "      <th>source</th>\n",
       "      <th>img_path</th>\n",
       "      <th>caption</th>\n",
       "      <th>is_gt</th>\n",
       "      <th>width</th>\n",
       "      <th>height</th>\n",
       "      <th>label</th>\n",
       "      <th>img</th>\n",
       "    </tr>\n",
       "  </thead>\n",
       "  <tbody>\n",
       "    <tr>\n",
       "      <th>672</th>\n",
       "      <td>tinman</td>\n",
       "      <td>tinman/p32155444/32155444/19_1/001.jpg</td>\n",
       "      <td>Figure S1. Cryo-EM Data Processing and Validat...</td>\n",
       "      <td>True</td>\n",
       "      <td>290.0</td>\n",
       "      <td>77.0</td>\n",
       "      <td>mic.ele.oth</td>\n",
       "      <td>5e94910b5c3750776fae9671</td>\n",
       "    </tr>\n",
       "    <tr>\n",
       "      <th>840</th>\n",
       "      <td>tinman</td>\n",
       "      <td>tinman/p32155444/32155444/19_1/003.jpg</td>\n",
       "      <td>Figure S1. Cryo-EM Data Processing and Validat...</td>\n",
       "      <td>True</td>\n",
       "      <td>286.0</td>\n",
       "      <td>293.0</td>\n",
       "      <td>mic.ele.oth</td>\n",
       "      <td>5e94910b5c3750776fae966f</td>\n",
       "    </tr>\n",
       "  </tbody>\n",
       "</table>\n",
       "</div>"
      ],
      "text/plain": [
       "     source                                img_path  \\\n",
       "672  tinman  tinman/p32155444/32155444/19_1/001.jpg   \n",
       "840  tinman  tinman/p32155444/32155444/19_1/003.jpg   \n",
       "\n",
       "                                               caption  is_gt  width  height  \\\n",
       "672  Figure S1. Cryo-EM Data Processing and Validat...   True  290.0    77.0   \n",
       "840  Figure S1. Cryo-EM Data Processing and Validat...   True  286.0   293.0   \n",
       "\n",
       "           label                       img  \n",
       "672  mic.ele.oth  5e94910b5c3750776fae9671  \n",
       "840  mic.ele.oth  5e94910b5c3750776fae966f  "
      ]
     },
     "execution_count": 47,
     "metadata": {},
     "output_type": "execute_result"
    }
   ],
   "source": [
    "df[(df.label==\"mic.ele.oth\")].head()"
   ]
  },
  {
   "cell_type": "code",
   "execution_count": 24,
   "metadata": {},
   "outputs": [
    {
     "name": "stderr",
     "output_type": "stream",
     "text": [
      "/tmp/ipykernel_7413/3552456988.py:2: SettingWithCopyWarning: \n",
      "A value is trying to be set on a copy of a slice from a DataFrame.\n",
      "Try using .loc[row_indexer,col_indexer] = value instead\n",
      "\n",
      "See the caveats in the documentation: https://pandas.pydata.org/pandas-docs/stable/user_guide/indexing.html#returning-a-view-versus-a-copy\n",
      "  df_tinman[\"original\"] = df_tinman.label\n"
     ]
    }
   ],
   "source": [
    "df_tinman = df[df.source==\"tinman\"]\n",
    "df_tinman[\"original\"] = df_tinman.label\n",
    "df_tinman.to_parquet(\"../data/tinman.parquet\")"
   ]
  },
  {
   "cell_type": "code",
   "execution_count": 19,
   "metadata": {},
   "outputs": [
    {
     "data": {
      "text/plain": [
       "array(['clef16', 'clef13', 'tinman', 'udel-gel', 'udel-plate',\n",
       "       'chart-synth', 'chart-2020', 'openi'], dtype=object)"
      ]
     },
     "execution_count": 19,
     "metadata": {},
     "output_type": "execute_result"
    }
   ],
   "source": [
    "df[df.is_gt==True].source.unique()"
   ]
  },
  {
   "cell_type": "code",
   "execution_count": 43,
   "metadata": {},
   "outputs": [],
   "source": [
    "from os import listdir\n",
    "from PIL import Image\n",
    "\n",
    "def df_from_disk_no_captions(base_dir: str, rel_dir: str, label: str, source: str):\n",
    "    dir_path = Path(base_dir) / rel_dir\n",
    "    img_names = [x for x in listdir(dir_path) if x.lower().endswith((\".jpg\", \".png\", \".jpeg\"))]\n",
    "    widths = []\n",
    "    heights = []\n",
    "\n",
    "    for img_name in img_names:\n",
    "        img = Image.open(dir_path / img_name)\n",
    "        width, height = img.size\n",
    "        widths.append(width)\n",
    "        heights.append(height)\n",
    "    img_paths = [str(Path(rel_dir) / x) for x in img_names]\n",
    "    df = pd.DataFrame(list(zip(img_names, img_paths, widths, heights)), columns=[\"img\", \"img_path\", \"width\", \"height\"])\n",
    "    df[\"label\"] = label\n",
    "    df[\"source\"] = source\n",
    "    df[\"caption\"] = \"\"\n",
    "    df[\"is_gt\"] = True\n",
    "    return df\n"
   ]
  },
  {
   "cell_type": "code",
   "execution_count": 44,
   "metadata": {},
   "outputs": [],
   "source": [
    "df_cts_sars_cov2 = df_from_disk_no_captions('/media/cumulus/curation_data', \"ct_scans/kaggle_sars_cov2\", \"rad.cmp\", \"kaggle-ct\")\n",
    "df_cts_covid_ct = df_from_disk_no_captions('/media/cumulus/curation_data', \"ct_scans/COVID-CT\", \"rad.cmp\", \"covid-ct\")\n",
    "df_xrays_radiography = df_from_disk_no_captions('/media/cumulus/curation_data', \"x_rays/kaggle_covid_radiography\", \"rad.xra\", \"kaggle-rad\")\n",
    "df_xrays_chest = df_from_disk_no_captions('/media/cumulus/curation_data', \"x_rays/kaggle_xrays_covid19_pneumonia\", \"rad.xra\", \"kaggle-chest\")"
   ]
  },
  {
   "cell_type": "code",
   "execution_count": 45,
   "metadata": {},
   "outputs": [],
   "source": [
    "# df_xrays_nih = df_from_disk_no_captions('/media/cumulus/curation_data', \"xrays/images\", \"rad.xra\", \"nih-chest\")\n",
    "df_xrays_nih = pd.read_parquet(\"./xrays_nih.parquet\")"
   ]
  },
  {
   "cell_type": "code",
   "execution_count": 46,
   "metadata": {},
   "outputs": [],
   "source": [
    "df_all = pd.concat([df[df.is_gt==True], df_cts_sars_cov2, df_cts_covid_ct, df_xrays_radiography, df_xrays_chest, df_xrays_nih])"
   ]
  },
  {
   "cell_type": "code",
   "execution_count": 47,
   "metadata": {},
   "outputs": [
    {
     "data": {
      "text/html": [
       "<div>\n",
       "<style scoped>\n",
       "    .dataframe tbody tr th:only-of-type {\n",
       "        vertical-align: middle;\n",
       "    }\n",
       "\n",
       "    .dataframe tbody tr th {\n",
       "        vertical-align: top;\n",
       "    }\n",
       "\n",
       "    .dataframe thead th {\n",
       "        text-align: right;\n",
       "    }\n",
       "</style>\n",
       "<table border=\"1\" class=\"dataframe\">\n",
       "  <thead>\n",
       "    <tr style=\"text-align: right;\">\n",
       "      <th></th>\n",
       "      <th>source</th>\n",
       "      <th>img_path</th>\n",
       "      <th>caption</th>\n",
       "      <th>is_gt</th>\n",
       "      <th>width</th>\n",
       "      <th>height</th>\n",
       "      <th>img</th>\n",
       "    </tr>\n",
       "    <tr>\n",
       "      <th>label</th>\n",
       "      <th></th>\n",
       "      <th></th>\n",
       "      <th></th>\n",
       "      <th></th>\n",
       "      <th></th>\n",
       "      <th></th>\n",
       "      <th></th>\n",
       "    </tr>\n",
       "  </thead>\n",
       "  <tbody>\n",
       "    <tr>\n",
       "      <th>exp.gel</th>\n",
       "      <td>15490</td>\n",
       "      <td>15490</td>\n",
       "      <td>15490</td>\n",
       "      <td>15490</td>\n",
       "      <td>15490</td>\n",
       "      <td>15490</td>\n",
       "      <td>15490</td>\n",
       "    </tr>\n",
       "    <tr>\n",
       "      <th>exp.gel.nor</th>\n",
       "      <td>16</td>\n",
       "      <td>16</td>\n",
       "      <td>16</td>\n",
       "      <td>16</td>\n",
       "      <td>16</td>\n",
       "      <td>16</td>\n",
       "      <td>16</td>\n",
       "    </tr>\n",
       "    <tr>\n",
       "      <th>exp.gel.oth</th>\n",
       "      <td>5</td>\n",
       "      <td>5</td>\n",
       "      <td>5</td>\n",
       "      <td>5</td>\n",
       "      <td>5</td>\n",
       "      <td>5</td>\n",
       "      <td>5</td>\n",
       "    </tr>\n",
       "    <tr>\n",
       "      <th>exp.gel.rpc</th>\n",
       "      <td>29</td>\n",
       "      <td>29</td>\n",
       "      <td>29</td>\n",
       "      <td>29</td>\n",
       "      <td>29</td>\n",
       "      <td>29</td>\n",
       "      <td>29</td>\n",
       "    </tr>\n",
       "    <tr>\n",
       "      <th>exp.gel.wes</th>\n",
       "      <td>197</td>\n",
       "      <td>197</td>\n",
       "      <td>197</td>\n",
       "      <td>197</td>\n",
       "      <td>197</td>\n",
       "      <td>197</td>\n",
       "      <td>197</td>\n",
       "    </tr>\n",
       "    <tr>\n",
       "      <th>exp.pla</th>\n",
       "      <td>591</td>\n",
       "      <td>591</td>\n",
       "      <td>591</td>\n",
       "      <td>591</td>\n",
       "      <td>591</td>\n",
       "      <td>591</td>\n",
       "      <td>591</td>\n",
       "    </tr>\n",
       "    <tr>\n",
       "      <th>gra</th>\n",
       "      <td>5751</td>\n",
       "      <td>5751</td>\n",
       "      <td>5751</td>\n",
       "      <td>5751</td>\n",
       "      <td>5751</td>\n",
       "      <td>5751</td>\n",
       "      <td>5751</td>\n",
       "    </tr>\n",
       "    <tr>\n",
       "      <th>gra.his</th>\n",
       "      <td>49407</td>\n",
       "      <td>49407</td>\n",
       "      <td>49407</td>\n",
       "      <td>49407</td>\n",
       "      <td>49407</td>\n",
       "      <td>49407</td>\n",
       "      <td>49407</td>\n",
       "    </tr>\n",
       "    <tr>\n",
       "      <th>gra.lin</th>\n",
       "      <td>49817</td>\n",
       "      <td>49817</td>\n",
       "      <td>49817</td>\n",
       "      <td>49817</td>\n",
       "      <td>49817</td>\n",
       "      <td>49817</td>\n",
       "      <td>49817</td>\n",
       "    </tr>\n",
       "    <tr>\n",
       "      <th>gra.oth</th>\n",
       "      <td>72396</td>\n",
       "      <td>72396</td>\n",
       "      <td>72396</td>\n",
       "      <td>72396</td>\n",
       "      <td>72396</td>\n",
       "      <td>72396</td>\n",
       "      <td>72396</td>\n",
       "    </tr>\n",
       "    <tr>\n",
       "      <th>gra.sca</th>\n",
       "      <td>43878</td>\n",
       "      <td>43878</td>\n",
       "      <td>43878</td>\n",
       "      <td>43878</td>\n",
       "      <td>43878</td>\n",
       "      <td>43878</td>\n",
       "      <td>43878</td>\n",
       "    </tr>\n",
       "    <tr>\n",
       "      <th>mic</th>\n",
       "      <td>16</td>\n",
       "      <td>16</td>\n",
       "      <td>16</td>\n",
       "      <td>16</td>\n",
       "      <td>16</td>\n",
       "      <td>16</td>\n",
       "      <td>16</td>\n",
       "    </tr>\n",
       "    <tr>\n",
       "      <th>mic.ele.oth</th>\n",
       "      <td>2</td>\n",
       "      <td>2</td>\n",
       "      <td>2</td>\n",
       "      <td>2</td>\n",
       "      <td>2</td>\n",
       "      <td>2</td>\n",
       "      <td>2</td>\n",
       "    </tr>\n",
       "    <tr>\n",
       "      <th>mic.ele.sca</th>\n",
       "      <td>348</td>\n",
       "      <td>348</td>\n",
       "      <td>348</td>\n",
       "      <td>348</td>\n",
       "      <td>348</td>\n",
       "      <td>348</td>\n",
       "      <td>348</td>\n",
       "    </tr>\n",
       "    <tr>\n",
       "      <th>mic.ele.tra</th>\n",
       "      <td>492</td>\n",
       "      <td>492</td>\n",
       "      <td>492</td>\n",
       "      <td>492</td>\n",
       "      <td>492</td>\n",
       "      <td>492</td>\n",
       "      <td>492</td>\n",
       "    </tr>\n",
       "    <tr>\n",
       "      <th>mic.flu</th>\n",
       "      <td>1433</td>\n",
       "      <td>1433</td>\n",
       "      <td>1433</td>\n",
       "      <td>1433</td>\n",
       "      <td>1433</td>\n",
       "      <td>1433</td>\n",
       "      <td>1433</td>\n",
       "    </tr>\n",
       "    <tr>\n",
       "      <th>mic.lig</th>\n",
       "      <td>1478</td>\n",
       "      <td>1478</td>\n",
       "      <td>1478</td>\n",
       "      <td>1478</td>\n",
       "      <td>1478</td>\n",
       "      <td>1478</td>\n",
       "      <td>1478</td>\n",
       "    </tr>\n",
       "    <tr>\n",
       "      <th>mol.3ds</th>\n",
       "      <td>192</td>\n",
       "      <td>192</td>\n",
       "      <td>192</td>\n",
       "      <td>192</td>\n",
       "      <td>192</td>\n",
       "      <td>192</td>\n",
       "      <td>192</td>\n",
       "    </tr>\n",
       "    <tr>\n",
       "      <th>mol.che</th>\n",
       "      <td>262</td>\n",
       "      <td>262</td>\n",
       "      <td>262</td>\n",
       "      <td>262</td>\n",
       "      <td>262</td>\n",
       "      <td>262</td>\n",
       "      <td>262</td>\n",
       "    </tr>\n",
       "    <tr>\n",
       "      <th>mol.dna</th>\n",
       "      <td>407</td>\n",
       "      <td>407</td>\n",
       "      <td>407</td>\n",
       "      <td>407</td>\n",
       "      <td>407</td>\n",
       "      <td>407</td>\n",
       "      <td>407</td>\n",
       "    </tr>\n",
       "    <tr>\n",
       "      <th>mol.pro</th>\n",
       "      <td>183</td>\n",
       "      <td>183</td>\n",
       "      <td>183</td>\n",
       "      <td>183</td>\n",
       "      <td>183</td>\n",
       "      <td>183</td>\n",
       "      <td>183</td>\n",
       "    </tr>\n",
       "    <tr>\n",
       "      <th>oth</th>\n",
       "      <td>844</td>\n",
       "      <td>844</td>\n",
       "      <td>844</td>\n",
       "      <td>844</td>\n",
       "      <td>844</td>\n",
       "      <td>844</td>\n",
       "      <td>844</td>\n",
       "    </tr>\n",
       "    <tr>\n",
       "      <th>pho</th>\n",
       "      <td>236</td>\n",
       "      <td>236</td>\n",
       "      <td>236</td>\n",
       "      <td>236</td>\n",
       "      <td>236</td>\n",
       "      <td>236</td>\n",
       "      <td>236</td>\n",
       "    </tr>\n",
       "    <tr>\n",
       "      <th>rad</th>\n",
       "      <td>245</td>\n",
       "      <td>245</td>\n",
       "      <td>245</td>\n",
       "      <td>245</td>\n",
       "      <td>245</td>\n",
       "      <td>245</td>\n",
       "      <td>245</td>\n",
       "    </tr>\n",
       "    <tr>\n",
       "      <th>rad.ang</th>\n",
       "      <td>147</td>\n",
       "      <td>147</td>\n",
       "      <td>147</td>\n",
       "      <td>147</td>\n",
       "      <td>147</td>\n",
       "      <td>147</td>\n",
       "      <td>147</td>\n",
       "    </tr>\n",
       "    <tr>\n",
       "      <th>rad.cmp</th>\n",
       "      <td>4834</td>\n",
       "      <td>4834</td>\n",
       "      <td>4834</td>\n",
       "      <td>4834</td>\n",
       "      <td>4834</td>\n",
       "      <td>4834</td>\n",
       "      <td>4834</td>\n",
       "    </tr>\n",
       "    <tr>\n",
       "      <th>rad.uls</th>\n",
       "      <td>227</td>\n",
       "      <td>227</td>\n",
       "      <td>227</td>\n",
       "      <td>227</td>\n",
       "      <td>227</td>\n",
       "      <td>227</td>\n",
       "      <td>227</td>\n",
       "    </tr>\n",
       "    <tr>\n",
       "      <th>rad.xra</th>\n",
       "      <td>140688</td>\n",
       "      <td>140688</td>\n",
       "      <td>140688</td>\n",
       "      <td>140688</td>\n",
       "      <td>140688</td>\n",
       "      <td>140688</td>\n",
       "      <td>140688</td>\n",
       "    </tr>\n",
       "  </tbody>\n",
       "</table>\n",
       "</div>"
      ],
      "text/plain": [
       "             source  img_path  caption   is_gt   width  height     img\n",
       "label                                                                 \n",
       "exp.gel       15490     15490    15490   15490   15490   15490   15490\n",
       "exp.gel.nor      16        16       16      16      16      16      16\n",
       "exp.gel.oth       5         5        5       5       5       5       5\n",
       "exp.gel.rpc      29        29       29      29      29      29      29\n",
       "exp.gel.wes     197       197      197     197     197     197     197\n",
       "exp.pla         591       591      591     591     591     591     591\n",
       "gra            5751      5751     5751    5751    5751    5751    5751\n",
       "gra.his       49407     49407    49407   49407   49407   49407   49407\n",
       "gra.lin       49817     49817    49817   49817   49817   49817   49817\n",
       "gra.oth       72396     72396    72396   72396   72396   72396   72396\n",
       "gra.sca       43878     43878    43878   43878   43878   43878   43878\n",
       "mic              16        16       16      16      16      16      16\n",
       "mic.ele.oth       2         2        2       2       2       2       2\n",
       "mic.ele.sca     348       348      348     348     348     348     348\n",
       "mic.ele.tra     492       492      492     492     492     492     492\n",
       "mic.flu        1433      1433     1433    1433    1433    1433    1433\n",
       "mic.lig        1478      1478     1478    1478    1478    1478    1478\n",
       "mol.3ds         192       192      192     192     192     192     192\n",
       "mol.che         262       262      262     262     262     262     262\n",
       "mol.dna         407       407      407     407     407     407     407\n",
       "mol.pro         183       183      183     183     183     183     183\n",
       "oth             844       844      844     844     844     844     844\n",
       "pho             236       236      236     236     236     236     236\n",
       "rad             245       245      245     245     245     245     245\n",
       "rad.ang         147       147      147     147     147     147     147\n",
       "rad.cmp        4834      4834     4834    4834    4834    4834    4834\n",
       "rad.uls         227       227      227     227     227     227     227\n",
       "rad.xra      140688    140688   140688  140688  140688  140688  140688"
      ]
     },
     "execution_count": 47,
     "metadata": {},
     "output_type": "execute_result"
    }
   ],
   "source": [
    "df_all.groupby(\"label\").count()"
   ]
  },
  {
   "cell_type": "code",
   "execution_count": 49,
   "metadata": {},
   "outputs": [
    {
     "data": {
      "text/plain": [
       "(389611, 8)"
      ]
     },
     "execution_count": 49,
     "metadata": {},
     "output_type": "execute_result"
    }
   ],
   "source": [
    "df_all.shape"
   ]
  },
  {
   "cell_type": "code",
   "execution_count": 50,
   "metadata": {},
   "outputs": [],
   "source": [
    "df_all.to_parquet(\"df_labeled_data.parquet\")"
   ]
  },
  {
   "cell_type": "code",
   "execution_count": 1,
   "metadata": {},
   "outputs": [
    {
     "ename": "NameError",
     "evalue": "name 'df' is not defined",
     "output_type": "error",
     "traceback": [
      "\u001b[0;31m---------------------------------------------------------------------------\u001b[0m",
      "\u001b[0;31mNameError\u001b[0m                                 Traceback (most recent call last)",
      "Cell \u001b[0;32mIn[1], line 1\u001b[0m\n\u001b[0;32m----> 1\u001b[0m df[df\u001b[39m.\u001b[39msource\u001b[39m==\u001b[39m\u001b[39m\"\u001b[39m\u001b[39mclef\u001b[39m\u001b[39m\"\u001b[39m]\u001b[39m.\u001b[39mhead()\n",
      "\u001b[0;31mNameError\u001b[0m: name 'df' is not defined"
     ]
    }
   ],
   "source": [
    "df[df.source==\"clef\"].head()"
   ]
  },
  {
   "cell_type": "code",
   "execution_count": 13,
   "metadata": {},
   "outputs": [
    {
     "data": {
      "text/html": [
       "<div>\n",
       "<style scoped>\n",
       "    .dataframe tbody tr th:only-of-type {\n",
       "        vertical-align: middle;\n",
       "    }\n",
       "\n",
       "    .dataframe tbody tr th {\n",
       "        vertical-align: top;\n",
       "    }\n",
       "\n",
       "    .dataframe thead th {\n",
       "        text-align: right;\n",
       "    }\n",
       "</style>\n",
       "<table border=\"1\" class=\"dataframe\">\n",
       "  <thead>\n",
       "    <tr style=\"text-align: right;\">\n",
       "      <th></th>\n",
       "      <th>source</th>\n",
       "      <th>img_path</th>\n",
       "      <th>caption</th>\n",
       "      <th>is_gt</th>\n",
       "      <th>width</th>\n",
       "      <th>height</th>\n",
       "      <th>label</th>\n",
       "      <th>img</th>\n",
       "    </tr>\n",
       "  </thead>\n",
       "  <tbody>\n",
       "  </tbody>\n",
       "</table>\n",
       "</div>"
      ],
      "text/plain": [
       "Empty DataFrame\n",
       "Columns: [source, img_path, caption, is_gt, width, height, label, img]\n",
       "Index: []"
      ]
     },
     "execution_count": 13,
     "metadata": {},
     "output_type": "execute_result"
    }
   ],
   "source": [
    "df[df.img == '1471-2105-11-20-9.jpg']"
   ]
  },
  {
   "cell_type": "code",
   "execution_count": 16,
   "metadata": {},
   "outputs": [
    {
     "data": {
      "text/html": [
       "<div>\n",
       "<style scoped>\n",
       "    .dataframe tbody tr th:only-of-type {\n",
       "        vertical-align: middle;\n",
       "    }\n",
       "\n",
       "    .dataframe tbody tr th {\n",
       "        vertical-align: top;\n",
       "    }\n",
       "\n",
       "    .dataframe thead th {\n",
       "        text-align: right;\n",
       "    }\n",
       "</style>\n",
       "<table border=\"1\" class=\"dataframe\">\n",
       "  <thead>\n",
       "    <tr style=\"text-align: right;\">\n",
       "      <th></th>\n",
       "      <th>img</th>\n",
       "      <th>img_path</th>\n",
       "      <th>width</th>\n",
       "      <th>height</th>\n",
       "      <th>label</th>\n",
       "      <th>source</th>\n",
       "      <th>caption</th>\n",
       "      <th>is_gt</th>\n",
       "      <th>original</th>\n",
       "    </tr>\n",
       "  </thead>\n",
       "  <tbody>\n",
       "  </tbody>\n",
       "</table>\n",
       "</div>"
      ],
      "text/plain": [
       "Empty DataFrame\n",
       "Columns: [img, img_path, width, height, label, source, caption, is_gt, original]\n",
       "Index: []"
      ]
     },
     "execution_count": 16,
     "metadata": {},
     "output_type": "execute_result"
    }
   ],
   "source": [
    "import pandas as pd\n",
    "df_1 = pd.read_parquet(\"../data/udel.parquet\")\n",
    "df_1.head()"
   ]
  },
  {
   "cell_type": "code",
   "execution_count": 8,
   "metadata": {},
   "outputs": [
    {
     "data": {
      "text/html": [
       "<div>\n",
       "<style scoped>\n",
       "    .dataframe tbody tr th:only-of-type {\n",
       "        vertical-align: middle;\n",
       "    }\n",
       "\n",
       "    .dataframe tbody tr th {\n",
       "        vertical-align: top;\n",
       "    }\n",
       "\n",
       "    .dataframe thead th {\n",
       "        text-align: right;\n",
       "    }\n",
       "</style>\n",
       "<table border=\"1\" class=\"dataframe\">\n",
       "  <thead>\n",
       "    <tr style=\"text-align: right;\">\n",
       "      <th></th>\n",
       "      <th>img</th>\n",
       "      <th>img_path</th>\n",
       "      <th>width</th>\n",
       "      <th>height</th>\n",
       "      <th>label</th>\n",
       "      <th>original</th>\n",
       "      <th>source</th>\n",
       "      <th>is_gt</th>\n",
       "      <th>caption</th>\n",
       "    </tr>\n",
       "  </thead>\n",
       "  <tbody>\n",
       "    <tr>\n",
       "      <th>341</th>\n",
       "      <td>100302.png</td>\n",
       "      <td>chart_synthetic_1/train/100302.png</td>\n",
       "      <td>1280</td>\n",
       "      <td>960</td>\n",
       "      <td>gra.sca</td>\n",
       "      <td>Scatter</td>\n",
       "      <td>chart-synthetic</td>\n",
       "      <td>True</td>\n",
       "      <td></td>\n",
       "    </tr>\n",
       "    <tr>\n",
       "      <th>341</th>\n",
       "      <td>PMC5041325___12889_2016_3692_Fig3_HTML.jpg</td>\n",
       "      <td>chart_icpr2020/ICPR2020_CHARTINFO_UB_PMC_TRAIN...</td>\n",
       "      <td>472</td>\n",
       "      <td>138</td>\n",
       "      <td>gra.his</td>\n",
       "      <td>horizontal_bar</td>\n",
       "      <td>chart-icpr2020</td>\n",
       "      <td>True</td>\n",
       "      <td></td>\n",
       "    </tr>\n",
       "    <tr>\n",
       "      <th>341</th>\n",
       "      <td>PMC2807869___1471-2458-9-483-19.jpg</td>\n",
       "      <td>chart_icpr2020/ICPR2020_CHARTINFO_UB_PMC_TRAIN...</td>\n",
       "      <td>600</td>\n",
       "      <td>315</td>\n",
       "      <td>gra.lin</td>\n",
       "      <td>line</td>\n",
       "      <td>chart-icpr2020</td>\n",
       "      <td>True</td>\n",
       "      <td></td>\n",
       "    </tr>\n",
       "    <tr>\n",
       "      <th>341</th>\n",
       "      <td>PMC5580590___ijerph-14-00886-g001.jpg</td>\n",
       "      <td>chart_icpr2020/ICPR2020_CHARTINFO_UB_PMC_TRAIN...</td>\n",
       "      <td>769</td>\n",
       "      <td>586</td>\n",
       "      <td>gra.oth</td>\n",
       "      <td>map</td>\n",
       "      <td>chart-icpr2020</td>\n",
       "      <td>True</td>\n",
       "      <td></td>\n",
       "    </tr>\n",
       "    <tr>\n",
       "      <th>341</th>\n",
       "      <td>PMC4818466___12711_2016_202_Fig2_HTML.jpg</td>\n",
       "      <td>chart_icpr2020/ICPR2020_CHARTINFO_UB_PMC_TRAIN...</td>\n",
       "      <td>354</td>\n",
       "      <td>307</td>\n",
       "      <td>gra.sca</td>\n",
       "      <td>scatter</td>\n",
       "      <td>chart-icpr2020</td>\n",
       "      <td>True</td>\n",
       "      <td></td>\n",
       "    </tr>\n",
       "    <tr>\n",
       "      <th>341</th>\n",
       "      <td>PMC4555255___ijerph-12-08897-g004.jpg</td>\n",
       "      <td>chart_icpr2020/ICPR2020_CHARTINFO_UB_PMC_TRAIN...</td>\n",
       "      <td>800</td>\n",
       "      <td>786</td>\n",
       "      <td>gra.sca</td>\n",
       "      <td>scatter-line</td>\n",
       "      <td>chart-icpr2020</td>\n",
       "      <td>True</td>\n",
       "      <td></td>\n",
       "    </tr>\n",
       "    <tr>\n",
       "      <th>341</th>\n",
       "      <td>PMC2800063___ijerph-06-02793f1.jpg</td>\n",
       "      <td>chart_icpr2020/ICPR2020_CHARTINFO_UB_PMC_TRAIN...</td>\n",
       "      <td>517</td>\n",
       "      <td>293</td>\n",
       "      <td>gra.his</td>\n",
       "      <td>vertical_bar</td>\n",
       "      <td>chart-icpr2020</td>\n",
       "      <td>True</td>\n",
       "      <td></td>\n",
       "    </tr>\n",
       "    <tr>\n",
       "      <th>341</th>\n",
       "      <td>PMC5706245___materials-10-01298-g008.jpg</td>\n",
       "      <td>chart_icpr2020/ICPR2020_CHARTINFO_UB_PMC_TRAIN...</td>\n",
       "      <td>718</td>\n",
       "      <td>552</td>\n",
       "      <td>gra.oth</td>\n",
       "      <td>vertical_interval</td>\n",
       "      <td>chart-icpr2020</td>\n",
       "      <td>True</td>\n",
       "      <td></td>\n",
       "    </tr>\n",
       "  </tbody>\n",
       "</table>\n",
       "</div>"
      ],
      "text/plain": [
       "                                            img  \\\n",
       "341                                  100302.png   \n",
       "341  PMC5041325___12889_2016_3692_Fig3_HTML.jpg   \n",
       "341         PMC2807869___1471-2458-9-483-19.jpg   \n",
       "341       PMC5580590___ijerph-14-00886-g001.jpg   \n",
       "341   PMC4818466___12711_2016_202_Fig2_HTML.jpg   \n",
       "341       PMC4555255___ijerph-12-08897-g004.jpg   \n",
       "341          PMC2800063___ijerph-06-02793f1.jpg   \n",
       "341    PMC5706245___materials-10-01298-g008.jpg   \n",
       "\n",
       "                                              img_path  width  height  \\\n",
       "341                 chart_synthetic_1/train/100302.png   1280     960   \n",
       "341  chart_icpr2020/ICPR2020_CHARTINFO_UB_PMC_TRAIN...    472     138   \n",
       "341  chart_icpr2020/ICPR2020_CHARTINFO_UB_PMC_TRAIN...    600     315   \n",
       "341  chart_icpr2020/ICPR2020_CHARTINFO_UB_PMC_TRAIN...    769     586   \n",
       "341  chart_icpr2020/ICPR2020_CHARTINFO_UB_PMC_TRAIN...    354     307   \n",
       "341  chart_icpr2020/ICPR2020_CHARTINFO_UB_PMC_TRAIN...    800     786   \n",
       "341  chart_icpr2020/ICPR2020_CHARTINFO_UB_PMC_TRAIN...    517     293   \n",
       "341  chart_icpr2020/ICPR2020_CHARTINFO_UB_PMC_TRAIN...    718     552   \n",
       "\n",
       "       label           original           source  is_gt caption  \n",
       "341  gra.sca            Scatter  chart-synthetic   True          \n",
       "341  gra.his     horizontal_bar   chart-icpr2020   True          \n",
       "341  gra.lin               line   chart-icpr2020   True          \n",
       "341  gra.oth                map   chart-icpr2020   True          \n",
       "341  gra.sca            scatter   chart-icpr2020   True          \n",
       "341  gra.sca       scatter-line   chart-icpr2020   True          \n",
       "341  gra.his       vertical_bar   chart-icpr2020   True          \n",
       "341  gra.oth  vertical_interval   chart-icpr2020   True          "
      ]
     },
     "execution_count": 8,
     "metadata": {},
     "output_type": "execute_result"
    }
   ],
   "source": [
    "df_1.loc[341]"
   ]
  },
  {
   "cell_type": "code",
   "execution_count": 9,
   "metadata": {},
   "outputs": [
    {
     "data": {
      "text/plain": [
       "'chart_icpr2020/ICPR2020_CHARTINFO_UB_PMC_TRAIN_v1.21/images/line/PMC3881129___ijerph-10-06534-g012.jpg'"
      ]
     },
     "execution_count": 9,
     "metadata": {},
     "output_type": "execute_result"
    }
   ],
   "source": [
    "df_1.iloc[200000].img_path"
   ]
  },
  {
   "cell_type": "code",
   "execution_count": 52,
   "metadata": {},
   "outputs": [],
   "source": [
    "import pandas as pd\n",
    "df = pd.read_parquet(\"../data/0/graphics.parquet\")"
   ]
  },
  {
   "cell_type": "code",
   "execution_count": 53,
   "metadata": {},
   "outputs": [
    {
     "data": {
      "text/html": [
       "<div>\n",
       "<style scoped>\n",
       "    .dataframe tbody tr th:only-of-type {\n",
       "        vertical-align: middle;\n",
       "    }\n",
       "\n",
       "    .dataframe tbody tr th {\n",
       "        vertical-align: top;\n",
       "    }\n",
       "\n",
       "    .dataframe thead th {\n",
       "        text-align: right;\n",
       "    }\n",
       "</style>\n",
       "<table border=\"1\" class=\"dataframe\">\n",
       "  <thead>\n",
       "    <tr style=\"text-align: right;\">\n",
       "      <th></th>\n",
       "      <th>img</th>\n",
       "      <th>img_path</th>\n",
       "      <th>width</th>\n",
       "      <th>height</th>\n",
       "      <th>label</th>\n",
       "      <th>original</th>\n",
       "      <th>caption</th>\n",
       "      <th>source</th>\n",
       "      <th>is_gt</th>\n",
       "      <th>split_set</th>\n",
       "    </tr>\n",
       "  </thead>\n",
       "  <tbody>\n",
       "    <tr>\n",
       "      <th>7651</th>\n",
       "      <td>108928.png</td>\n",
       "      <td>chart_synthetic_1/train/108928.png</td>\n",
       "      <td>1280.0</td>\n",
       "      <td>960.0</td>\n",
       "      <td>gra.sca</td>\n",
       "      <td>Scatter</td>\n",
       "      <td></td>\n",
       "      <td>chart-synthetic</td>\n",
       "      <td>True</td>\n",
       "      <td>TRAIN</td>\n",
       "    </tr>\n",
       "  </tbody>\n",
       "</table>\n",
       "</div>"
      ],
      "text/plain": [
       "             img                            img_path   width  height    label  \\\n",
       "7651  108928.png  chart_synthetic_1/train/108928.png  1280.0   960.0  gra.sca   \n",
       "\n",
       "     original caption           source  is_gt split_set  \n",
       "7651  Scatter          chart-synthetic   True     TRAIN  "
      ]
     },
     "execution_count": 53,
     "metadata": {},
     "output_type": "execute_result"
    }
   ],
   "source": [
    "df[df.img == \"108928.png\"]"
   ]
  },
  {
   "cell_type": "code",
   "execution_count": 55,
   "metadata": {},
   "outputs": [
    {
     "name": "stderr",
     "output_type": "stream",
     "text": [
      "9729it [00:01, 8570.12it/s]"
     ]
    },
    {
     "name": "stdout",
     "output_type": "stream",
     "text": [
      "chart_synthetic_1/train/108928.png\n"
     ]
    },
    {
     "name": "stderr",
     "output_type": "stream",
     "text": [
      "15493it [00:01, 12874.56it/s]"
     ]
    },
    {
     "name": "stdout",
     "output_type": "stream",
     "text": [
      "chart_synthetic_1/train/115619.png\n",
      "chart_synthetic_1/train/116936.png\n"
     ]
    },
    {
     "name": "stderr",
     "output_type": "stream",
     "text": [
      "24738it [00:02, 15336.02it/s]"
     ]
    },
    {
     "name": "stdout",
     "output_type": "stream",
     "text": [
      "chart_synthetic_1/train/127292.png\n"
     ]
    },
    {
     "name": "stderr",
     "output_type": "stream",
     "text": [
      "29498it [00:02, 15683.59it/s]"
     ]
    },
    {
     "name": "stdout",
     "output_type": "stream",
     "text": [
      "chart_synthetic_1/train/134144.png\n"
     ]
    },
    {
     "name": "stderr",
     "output_type": "stream",
     "text": [
      "32671it [00:03, 15779.02it/s]"
     ]
    },
    {
     "name": "stdout",
     "output_type": "stream",
     "text": [
      "chart_synthetic_1/train/141044.png\n"
     ]
    },
    {
     "name": "stderr",
     "output_type": "stream",
     "text": [
      "34251it [00:03, 10261.33it/s]"
     ]
    },
    {
     "name": "stdout",
     "output_type": "stream",
     "text": [
      "chart_synthetic_1/train/143079.png\n"
     ]
    },
    {
     "name": "stderr",
     "output_type": "stream",
     "text": [
      "37299it [00:04, 4395.97it/s] "
     ]
    },
    {
     "name": "stdout",
     "output_type": "stream",
     "text": [
      "chart_synthetic_1/train/146781.png\n"
     ]
    },
    {
     "name": "stderr",
     "output_type": "stream",
     "text": [
      "37929it [00:04, 4002.85it/s]"
     ]
    },
    {
     "name": "stdout",
     "output_type": "stream",
     "text": [
      "chart_synthetic_1/train/147893.png\n"
     ]
    },
    {
     "name": "stderr",
     "output_type": "stream",
     "text": [
      "39322it [00:05, 3401.72it/s]"
     ]
    },
    {
     "name": "stdout",
     "output_type": "stream",
     "text": [
      "chart_synthetic_1/train/149474.png\n"
     ]
    },
    {
     "name": "stderr",
     "output_type": "stream",
     "text": [
      "49813it [00:08, 3191.26it/s]"
     ]
    },
    {
     "name": "stdout",
     "output_type": "stream",
     "text": [
      "chart_synthetic_1/train/162724.png\n"
     ]
    },
    {
     "name": "stderr",
     "output_type": "stream",
     "text": [
      "54210it [00:09, 4490.53it/s]"
     ]
    },
    {
     "name": "stdout",
     "output_type": "stream",
     "text": [
      "chart_synthetic_1/train/168329.png\n"
     ]
    },
    {
     "name": "stderr",
     "output_type": "stream",
     "text": [
      "60469it [00:10, 4824.48it/s]"
     ]
    },
    {
     "name": "stdout",
     "output_type": "stream",
     "text": [
      "chart_synthetic_1/train/176337.png\n"
     ]
    },
    {
     "name": "stderr",
     "output_type": "stream",
     "text": [
      "69175it [00:12, 4798.41it/s]"
     ]
    },
    {
     "name": "stdout",
     "output_type": "stream",
     "text": [
      "chart_synthetic_1/train/187288.png\n"
     ]
    },
    {
     "name": "stderr",
     "output_type": "stream",
     "text": [
      "73500it [00:13, 4804.65it/s]"
     ]
    },
    {
     "name": "stdout",
     "output_type": "stream",
     "text": [
      "chart_synthetic_1/train/192989.png\n"
     ]
    },
    {
     "name": "stderr",
     "output_type": "stream",
     "text": [
      "75904it [00:14, 4799.31it/s]"
     ]
    },
    {
     "name": "stdout",
     "output_type": "stream",
     "text": [
      "chart_synthetic_1/train/196163.png\n"
     ]
    },
    {
     "name": "stderr",
     "output_type": "stream",
     "text": [
      "81671it [00:15, 4799.54it/s]"
     ]
    },
    {
     "name": "stdout",
     "output_type": "stream",
     "text": [
      "chart_synthetic_1/train/23684.png\n"
     ]
    },
    {
     "name": "stderr",
     "output_type": "stream",
     "text": [
      "102380it [00:19, 4797.70it/s]"
     ]
    },
    {
     "name": "stdout",
     "output_type": "stream",
     "text": [
      "chart_synthetic_1/train/51041.png\n"
     ]
    },
    {
     "name": "stderr",
     "output_type": "stream",
     "text": [
      "106710it [00:20, 4805.06it/s]"
     ]
    },
    {
     "name": "stdout",
     "output_type": "stream",
     "text": [
      "chart_synthetic_1/train/56784.png\n",
      "chart_synthetic_1/train/57896.png\n"
     ]
    },
    {
     "name": "stderr",
     "output_type": "stream",
     "text": [
      "115626it [00:22, 5145.18it/s]\n"
     ]
    },
    {
     "ename": "KeyboardInterrupt",
     "evalue": "",
     "output_type": "error",
     "traceback": [
      "\u001b[0;31m---------------------------------------------------------------------------\u001b[0m",
      "\u001b[0;31mKeyboardInterrupt\u001b[0m                         Traceback (most recent call last)",
      "Cell \u001b[0;32mIn[55], line 7\u001b[0m\n\u001b[1;32m      5\u001b[0m count \u001b[39m=\u001b[39m \u001b[39m0\u001b[39m\n\u001b[1;32m      6\u001b[0m \u001b[39mfor\u001b[39;00m idx, row \u001b[39min\u001b[39;00m tqdm(df\u001b[39m.\u001b[39miterrows()):\n\u001b[0;32m----> 7\u001b[0m     \u001b[39mif\u001b[39;00m \u001b[39mnot\u001b[39;00m (base_dir \u001b[39m/\u001b[39m row\u001b[39m.\u001b[39;49mimg_path)\u001b[39m.\u001b[39mexists():\n\u001b[1;32m      8\u001b[0m         \u001b[39mprint\u001b[39m(row\u001b[39m.\u001b[39mimg_path)\n\u001b[1;32m      9\u001b[0m         count\u001b[39m+\u001b[39m\u001b[39m=\u001b[39m \u001b[39m1\u001b[39m\n",
      "File \u001b[0;32m~/repos/bio-search/image-modalities-classifier/.venv/lib/python3.8/site-packages/pandas/core/generic.py:5899\u001b[0m, in \u001b[0;36mNDFrame.__getattr__\u001b[0;34m(self, name)\u001b[0m\n\u001b[1;32m   5889\u001b[0m \u001b[39m\u001b[39m\u001b[39m\"\"\"\u001b[39;00m\n\u001b[1;32m   5890\u001b[0m \u001b[39mAfter regular attribute access, try looking up the name\u001b[39;00m\n\u001b[1;32m   5891\u001b[0m \u001b[39mThis allows simpler access to columns for interactive use.\u001b[39;00m\n\u001b[1;32m   5892\u001b[0m \u001b[39m\"\"\"\u001b[39;00m\n\u001b[1;32m   5893\u001b[0m \u001b[39m# Note: obj.x will always call obj.__getattribute__('x') prior to\u001b[39;00m\n\u001b[1;32m   5894\u001b[0m \u001b[39m# calling obj.__getattr__('x').\u001b[39;00m\n\u001b[1;32m   5895\u001b[0m \u001b[39mif\u001b[39;00m (\n\u001b[1;32m   5896\u001b[0m     name \u001b[39mnot\u001b[39;00m \u001b[39min\u001b[39;00m \u001b[39mself\u001b[39m\u001b[39m.\u001b[39m_internal_names_set\n\u001b[1;32m   5897\u001b[0m     \u001b[39mand\u001b[39;00m name \u001b[39mnot\u001b[39;00m \u001b[39min\u001b[39;00m \u001b[39mself\u001b[39m\u001b[39m.\u001b[39m_metadata\n\u001b[1;32m   5898\u001b[0m     \u001b[39mand\u001b[39;00m name \u001b[39mnot\u001b[39;00m \u001b[39min\u001b[39;00m \u001b[39mself\u001b[39m\u001b[39m.\u001b[39m_accessors\n\u001b[0;32m-> 5899\u001b[0m     \u001b[39mand\u001b[39;00m \u001b[39mself\u001b[39;49m\u001b[39m.\u001b[39;49m_info_axis\u001b[39m.\u001b[39m_can_hold_identifiers_and_holds_name(name)\n\u001b[1;32m   5900\u001b[0m ):\n\u001b[1;32m   5901\u001b[0m     \u001b[39mreturn\u001b[39;00m \u001b[39mself\u001b[39m[name]\n\u001b[1;32m   5902\u001b[0m \u001b[39mreturn\u001b[39;00m \u001b[39mobject\u001b[39m\u001b[39m.\u001b[39m\u001b[39m__getattribute__\u001b[39m(\u001b[39mself\u001b[39m, name)\n",
      "File \u001b[0;32m~/repos/bio-search/image-modalities-classifier/.venv/lib/python3.8/site-packages/pandas/core/generic.py:642\u001b[0m, in \u001b[0;36mNDFrame._info_axis\u001b[0;34m(self)\u001b[0m\n\u001b[1;32m    640\u001b[0m \u001b[39m@property\u001b[39m\n\u001b[1;32m    641\u001b[0m \u001b[39mdef\u001b[39;00m \u001b[39m_info_axis\u001b[39m(\u001b[39mself\u001b[39m) \u001b[39m-\u001b[39m\u001b[39m>\u001b[39m Index:\n\u001b[0;32m--> 642\u001b[0m     \u001b[39mreturn\u001b[39;00m \u001b[39mgetattr\u001b[39;49m(\u001b[39mself\u001b[39;49m, \u001b[39mself\u001b[39;49m\u001b[39m.\u001b[39;49m_info_axis_name)\n",
      "\u001b[0;31mKeyboardInterrupt\u001b[0m: "
     ]
    }
   ],
   "source": [
    "from pathlib import Path\n",
    "from tqdm import tqdm\n",
    "base_dir = Path(\"/media/cumulus/curation_data/\")\n",
    "\n",
    "count = 0\n",
    "for idx, row in tqdm(df.iterrows()):\n",
    "    if not (base_dir / row.img_path).exists():\n",
    "        print(row.img_path)\n",
    "        count+= 1\n",
    "print(count)\n"
   ]
  },
  {
   "cell_type": "code",
   "execution_count": null,
   "metadata": {},
   "outputs": [],
   "source": []
  }
 ],
 "metadata": {
  "kernelspec": {
   "display_name": ".venv",
   "language": "python",
   "name": "python3"
  },
  "language_info": {
   "codemirror_mode": {
    "name": "ipython",
    "version": 3
   },
   "file_extension": ".py",
   "mimetype": "text/x-python",
   "name": "python",
   "nbconvert_exporter": "python",
   "pygments_lexer": "ipython3",
   "version": "3.8.1"
  },
  "orig_nbformat": 4,
  "vscode": {
   "interpreter": {
    "hash": "29e56221297dcf76d1ff7e0087fc50901b5fe91198fb7405b22e2a39a8d782cd"
   }
  }
 },
 "nbformat": 4,
 "nbformat_minor": 2
}
