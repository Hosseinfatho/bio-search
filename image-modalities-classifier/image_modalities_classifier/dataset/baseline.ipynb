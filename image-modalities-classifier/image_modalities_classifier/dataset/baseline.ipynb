{
 "cells": [
  {
   "cell_type": "code",
   "execution_count": 33,
   "metadata": {},
   "outputs": [
    {
     "name": "stdout",
     "output_type": "stream",
     "text": [
      "cord19_electron_v1.parquet\n",
      "\tF1 0.5661650233523612\n",
      "\taccuracy 0.5681818181818182\n",
      "cord19_experimental_v1.parquet\n",
      "\tF1 0.3531869991260855\n",
      "\taccuracy 0.4807574832009774\n",
      "cord19_gel_v1.parquet\n",
      "\tF1 0.23961840628507294\n",
      "\taccuracy 0.28\n",
      "cord19_higher-modality_v1.parquet\n",
      "\tF1 0.09183954587358685\n",
      "\taccuracy 0.141321044546851\n",
      "cord19_microscopy_v1.parquet\n",
      "\tF1 0.31884557248687423\n",
      "\taccuracy 0.32151898734177214\n",
      "cord19_molecular_v1.parquet\n",
      "\tF1 0.1786904720990709\n",
      "\taccuracy 0.1834862385321101\n",
      "cord19_photography_v1.parquet\n",
      "\tF1 0.4444444444444444\n",
      "\taccuracy 0.4897959183673469\n",
      "cord19_radiology_v1.parquet\n",
      "\tF1 0.11984872426126018\n",
      "\taccuracy 0.24180719058224626\n",
      "cord19_graphics_v1.parquet\n",
      "\tF1 0.09589323652241202\n",
      "\taccuracy 0.13190467393312397\n"
     ]
    }
   ],
   "source": [
    "import pandas as pd\n",
    "import numpy as np\n",
    "from sklearn.metrics import f1_score, accuracy_score\n",
    "from os import listdir\n",
    "from pathlib import Path\n",
    "\n",
    "parquet_dir = \"/media/cumulus/curation_data/modality_classifiers_production/data/cord19/\"\n",
    "parquets = [el for el in listdir(parquet_dir) if el.endswith(\"parquet\")]\n",
    "\n",
    "for parquet_file in parquets:\n",
    "  parquet_path = Path(parquet_dir) / parquet_file\n",
    "  df = pd.read_parquet(parquet_path)\n",
    "  df_test = df.copy().loc[df.split_set==\"TEST\"]\n",
    "\n",
    "  print(parquet_file)\n",
    "  classes = df_test.label.unique().tolist()\n",
    "  df_test.loc[:,\"random\"] = np.random.choice(classes, len(df_test))\n",
    "\n",
    "  print(\"\\tF1\", f1_score(df_test.label, df_test.random, average=\"macro\"))\n",
    "  print(\"\\taccuracy\", accuracy_score(df_test.label, df_test.random))\n"
   ]
  }
 ],
 "metadata": {
  "kernelspec": {
   "display_name": ".venv",
   "language": "python",
   "name": "python3"
  },
  "language_info": {
   "codemirror_mode": {
    "name": "ipython",
    "version": 3
   },
   "file_extension": ".py",
   "mimetype": "text/x-python",
   "name": "python",
   "nbconvert_exporter": "python",
   "pygments_lexer": "ipython3",
   "version": "3.8.1"
  },
  "orig_nbformat": 4,
  "vscode": {
   "interpreter": {
    "hash": "29e56221297dcf76d1ff7e0087fc50901b5fe91198fb7405b22e2a39a8d782cd"
   }
  }
 },
 "nbformat": 4,
 "nbformat_minor": 2
}
