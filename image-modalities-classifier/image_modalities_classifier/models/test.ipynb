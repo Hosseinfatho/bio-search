{
 "cells": [
  {
   "cell_type": "code",
   "execution_count": 12,
   "metadata": {},
   "outputs": [],
   "source": [
    "from pathlib import Path\n",
    "import pandas as pd\n",
    "\n",
    "artifacts = Path(\"/media/cumulus/curation_data/modality_classifiers_production/models/cord19/\")\n",
    "data_path = Path(\"/media/cumulus/curation_data/modality_classifiers_production/data/cord19\")\n",
    "\n",
    "classifiers = {\n",
    "    \"classifier\": \"higher-modality\",\n",
    "    \"classname\": \"\",\n",
    "    \"path\": artifacts / \"higher-modality/efficientnet-b1_higher-modality_0.pt\",\n",
    "    \"children\": [\n",
    "        {\n",
    "            \"classifier\": \"experimental\",\n",
    "            \"classname\": \"exp\",\n",
    "            \"path\": artifacts / \"experimental/efficientnet-b1_experimental_0.pt\",\n",
    "            \"children\": [\n",
    "                {\n",
    "                    \"classifier\": \"gel\",\n",
    "                    \"classname\": \"exp.gel\",\n",
    "                    \"path\": artifacts / \"gel/efficientnet-b1_gel_0.pt\",\n",
    "                    \"children\": []\n",
    "                }\n",
    "            ],\n",
    "        },\n",
    "        {\n",
    "            \"classifier\": \"graphics\",\n",
    "            \"classname\": \"gra\",\n",
    "            \"path\": artifacts / \"graphics/efficientnet-b1_graphics_0.pt\",\n",
    "            \"children\": [],\n",
    "        },\n",
    "        {\n",
    "            \"classifier\": \"microscopy\",\n",
    "            \"classname\": \"mic\",\n",
    "            \"path\": artifacts / \"microscopy/efficientnet-b0_microscopy_0.pt\",\n",
    "            \"children\": [\n",
    "                {\n",
    "                    \"classifier\": \"electron\",\n",
    "                    \"classname\": \"mic.ele\",\n",
    "                    \"path\": artifacts / \"electron/efficientnet-b1_electron_0.pt\",\n",
    "                    \"children\": [],\n",
    "                },\n",
    "            ],\n",
    "        },\n",
    "        {\n",
    "            \"classifier\": \"molecular\",\n",
    "            \"classname\": \"mol\",\n",
    "            \"path\": artifacts / \"molecular\" / \"efficientnet-b1_molecular_0.pt\",\n",
    "            \"children\": [],\n",
    "        },\n",
    "        {\n",
    "            \"classifier\": \"radiology\",\n",
    "            \"classname\": \"rad\",\n",
    "            \"path\": artifacts / \"radiology\" / \"efficientnet-b0_radiology_0.pt\",\n",
    "            \"children\": [],\n",
    "        },\n",
    "        {\n",
    "            \"classifier\": \"photography\",\n",
    "            \"classname\": \"pho\",\n",
    "            \"path\": artifacts / \"photography/resnet34_photography_0.pt\",\n",
    "            \"children\": []\n",
    "        }\n",
    "    ],\n",
    "}\n",
    "\n",
    "\n",
    "\n",
    "model_path = data_path / \"cord19_microscopy_v1.parquet\"\n",
    "df = pd.read_parquet(model_path)\n",
    "# df = df[:10]"
   ]
  },
  {
   "cell_type": "code",
   "execution_count": 13,
   "metadata": {},
   "outputs": [],
   "source": [
    "from image_modalities_classifier.models.predict import ModalityPredictor, RunConfig\n",
    "from os import cpu_count\n",
    "\n",
    "config = RunConfig(32, cpu_count(), \"cuda:0\")\n",
    "predictor = ModalityPredictor(classifiers, config)"
   ]
  },
  {
   "cell_type": "code",
   "execution_count": 14,
   "metadata": {},
   "outputs": [
    {
     "name": "stderr",
     "output_type": "stream",
     "text": [
      "/home/jtt/repos/bio-search/image-modalities-classifier/.venv/lib/python3.8/site-packages/torchvision/models/_utils.py:208: UserWarning: The parameter 'pretrained' is deprecated since 0.13 and may be removed in the future, please use 'weights' instead.\n",
      "  warnings.warn(\n",
      "/home/jtt/repos/bio-search/image-modalities-classifier/.venv/lib/python3.8/site-packages/torchvision/models/_utils.py:223: UserWarning: Arguments other than a weight enum or `None` for 'weights' are deprecated since 0.13 and may be removed in the future. The current behavior is equivalent to passing `weights=EfficientNet_B1_Weights.IMAGENET1K_V1`. You can also use `weights=EfficientNet_B1_Weights.DEFAULT` to get the most up-to-date weights.\n",
      "  warnings.warn(msg)\n",
      "/home/jtt/repos/bio-search/image-modalities-classifier/.venv/lib/python3.8/site-packages/torchvision/models/_utils.py:208: UserWarning: The parameter 'pretrained' is deprecated since 0.13 and may be removed in the future, please use 'weights' instead.\n",
      "  warnings.warn(\n",
      "/home/jtt/repos/bio-search/image-modalities-classifier/.venv/lib/python3.8/site-packages/torchvision/models/_utils.py:223: UserWarning: Arguments other than a weight enum or `None` for 'weights' are deprecated since 0.13 and may be removed in the future. The current behavior is equivalent to passing `weights=EfficientNet_B1_Weights.IMAGENET1K_V1`. You can also use `weights=EfficientNet_B1_Weights.DEFAULT` to get the most up-to-date weights.\n",
      "  warnings.warn(msg)\n",
      "/home/jtt/repos/bio-search/image-modalities-classifier/.venv/lib/python3.8/site-packages/torchvision/models/_utils.py:208: UserWarning: The parameter 'pretrained' is deprecated since 0.13 and may be removed in the future, please use 'weights' instead.\n",
      "  warnings.warn(\n",
      "/home/jtt/repos/bio-search/image-modalities-classifier/.venv/lib/python3.8/site-packages/torchvision/models/_utils.py:223: UserWarning: Arguments other than a weight enum or `None` for 'weights' are deprecated since 0.13 and may be removed in the future. The current behavior is equivalent to passing `weights=EfficientNet_B1_Weights.IMAGENET1K_V1`. You can also use `weights=EfficientNet_B1_Weights.DEFAULT` to get the most up-to-date weights.\n",
      "  warnings.warn(msg)\n",
      "/home/jtt/repos/bio-search/image-modalities-classifier/.venv/lib/python3.8/site-packages/torchvision/models/_utils.py:223: UserWarning: Arguments other than a weight enum or `None` for 'weights' are deprecated since 0.13 and may be removed in the future. The current behavior is equivalent to passing `weights=EfficientNet_B0_Weights.IMAGENET1K_V1`. You can also use `weights=EfficientNet_B0_Weights.DEFAULT` to get the most up-to-date weights.\n",
      "  warnings.warn(msg)\n",
      "/home/jtt/repos/bio-search/image-modalities-classifier/.venv/lib/python3.8/site-packages/torchvision/models/_utils.py:208: UserWarning: The parameter 'pretrained' is deprecated since 0.13 and may be removed in the future, please use 'weights' instead.\n",
      "  warnings.warn(\n",
      "/home/jtt/repos/bio-search/image-modalities-classifier/.venv/lib/python3.8/site-packages/torchvision/models/_utils.py:223: UserWarning: Arguments other than a weight enum or `None` for 'weights' are deprecated since 0.13 and may be removed in the future. The current behavior is equivalent to passing `weights=EfficientNet_B1_Weights.IMAGENET1K_V1`. You can also use `weights=EfficientNet_B1_Weights.DEFAULT` to get the most up-to-date weights.\n",
      "  warnings.warn(msg)\n",
      "/home/jtt/repos/bio-search/image-modalities-classifier/.venv/lib/python3.8/site-packages/torchvision/models/_utils.py:208: UserWarning: The parameter 'pretrained' is deprecated since 0.13 and may be removed in the future, please use 'weights' instead.\n",
      "  warnings.warn(\n",
      "/home/jtt/repos/bio-search/image-modalities-classifier/.venv/lib/python3.8/site-packages/torchvision/models/_utils.py:223: UserWarning: Arguments other than a weight enum or `None` for 'weights' are deprecated since 0.13 and may be removed in the future. The current behavior is equivalent to passing `weights=EfficientNet_B0_Weights.IMAGENET1K_V1`. You can also use `weights=EfficientNet_B0_Weights.DEFAULT` to get the most up-to-date weights.\n",
      "  warnings.warn(msg)\n",
      "/home/jtt/repos/bio-search/image-modalities-classifier/.venv/lib/python3.8/site-packages/torchvision/models/_utils.py:208: UserWarning: The parameter 'pretrained' is deprecated since 0.13 and may be removed in the future, please use 'weights' instead.\n",
      "  warnings.warn(\n",
      "/home/jtt/repos/bio-search/image-modalities-classifier/.venv/lib/python3.8/site-packages/torchvision/models/_utils.py:223: UserWarning: Arguments other than a weight enum or `None` for 'weights' are deprecated since 0.13 and may be removed in the future. The current behavior is equivalent to passing `weights=EfficientNet_B1_Weights.IMAGENET1K_V1`. You can also use `weights=EfficientNet_B1_Weights.DEFAULT` to get the most up-to-date weights.\n",
      "  warnings.warn(msg)\n",
      "/home/jtt/repos/bio-search/image-modalities-classifier/.venv/lib/python3.8/site-packages/torchvision/models/_utils.py:208: UserWarning: The parameter 'pretrained' is deprecated since 0.13 and may be removed in the future, please use 'weights' instead.\n",
      "  warnings.warn(\n",
      "/home/jtt/repos/bio-search/image-modalities-classifier/.venv/lib/python3.8/site-packages/torchvision/models/_utils.py:223: UserWarning: Arguments other than a weight enum or `None` for 'weights' are deprecated since 0.13 and may be removed in the future. The current behavior is equivalent to passing `weights=EfficientNet_B1_Weights.IMAGENET1K_V1`. You can also use `weights=EfficientNet_B1_Weights.DEFAULT` to get the most up-to-date weights.\n",
      "  warnings.warn(msg)\n"
     ]
    }
   ],
   "source": [
    "base_img_path = \"/home/jtt/Documents/datasets/curation_data/\"\n",
    "img_paths = df.img_path.values.tolist()\n",
    "predictions = predictor.predict(img_paths, base_img_path)"
   ]
  },
  {
   "cell_type": "code",
   "execution_count": 15,
   "metadata": {},
   "outputs": [
    {
     "data": {
      "text/html": [
       "<div>\n",
       "<style scoped>\n",
       "    .dataframe tbody tr th:only-of-type {\n",
       "        vertical-align: middle;\n",
       "    }\n",
       "\n",
       "    .dataframe tbody tr th {\n",
       "        vertical-align: top;\n",
       "    }\n",
       "\n",
       "    .dataframe thead th {\n",
       "        text-align: right;\n",
       "    }\n",
       "</style>\n",
       "<table border=\"1\" class=\"dataframe\">\n",
       "  <thead>\n",
       "    <tr style=\"text-align: right;\">\n",
       "      <th></th>\n",
       "      <th>img_path</th>\n",
       "      <th>prediction</th>\n",
       "    </tr>\n",
       "  </thead>\n",
       "  <tbody>\n",
       "    <tr>\n",
       "      <th>0</th>\n",
       "      <td>subfigure-classification/2013/train/DMFL/1471-...</td>\n",
       "      <td>mic.flu</td>\n",
       "    </tr>\n",
       "    <tr>\n",
       "      <th>1</th>\n",
       "      <td>subfigure-classification/2013/train/DMFL/1471-...</td>\n",
       "      <td>mic.flu</td>\n",
       "    </tr>\n",
       "    <tr>\n",
       "      <th>2</th>\n",
       "      <td>subfigure-classification/2013/train/DMFL/1471-...</td>\n",
       "      <td>mic.flu</td>\n",
       "    </tr>\n",
       "    <tr>\n",
       "      <th>3</th>\n",
       "      <td>subfigure-classification/2013/train/DMFL/1471-...</td>\n",
       "      <td>mic.flu</td>\n",
       "    </tr>\n",
       "    <tr>\n",
       "      <th>4</th>\n",
       "      <td>subfigure-classification/2013/train/DMFL/1471-...</td>\n",
       "      <td>mic.flu</td>\n",
       "    </tr>\n",
       "    <tr>\n",
       "      <th>...</th>\n",
       "      <td>...</td>\n",
       "      <td>...</td>\n",
       "    </tr>\n",
       "    <tr>\n",
       "      <th>95</th>\n",
       "      <td>subfigure-classification/2013/train/DMLI/cde00...</td>\n",
       "      <td>mic.lig</td>\n",
       "    </tr>\n",
       "    <tr>\n",
       "      <th>96</th>\n",
       "      <td>subfigure-classification/2013/train/DMLI/DRP20...</td>\n",
       "      <td>mic.lig</td>\n",
       "    </tr>\n",
       "    <tr>\n",
       "      <th>97</th>\n",
       "      <td>subfigure-classification/2013/train/DMLI/IJD-5...</td>\n",
       "      <td>mic.lig</td>\n",
       "    </tr>\n",
       "    <tr>\n",
       "      <th>98</th>\n",
       "      <td>subfigure-classification/2013/train/DMLI/IJD-5...</td>\n",
       "      <td>mic.lig</td>\n",
       "    </tr>\n",
       "    <tr>\n",
       "      <th>99</th>\n",
       "      <td>subfigure-classification/2013/train/DMLI/IJD-5...</td>\n",
       "      <td>mic.lig</td>\n",
       "    </tr>\n",
       "  </tbody>\n",
       "</table>\n",
       "<p>100 rows × 2 columns</p>\n",
       "</div>"
      ],
      "text/plain": [
       "                                             img_path prediction\n",
       "0   subfigure-classification/2013/train/DMFL/1471-...    mic.flu\n",
       "1   subfigure-classification/2013/train/DMFL/1471-...    mic.flu\n",
       "2   subfigure-classification/2013/train/DMFL/1471-...    mic.flu\n",
       "3   subfigure-classification/2013/train/DMFL/1471-...    mic.flu\n",
       "4   subfigure-classification/2013/train/DMFL/1471-...    mic.flu\n",
       "..                                                ...        ...\n",
       "95  subfigure-classification/2013/train/DMLI/cde00...    mic.lig\n",
       "96  subfigure-classification/2013/train/DMLI/DRP20...    mic.lig\n",
       "97  subfigure-classification/2013/train/DMLI/IJD-5...    mic.lig\n",
       "98  subfigure-classification/2013/train/DMLI/IJD-5...    mic.lig\n",
       "99  subfigure-classification/2013/train/DMLI/IJD-5...    mic.lig\n",
       "\n",
       "[100 rows x 2 columns]"
      ]
     },
     "execution_count": 15,
     "metadata": {},
     "output_type": "execute_result"
    }
   ],
   "source": [
    "predictions[:100]"
   ]
  },
  {
   "cell_type": "code",
   "execution_count": 16,
   "metadata": {},
   "outputs": [
    {
     "data": {
      "text/plain": [
       "array(['mic.flu', 'oth', 'mic.lig', 'mic.ele.tra', 'mic.ele.sca',\n",
       "       'exp.pla', 'pho.org', 'mol.dna', 'mol.3ds', 'exp.gel.wes',\n",
       "       'exp.gel.rpc', 'exp.gel.nor', 'pho.der', 'rad.ang'], dtype=object)"
      ]
     },
     "execution_count": 16,
     "metadata": {},
     "output_type": "execute_result"
    }
   ],
   "source": [
    "predictions.prediction.unique()"
   ]
  },
  {
   "cell_type": "code",
   "execution_count": null,
   "metadata": {},
   "outputs": [],
   "source": []
  }
 ],
 "metadata": {
  "kernelspec": {
   "display_name": ".venv",
   "language": "python",
   "name": "python3"
  },
  "language_info": {
   "codemirror_mode": {
    "name": "ipython",
    "version": 3
   },
   "file_extension": ".py",
   "mimetype": "text/x-python",
   "name": "python",
   "nbconvert_exporter": "python",
   "pygments_lexer": "ipython3",
   "version": "3.8.1"
  },
  "orig_nbformat": 4,
  "vscode": {
   "interpreter": {
    "hash": "29e56221297dcf76d1ff7e0087fc50901b5fe91198fb7405b22e2a39a8d782cd"
   }
  }
 },
 "nbformat": 4,
 "nbformat_minor": 2
}
