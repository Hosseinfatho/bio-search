{
 "cells": [
  {
   "cell_type": "code",
   "execution_count": 23,
   "metadata": {},
   "outputs": [],
   "source": [
    "from pathlib import Path\n",
    "\n",
    "artifacts = Path(\"/media/cumulus/curation_data/modality_classifiers/models/cord19/\")\n",
    "\n",
    "hierarchy = {\n",
    "    \"classifier\": \"higher-modality\",\n",
    "    \"classname\": None,\n",
    "    \"path\": artifacts / \"higher-modality/higher-modality_1.pt\",\n",
    "    \"children\": [\n",
    "        {\n",
    "            \"classifier\": \"experimental\",\n",
    "            \"classname\": \"exp\",\n",
    "            \"path\": artifacts / \"experimental/resnet18_experimental_2.pt\",\n",
    "            \"children\": [],\n",
    "        },\n",
    "        {\n",
    "            \"classifier\": \"graphics\",\n",
    "            \"classname\": \"gra\",\n",
    "            \"path\": artifacts / \"graphics/resnet18_graphics_1.pt\",\n",
    "            \"children\": [],\n",
    "        },\n",
    "        {\n",
    "            \"classifier\": \"microscopy\",\n",
    "            \"classname\": \"mic\",\n",
    "            \"path\": artifacts / \"microscopy/resnet18_microscopy_2.pt\",\n",
    "            \"children\": [\n",
    "                {\n",
    "                    \"classifier\": \"electron\",\n",
    "                    \"classname\": \"mic.ele\",\n",
    "                    \"path\": artifacts / \"microscopy/electron_1.pt\",\n",
    "                    \"classes\": [\"mic.ele.sca\", \"mic.ele.tra\"],\n",
    "                    \"children\": [],\n",
    "                },\n",
    "            ],\n",
    "        },\n",
    "        {\n",
    "            \"classifier\": \"molecular\",\n",
    "            \"classname\": \"mol\",\n",
    "            \"path\": artifacts / \"resnet18_molecular_1.pt\",\n",
    "            \"children\": [],\n",
    "        },\n",
    "        {\n",
    "            \"classifier\": \"radiology\",\n",
    "            \"classname\": \"rad\",\n",
    "            \"path\": artifacts / \"radiology/radiology_1.pt\",\n",
    "            \"children\": [],\n",
    "        },\n",
    "    ],\n",
    "}\n",
    "\n",
    "\n",
    "\n",
    "model_path = "
   ]
  },
  {
   "cell_type": "code",
   "execution_count": null,
   "metadata": {},
   "outputs": [],
   "source": [
    "from image_modalities_classifier.models.predict import SingleModalityPredictor, RunConfig\n",
    "\n",
    "config = RunConfig(32, 6, \"cuda:0\")\n",
    "predictor = SingleModalityPredictor(model_path, config)"
   ]
  },
  {
   "cell_type": "code",
   "execution_count": null,
   "metadata": {},
   "outputs": [],
   "source": [
    "from os import listdir\n",
    "\n",
    "imgs_path = Path(\"/home/jtt/repos/bio-search/image-modalities-classifier/tests/sample_data/\")\n",
    "imgs = [x for x in listdir(imgs_path) if x.endswith(\".png\")]\n",
    "imgs"
   ]
  },
  {
   "cell_type": "code",
   "execution_count": null,
   "metadata": {},
   "outputs": [],
   "source": [
    "import pandas as pd\n",
    "df = pd.DataFrame(imgs, columns=[\"img_path\"])\n",
    "df.head()\n"
   ]
  },
  {
   "cell_type": "code",
   "execution_count": null,
   "metadata": {},
   "outputs": [],
   "source": [
    "x = predictor.predict(df, imgs_path, path_col=\"img_path\", as_classes=False)\n",
    "x"
   ]
  },
  {
   "cell_type": "code",
   "execution_count": null,
   "metadata": {},
   "outputs": [],
   "source": [
    "# import torch\n",
    "# print(torch.cuda.memory_allocated() / 1024**2)\n",
    "# predictor.free()\n",
    "# print(torch.cuda.memory_allocated() / 1024**2)"
   ]
  },
  {
   "cell_type": "code",
   "execution_count": null,
   "metadata": {},
   "outputs": [],
   "source": [
    "# print(torch.cuda.memory_reserved() / 1024**2)\n",
    "# torch.cuda.empty_cache()\n",
    "# print(torch.cuda.memory_reserved() / 1024**2)"
   ]
  },
  {
   "cell_type": "code",
   "execution_count": 14,
   "metadata": {},
   "outputs": [
    {
     "data": {
      "text/html": [
       "<div>\n",
       "<style scoped>\n",
       "    .dataframe tbody tr th:only-of-type {\n",
       "        vertical-align: middle;\n",
       "    }\n",
       "\n",
       "    .dataframe tbody tr th {\n",
       "        vertical-align: top;\n",
       "    }\n",
       "\n",
       "    .dataframe thead th {\n",
       "        text-align: right;\n",
       "    }\n",
       "</style>\n",
       "<table border=\"1\" class=\"dataframe\">\n",
       "  <thead>\n",
       "    <tr style=\"text-align: right;\">\n",
       "      <th></th>\n",
       "      <th>a</th>\n",
       "      <th>b</th>\n",
       "    </tr>\n",
       "  </thead>\n",
       "  <tbody>\n",
       "    <tr>\n",
       "      <th>0</th>\n",
       "      <td>a</td>\n",
       "      <td>1</td>\n",
       "    </tr>\n",
       "    <tr>\n",
       "      <th>1</th>\n",
       "      <td>b</td>\n",
       "      <td>1</td>\n",
       "    </tr>\n",
       "    <tr>\n",
       "      <th>2</th>\n",
       "      <td>c</td>\n",
       "      <td>1</td>\n",
       "    </tr>\n",
       "    <tr>\n",
       "      <th>3</th>\n",
       "      <td>d</td>\n",
       "      <td>2</td>\n",
       "    </tr>\n",
       "  </tbody>\n",
       "</table>\n",
       "</div>"
      ],
      "text/plain": [
       "   a  b\n",
       "0  a  1\n",
       "1  b  1\n",
       "2  c  1\n",
       "3  d  2"
      ]
     },
     "execution_count": 14,
     "metadata": {},
     "output_type": "execute_result"
    }
   ],
   "source": [
    "import pandas as pd\n",
    "from pathlib import Path\n",
    "\n",
    "a = ['a', 'b', 'c', 'd']\n",
    "b = [1, 1, 1, 2, 3]\n",
    "df = pd.DataFrame(list(zip(a,b)), columns=['a', 'b'])\n",
    "df"
   ]
  },
  {
   "cell_type": "code",
   "execution_count": 16,
   "metadata": {},
   "outputs": [],
   "source": [
    "df_1s = df.loc[df.b == 1]\n",
    "df_2s = df.loc[df.b == 2]"
   ]
  },
  {
   "cell_type": "code",
   "execution_count": 20,
   "metadata": {},
   "outputs": [
    {
     "data": {
      "text/html": [
       "<div>\n",
       "<style scoped>\n",
       "    .dataframe tbody tr th:only-of-type {\n",
       "        vertical-align: middle;\n",
       "    }\n",
       "\n",
       "    .dataframe tbody tr th {\n",
       "        vertical-align: top;\n",
       "    }\n",
       "\n",
       "    .dataframe thead th {\n",
       "        text-align: right;\n",
       "    }\n",
       "</style>\n",
       "<table border=\"1\" class=\"dataframe\">\n",
       "  <thead>\n",
       "    <tr style=\"text-align: right;\">\n",
       "      <th></th>\n",
       "      <th>a</th>\n",
       "      <th>b</th>\n",
       "    </tr>\n",
       "  </thead>\n",
       "  <tbody>\n",
       "    <tr>\n",
       "      <th>0</th>\n",
       "      <td>a</td>\n",
       "      <td>1</td>\n",
       "    </tr>\n",
       "    <tr>\n",
       "      <th>1</th>\n",
       "      <td>b</td>\n",
       "      <td>1</td>\n",
       "    </tr>\n",
       "    <tr>\n",
       "      <th>2</th>\n",
       "      <td>c</td>\n",
       "      <td>1</td>\n",
       "    </tr>\n",
       "    <tr>\n",
       "      <th>3</th>\n",
       "      <td>d</td>\n",
       "      <td>2</td>\n",
       "    </tr>\n",
       "  </tbody>\n",
       "</table>\n",
       "</div>"
      ],
      "text/plain": [
       "   a  b\n",
       "0  a  1\n",
       "1  b  1\n",
       "2  c  1\n",
       "3  d  2"
      ]
     },
     "execution_count": 20,
     "metadata": {},
     "output_type": "execute_result"
    }
   ],
   "source": [
    "pd.concat([df_2s, df_1s]).sort_index()"
   ]
  },
  {
   "cell_type": "code",
   "execution_count": 21,
   "metadata": {},
   "outputs": [
    {
     "data": {
      "text/plain": [
       "<Mock id='140552842733072'>"
      ]
     },
     "execution_count": 21,
     "metadata": {},
     "output_type": "execute_result"
    }
   ],
   "source": [
    "from unittest.mock import Mock\n",
    "mock = Mock()\n",
    "mock"
   ]
  },
  {
   "cell_type": "code",
   "execution_count": 22,
   "metadata": {},
   "outputs": [
    {
     "data": {
      "text/plain": [
       "<Mock name='mock.x' id='140552842733264'>"
      ]
     },
     "execution_count": 22,
     "metadata": {},
     "output_type": "execute_result"
    }
   ],
   "source": [
    "mock.x"
   ]
  },
  {
   "cell_type": "code",
   "execution_count": null,
   "metadata": {},
   "outputs": [],
   "source": []
  }
 ],
 "metadata": {
  "kernelspec": {
   "display_name": ".venv",
   "language": "python",
   "name": "python3"
  },
  "language_info": {
   "codemirror_mode": {
    "name": "ipython",
    "version": 3
   },
   "file_extension": ".py",
   "mimetype": "text/x-python",
   "name": "python",
   "nbconvert_exporter": "python",
   "pygments_lexer": "ipython3",
   "version": "3.8.1"
  },
  "orig_nbformat": 4,
  "vscode": {
   "interpreter": {
    "hash": "29e56221297dcf76d1ff7e0087fc50901b5fe91198fb7405b22e2a39a8d782cd"
   }
  }
 },
 "nbformat": 4,
 "nbformat_minor": 2
}
