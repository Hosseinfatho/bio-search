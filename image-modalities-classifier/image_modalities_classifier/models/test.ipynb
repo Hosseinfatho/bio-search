{
 "cells": [
  {
   "cell_type": "code",
   "execution_count": 1,
   "metadata": {},
   "outputs": [
    {
     "name": "stderr",
     "output_type": "stream",
     "text": [
      "/home/jtt/repos/bio-search/image-modalities-classifier/.venv/lib/python3.10/site-packages/tqdm/auto.py:22: TqdmWarning: IProgress not found. Please update jupyter and ipywidgets. See https://ipywidgets.readthedocs.io/en/stable/user_install.html\n",
      "  from .autonotebook import tqdm as notebook_tqdm\n"
     ]
    }
   ],
   "source": [
    "from pathlib import Path\n",
    "from image_modalities_classifier.models.trainer import ModalityModelTrainer"
   ]
  },
  {
   "cell_type": "code",
   "execution_count": 2,
   "metadata": {},
   "outputs": [],
   "source": [
    "artifacts_folder =  Path.home() / \"Documents/modality_classifiers\" \n",
    "\n",
    "dataset_filepath = artifacts_folder / \"data/updated_cord19/cord19_microscopy_v1.parquet\"\n",
    "num_classes = 3\n",
    "base_img_dir = \"/media/cumulus/curation_data\"\n",
    "output_dir = artifacts_folder / \"models\"\n",
    "taxonomy = \"cord19\"\n",
    "classifier_name = \"microscopy\"\n",
    "project = \"biocuration\"\n",
    "num_workers = 12\n",
    "name = \"resnet101\"\n",
    "lr = 1e-3"
   ]
  },
  {
   "cell_type": "code",
   "execution_count": 3,
   "metadata": {},
   "outputs": [
    {
     "name": "stderr",
     "output_type": "stream",
     "text": [
      "Global seed set to 443\n",
      "Global seed set to 443\n",
      "Failed to detect the name of this notebook, you can set it manually with the WANDB_NOTEBOOK_NAME environment variable to enable code saving.\n",
      "\u001b[34m\u001b[1mwandb\u001b[0m: Currently logged in as: \u001b[33mjtrell2\u001b[0m. Use \u001b[1m`wandb login --relogin`\u001b[0m to force relogin\n"
     ]
    },
    {
     "data": {
      "text/html": [
       "Tracking run with wandb version 0.13.9"
      ],
      "text/plain": [
       "<IPython.core.display.HTML object>"
      ]
     },
     "metadata": {},
     "output_type": "display_data"
    },
    {
     "data": {
      "text/html": [
       "Run data is saved locally in <code>/home/jtt/repos/bio-search/image-modalities-classifier/image_modalities_classifier/models/wandb/run-20230124_114239-7o10c407</code>"
      ],
      "text/plain": [
       "<IPython.core.display.HTML object>"
      ]
     },
     "metadata": {},
     "output_type": "display_data"
    },
    {
     "data": {
      "text/html": [
       "Syncing run <strong><a href=\"https://wandb.ai/jtrell2/biocuration/runs/7o10c407\" target=\"_blank\">prosperous-rat-6</a></strong> to <a href=\"https://wandb.ai/jtrell2/biocuration\" target=\"_blank\">Weights & Biases</a> (<a href=\"https://wandb.me/run\" target=\"_blank\">docs</a>)<br/>"
      ],
      "text/plain": [
       "<IPython.core.display.HTML object>"
      ]
     },
     "metadata": {},
     "output_type": "display_data"
    },
    {
     "data": {
      "text/html": [
       " View project at <a href=\"https://wandb.ai/jtrell2/biocuration\" target=\"_blank\">https://wandb.ai/jtrell2/biocuration</a>"
      ],
      "text/plain": [
       "<IPython.core.display.HTML object>"
      ]
     },
     "metadata": {},
     "output_type": "display_data"
    },
    {
     "data": {
      "text/html": [
       " View run at <a href=\"https://wandb.ai/jtrell2/biocuration/runs/7o10c407\" target=\"_blank\">https://wandb.ai/jtrell2/biocuration/runs/7o10c407</a>"
      ],
      "text/plain": [
       "<IPython.core.display.HTML object>"
      ]
     },
     "metadata": {},
     "output_type": "display_data"
    },
    {
     "name": "stderr",
     "output_type": "stream",
     "text": [
      "/home/jtt/repos/bio-search/image-modalities-classifier/.venv/lib/python3.10/site-packages/pytorch_lightning/loggers/wandb.py:395: UserWarning: There is a wandb run already in progress and newly created instances of `WandbLogger` will reuse this run. If this is not desired, call `wandb.finish()` before instantiating `WandbLogger`.\n",
      "  rank_zero_warn(\n",
      "Downloading: \"https://download.pytorch.org/models/resnet101-cd907fc2.pth\" to /home/jtt/.cache/torch/hub/checkpoints/resnet101-cd907fc2.pth\n",
      "100%|██████████| 171M/171M [00:01<00:00, 117MB/s] \n",
      "GPU available: True (cuda), used: True\n",
      "TPU available: False, using: 0 TPU cores\n",
      "IPU available: False, using: 0 IPUs\n",
      "HPU available: False, using: 0 HPUs\n",
      "/home/jtt/repos/bio-search/image-modalities-classifier/.venv/lib/python3.10/site-packages/pytorch_lightning/callbacks/model_checkpoint.py:612: UserWarning: Checkpoint directory /home/jtt/Documents/modality_classifiers/models/cord19/microscopy exists and is not empty.\n",
      "  rank_zero_warn(f\"Checkpoint directory {dirpath} exists and is not empty.\")\n",
      "LOCAL_RANK: 0 - CUDA_VISIBLE_DEVICES: [0]\n",
      "\n",
      "  | Name  | Type             | Params\n",
      "-------------------------------------------\n",
      "0 | model | ResNet           | 42.5 M\n",
      "1 | loss  | CrossEntropyLoss | 0     \n",
      "-------------------------------------------\n",
      "42.5 M    Trainable params\n",
      "0         Non-trainable params\n",
      "42.5 M    Total params\n",
      "170.025   Total estimated model params size (MB)\n"
     ]
    },
    {
     "name": "stdout",
     "output_type": "stream",
     "text": [
      "Epoch 0: 100%|██████████| 347/347 [01:59<00:00,  2.89it/s, loss=0.151, v_num=c407]"
     ]
    },
    {
     "name": "stderr",
     "output_type": "stream",
     "text": [
      "Metric val_loss improved. New best score: 0.587\n"
     ]
    },
    {
     "name": "stdout",
     "output_type": "stream",
     "text": [
      "Epoch 1: 100%|██████████| 347/347 [01:59<00:00,  2.90it/s, loss=0.0933, v_num=c407]"
     ]
    },
    {
     "name": "stderr",
     "output_type": "stream",
     "text": [
      "Metric val_loss improved by 0.118 >= min_delta = 0.0. New best score: 0.469\n"
     ]
    },
    {
     "name": "stdout",
     "output_type": "stream",
     "text": [
      "Epoch 2: 100%|██████████| 347/347 [01:58<00:00,  2.92it/s, loss=0.0822, v_num=c407]"
     ]
    },
    {
     "name": "stderr",
     "output_type": "stream",
     "text": [
      "Metric val_loss improved by 0.023 >= min_delta = 0.0. New best score: 0.446\n"
     ]
    },
    {
     "name": "stdout",
     "output_type": "stream",
     "text": [
      "Epoch 3: 100%|██████████| 347/347 [01:57<00:00,  2.96it/s, loss=0.111, v_num=c407] "
     ]
    },
    {
     "name": "stderr",
     "output_type": "stream",
     "text": [
      "Metric val_loss improved by 0.073 >= min_delta = 0.0. New best score: 0.373\n"
     ]
    },
    {
     "name": "stdout",
     "output_type": "stream",
     "text": [
      "Epoch 7: 100%|██████████| 347/347 [01:58<00:00,  2.92it/s, loss=0.0921, v_num=c407]Epoch 00008: reducing learning rate of group 0 to 1.0000e-04.\n",
      "Epoch 8: 100%|██████████| 347/347 [01:57<00:00,  2.94it/s, loss=0.0697, v_num=c407]"
     ]
    },
    {
     "name": "stderr",
     "output_type": "stream",
     "text": [
      "Metric val_loss improved by 0.030 >= min_delta = 0.0. New best score: 0.344\n"
     ]
    },
    {
     "name": "stdout",
     "output_type": "stream",
     "text": [
      "Epoch 10: 100%|██████████| 347/347 [02:00<00:00,  2.87it/s, loss=0.06, v_num=c407]  "
     ]
    },
    {
     "name": "stderr",
     "output_type": "stream",
     "text": [
      "Metric val_loss improved by 0.008 >= min_delta = 0.0. New best score: 0.335\n"
     ]
    },
    {
     "name": "stdout",
     "output_type": "stream",
     "text": [
      "Epoch 14: 100%|██████████| 347/347 [01:59<00:00,  2.91it/s, loss=0.0558, v_num=c407]Epoch 00015: reducing learning rate of group 0 to 1.0000e-05.\n",
      "Epoch 15: 100%|██████████| 347/347 [01:58<00:00,  2.92it/s, loss=0.0439, v_num=c407]"
     ]
    },
    {
     "name": "stderr",
     "output_type": "stream",
     "text": [
      "Monitored metric val_loss did not improve in the last 5 records. Best score: 0.335. Signaling Trainer to stop.\n"
     ]
    },
    {
     "name": "stdout",
     "output_type": "stream",
     "text": [
      "Epoch 15: 100%|██████████| 347/347 [01:58<00:00,  2.92it/s, loss=0.0439, v_num=c407]\n"
     ]
    },
    {
     "data": {
      "text/html": [
       "Waiting for W&B process to finish... <strong style=\"color:green\">(success).</strong>"
      ],
      "text/plain": [
       "<IPython.core.display.HTML object>"
      ]
     },
     "metadata": {},
     "output_type": "display_data"
    },
    {
     "data": {
      "text/html": [
       "<style>\n",
       "    table.wandb td:nth-child(1) { padding: 0 10px; text-align: left ; width: auto;} td:nth-child(2) {text-align: left ; width: 100%}\n",
       "    .wandb-row { display: flex; flex-direction: row; flex-wrap: wrap; justify-content: flex-start; width: 100% }\n",
       "    .wandb-col { display: flex; flex-direction: column; flex-basis: 100%; flex: 1; padding: 10px; }\n",
       "    </style>\n",
       "<div class=\"wandb-row\"><div class=\"wandb-col\"><h3>Run history:</h3><br/><table class=\"wandb\"><tr><td>epoch</td><td>▁▁▁▁▁▂▂▂▂▂▃▃▃▃▃▄▄▄▄▄▅▅▅▅▅▆▆▆▆▆▇▇▇▇▇█████</td></tr><tr><td>lr-Adam</td><td>████████▂▂▂▂▂▂▂▁</td></tr><tr><td>train_acc</td><td>▁▃▅▅▅▅▅▆▆▆▇▇▇███</td></tr><tr><td>train_loss</td><td>▅▅▄▂▂▆▇▂▃▁▂▂▅▂▁▂▆▂▂▁▃▃▂▂▂▂▁▃▂▁▂▇▂█▁▄▃▄▁▃</td></tr><tr><td>trainer/global_step</td><td>▁▁▁▁▂▂▂▂▂▃▃▃▃▃▃▄▄▄▄▄▅▅▅▅▅▅▆▆▆▆▆▇▇▇▇▇▇███</td></tr><tr><td>val_acc</td><td>▁▄▅▆▆▆▇▆▇▇███▇▇▇</td></tr><tr><td>val_loss</td><td>█▅▄▂▃▃▃▃▁▂▁▁▁▄▂▂</td></tr></table><br/></div><div class=\"wandb-col\"><h3>Run summary:</h3><br/><table class=\"wandb\"><tr><td>epoch</td><td>15</td></tr><tr><td>lr-Adam</td><td>1e-05</td></tr><tr><td>train_acc</td><td>0.98406</td></tr><tr><td>train_loss</td><td>0.06164</td></tr><tr><td>trainer/global_step</td><td>5247</td></tr><tr><td>val_acc</td><td>0.86833</td></tr><tr><td>val_loss</td><td>0.36848</td></tr></table><br/></div></div>"
      ],
      "text/plain": [
       "<IPython.core.display.HTML object>"
      ]
     },
     "metadata": {},
     "output_type": "display_data"
    },
    {
     "data": {
      "text/html": [
       " View run <strong style=\"color:#cdcd00\">prosperous-rat-6</strong> at: <a href=\"https://wandb.ai/jtrell2/biocuration/runs/7o10c407\" target=\"_blank\">https://wandb.ai/jtrell2/biocuration/runs/7o10c407</a><br/>Synced 5 W&B file(s), 0 media file(s), 0 artifact file(s) and 0 other file(s)"
      ],
      "text/plain": [
       "<IPython.core.display.HTML object>"
      ]
     },
     "metadata": {},
     "output_type": "display_data"
    },
    {
     "data": {
      "text/html": [
       "Find logs at: <code>./wandb/run-20230124_114239-7o10c407/logs</code>"
      ],
      "text/plain": [
       "<IPython.core.display.HTML object>"
      ]
     },
     "metadata": {},
     "output_type": "display_data"
    },
    {
     "data": {
      "text/plain": [
       "'resnet101_microscopy_2.pt'"
      ]
     },
     "execution_count": 3,
     "metadata": {},
     "output_type": "execute_result"
    }
   ],
   "source": [
    "trainer = ModalityModelTrainer(\n",
    "    dataset_filepath, base_img_dir, output_dir, taxonomy, classifier_name, project, num_workers=num_workers, model_name=name, learning_rate=lr)\n",
    "trainer.run()"
   ]
  },
  {
   "cell_type": "code",
   "execution_count": 4,
   "metadata": {},
   "outputs": [
    {
     "data": {
      "text/plain": [
       "True"
      ]
     },
     "execution_count": 4,
     "metadata": {},
     "output_type": "execute_result"
    }
   ],
   "source": [
    "import torch\n",
    "\n",
    "torch.cuda.is_available()"
   ]
  },
  {
   "cell_type": "code",
   "execution_count": 4,
   "metadata": {},
   "outputs": [
    {
     "ename": "AttributeError",
     "evalue": "'ModalityModelTrainer' object has no attribute 'model'",
     "output_type": "error",
     "traceback": [
      "\u001b[0;31m---------------------------------------------------------------------------\u001b[0m",
      "\u001b[0;31mAttributeError\u001b[0m                            Traceback (most recent call last)",
      "Cell \u001b[0;32mIn[4], line 1\u001b[0m\n\u001b[0;32m----> 1\u001b[0m trainer\u001b[39m.\u001b[39;49mmodel\u001b[39m.\u001b[39mfree()\n",
      "\u001b[0;31mAttributeError\u001b[0m: 'ModalityModelTrainer' object has no attribute 'model'"
     ]
    },
    {
     "ename": "",
     "evalue": "",
     "output_type": "error",
     "traceback": [
      "\u001b[1;31mThe Kernel crashed while executing code in the the current cell or a previous cell. Please review the code in the cell(s) to identify a possible cause of the failure. Click <a href='https://aka.ms/vscodeJupyterKernelCrash'>here</a> for more info. View Jupyter <a href='command:jupyter.viewOutput'>log</a> for further details."
     ]
    }
   ],
   "source": [
    "trainer.model.free()"
   ]
  },
  {
   "cell_type": "code",
   "execution_count": 4,
   "metadata": {},
   "outputs": [
    {
     "data": {
      "text/html": [
       "<div>\n",
       "<style scoped>\n",
       "    .dataframe tbody tr th:only-of-type {\n",
       "        vertical-align: middle;\n",
       "    }\n",
       "\n",
       "    .dataframe tbody tr th {\n",
       "        vertical-align: top;\n",
       "    }\n",
       "\n",
       "    .dataframe thead th {\n",
       "        text-align: right;\n",
       "    }\n",
       "</style>\n",
       "<table border=\"1\" class=\"dataframe\">\n",
       "  <thead>\n",
       "    <tr style=\"text-align: right;\">\n",
       "      <th></th>\n",
       "      <th>img</th>\n",
       "      <th>label</th>\n",
       "      <th>source</th>\n",
       "      <th>img_path</th>\n",
       "      <th>caption</th>\n",
       "      <th>split_set</th>\n",
       "      <th>features</th>\n",
       "      <th>prediction</th>\n",
       "      <th>width</th>\n",
       "      <th>height</th>\n",
       "      <th>pred_probs</th>\n",
       "      <th>ms_metric</th>\n",
       "      <th>en_metric</th>\n",
       "    </tr>\n",
       "  </thead>\n",
       "  <tbody>\n",
       "    <tr>\n",
       "      <th>0</th>\n",
       "      <td>1423-0127-16-6-5-2.jpg</td>\n",
       "      <td>exp.gel</td>\n",
       "      <td>clef16</td>\n",
       "      <td>subfigure-classification/2016/train/GGEL/1423-...</td>\n",
       "      <td>Cleavage specificities of human EndoG variants...</td>\n",
       "      <td>TRAIN</td>\n",
       "      <td>[0.30319658, 0.9711439, 0.6038045, 0.39786372,...</td>\n",
       "      <td>exp.gel</td>\n",
       "      <td>569</td>\n",
       "      <td>252</td>\n",
       "      <td>[0.9944015145301819, 0.00559849850833416]</td>\n",
       "      <td>NaN</td>\n",
       "      <td>NaN</td>\n",
       "    </tr>\n",
       "    <tr>\n",
       "      <th>1</th>\n",
       "      <td>1423-0127-16-6-5-3.jpg</td>\n",
       "      <td>exp.gel</td>\n",
       "      <td>clef16</td>\n",
       "      <td>subfigure-classification/2016/train/GGEL/1423-...</td>\n",
       "      <td>Cleavage specificities of human EndoG variants...</td>\n",
       "      <td>TRAIN</td>\n",
       "      <td>[0.85481423, 1.3120571, 0.4690486, 0.40002385,...</td>\n",
       "      <td>exp.gel</td>\n",
       "      <td>569</td>\n",
       "      <td>193</td>\n",
       "      <td>[0.9987044334411621, 0.0012955853017047048]</td>\n",
       "      <td>NaN</td>\n",
       "      <td>NaN</td>\n",
       "    </tr>\n",
       "    <tr>\n",
       "      <th>2</th>\n",
       "      <td>1423-0127-17-22-2-1.jpg</td>\n",
       "      <td>exp.gel</td>\n",
       "      <td>clef16</td>\n",
       "      <td>subfigure-classification/2016/train/GGEL/1423-...</td>\n",
       "      <td>MBP-pulldown and mammalian two hybrid assay in...</td>\n",
       "      <td>TRAIN</td>\n",
       "      <td>[0.5675413, 0.3917636, 0.18453613, 1.0121593, ...</td>\n",
       "      <td>exp.gel</td>\n",
       "      <td>298</td>\n",
       "      <td>263</td>\n",
       "      <td>[0.9999366998672485, 6.327618757495657e-05]</td>\n",
       "      <td>NaN</td>\n",
       "      <td>NaN</td>\n",
       "    </tr>\n",
       "    <tr>\n",
       "      <th>3</th>\n",
       "      <td>1465-9921-10-26-1-2.jpg</td>\n",
       "      <td>exp.gel</td>\n",
       "      <td>clef16</td>\n",
       "      <td>subfigure-classification/2016/train/GGEL/1465-...</td>\n",
       "      <td>CFTR expression in bone marrow derived dendrit...</td>\n",
       "      <td>TRAIN</td>\n",
       "      <td>[0.16412717, 0.56114954, 0.22790892, 1.623608,...</td>\n",
       "      <td>exp.gel</td>\n",
       "      <td>542</td>\n",
       "      <td>174</td>\n",
       "      <td>[0.9999823570251465, 1.763599539117422e-05]</td>\n",
       "      <td>NaN</td>\n",
       "      <td>NaN</td>\n",
       "    </tr>\n",
       "    <tr>\n",
       "      <th>4</th>\n",
       "      <td>1465-9921-10-26-1-3.jpg</td>\n",
       "      <td>exp.gel</td>\n",
       "      <td>clef16</td>\n",
       "      <td>subfigure-classification/2016/train/GGEL/1465-...</td>\n",
       "      <td>CFTR expression in bone marrow derived dendrit...</td>\n",
       "      <td>TRAIN</td>\n",
       "      <td>[0.5535225, 0.35870844, 1.3544716, 1.871606, 0...</td>\n",
       "      <td>exp.gel</td>\n",
       "      <td>542</td>\n",
       "      <td>248</td>\n",
       "      <td>[0.9988740086555481, 0.0011259742313995957]</td>\n",
       "      <td>NaN</td>\n",
       "      <td>NaN</td>\n",
       "    </tr>\n",
       "  </tbody>\n",
       "</table>\n",
       "</div>"
      ],
      "text/plain": [
       "                       img    label  source  \\\n",
       "0   1423-0127-16-6-5-2.jpg  exp.gel  clef16   \n",
       "1   1423-0127-16-6-5-3.jpg  exp.gel  clef16   \n",
       "2  1423-0127-17-22-2-1.jpg  exp.gel  clef16   \n",
       "3  1465-9921-10-26-1-2.jpg  exp.gel  clef16   \n",
       "4  1465-9921-10-26-1-3.jpg  exp.gel  clef16   \n",
       "\n",
       "                                            img_path  \\\n",
       "0  subfigure-classification/2016/train/GGEL/1423-...   \n",
       "1  subfigure-classification/2016/train/GGEL/1423-...   \n",
       "2  subfigure-classification/2016/train/GGEL/1423-...   \n",
       "3  subfigure-classification/2016/train/GGEL/1465-...   \n",
       "4  subfigure-classification/2016/train/GGEL/1465-...   \n",
       "\n",
       "                                             caption split_set  \\\n",
       "0  Cleavage specificities of human EndoG variants...     TRAIN   \n",
       "1  Cleavage specificities of human EndoG variants...     TRAIN   \n",
       "2  MBP-pulldown and mammalian two hybrid assay in...     TRAIN   \n",
       "3  CFTR expression in bone marrow derived dendrit...     TRAIN   \n",
       "4  CFTR expression in bone marrow derived dendrit...     TRAIN   \n",
       "\n",
       "                                            features prediction  width  \\\n",
       "0  [0.30319658, 0.9711439, 0.6038045, 0.39786372,...    exp.gel    569   \n",
       "1  [0.85481423, 1.3120571, 0.4690486, 0.40002385,...    exp.gel    569   \n",
       "2  [0.5675413, 0.3917636, 0.18453613, 1.0121593, ...    exp.gel    298   \n",
       "3  [0.16412717, 0.56114954, 0.22790892, 1.623608,...    exp.gel    542   \n",
       "4  [0.5535225, 0.35870844, 1.3544716, 1.871606, 0...    exp.gel    542   \n",
       "\n",
       "   height                                   pred_probs  ms_metric  en_metric  \n",
       "0     252    [0.9944015145301819, 0.00559849850833416]        NaN        NaN  \n",
       "1     193  [0.9987044334411621, 0.0012955853017047048]        NaN        NaN  \n",
       "2     263  [0.9999366998672485, 6.327618757495657e-05]        NaN        NaN  \n",
       "3     174  [0.9999823570251465, 1.763599539117422e-05]        NaN        NaN  \n",
       "4     248  [0.9988740086555481, 0.0011259742313995957]        NaN        NaN  "
      ]
     },
     "execution_count": 4,
     "metadata": {},
     "output_type": "execute_result"
    }
   ],
   "source": [
    "import pandas as pd\n",
    "df = pd.read_parquet('/home/jtt/Documents/modality_classifiers/data/cord19/cord19_experimental_v1.parquet')\n",
    "df.head()"
   ]
  },
  {
   "cell_type": "code",
   "execution_count": 6,
   "metadata": {},
   "outputs": [],
   "source": [
    "df2 = df[df.split_set != \"UNL\"]"
   ]
  },
  {
   "cell_type": "code",
   "execution_count": 7,
   "metadata": {},
   "outputs": [
    {
     "data": {
      "text/html": [
       "<div>\n",
       "<style scoped>\n",
       "    .dataframe tbody tr th:only-of-type {\n",
       "        vertical-align: middle;\n",
       "    }\n",
       "\n",
       "    .dataframe tbody tr th {\n",
       "        vertical-align: top;\n",
       "    }\n",
       "\n",
       "    .dataframe thead th {\n",
       "        text-align: right;\n",
       "    }\n",
       "</style>\n",
       "<table border=\"1\" class=\"dataframe\">\n",
       "  <thead>\n",
       "    <tr style=\"text-align: right;\">\n",
       "      <th></th>\n",
       "      <th>img</th>\n",
       "      <th>label</th>\n",
       "      <th>source</th>\n",
       "      <th>img_path</th>\n",
       "      <th>caption</th>\n",
       "      <th>split_set</th>\n",
       "      <th>features</th>\n",
       "      <th>prediction</th>\n",
       "      <th>width</th>\n",
       "      <th>height</th>\n",
       "      <th>pred_probs</th>\n",
       "      <th>ms_metric</th>\n",
       "      <th>en_metric</th>\n",
       "    </tr>\n",
       "  </thead>\n",
       "  <tbody>\n",
       "    <tr>\n",
       "      <th>0</th>\n",
       "      <td>1423-0127-16-6-5-2.jpg</td>\n",
       "      <td>exp.gel</td>\n",
       "      <td>clef16</td>\n",
       "      <td>subfigure-classification/2016/train/GGEL/1423-...</td>\n",
       "      <td>Cleavage specificities of human EndoG variants...</td>\n",
       "      <td>TRAIN</td>\n",
       "      <td>[0.30319658, 0.9711439, 0.6038045, 0.39786372,...</td>\n",
       "      <td>exp.gel</td>\n",
       "      <td>569</td>\n",
       "      <td>252</td>\n",
       "      <td>[0.9944015145301819, 0.00559849850833416]</td>\n",
       "      <td>NaN</td>\n",
       "      <td>NaN</td>\n",
       "    </tr>\n",
       "    <tr>\n",
       "      <th>1</th>\n",
       "      <td>1423-0127-16-6-5-3.jpg</td>\n",
       "      <td>exp.gel</td>\n",
       "      <td>clef16</td>\n",
       "      <td>subfigure-classification/2016/train/GGEL/1423-...</td>\n",
       "      <td>Cleavage specificities of human EndoG variants...</td>\n",
       "      <td>TRAIN</td>\n",
       "      <td>[0.85481423, 1.3120571, 0.4690486, 0.40002385,...</td>\n",
       "      <td>exp.gel</td>\n",
       "      <td>569</td>\n",
       "      <td>193</td>\n",
       "      <td>[0.9987044334411621, 0.0012955853017047048]</td>\n",
       "      <td>NaN</td>\n",
       "      <td>NaN</td>\n",
       "    </tr>\n",
       "    <tr>\n",
       "      <th>2</th>\n",
       "      <td>1423-0127-17-22-2-1.jpg</td>\n",
       "      <td>exp.gel</td>\n",
       "      <td>clef16</td>\n",
       "      <td>subfigure-classification/2016/train/GGEL/1423-...</td>\n",
       "      <td>MBP-pulldown and mammalian two hybrid assay in...</td>\n",
       "      <td>TRAIN</td>\n",
       "      <td>[0.5675413, 0.3917636, 0.18453613, 1.0121593, ...</td>\n",
       "      <td>exp.gel</td>\n",
       "      <td>298</td>\n",
       "      <td>263</td>\n",
       "      <td>[0.9999366998672485, 6.327618757495657e-05]</td>\n",
       "      <td>NaN</td>\n",
       "      <td>NaN</td>\n",
       "    </tr>\n",
       "    <tr>\n",
       "      <th>3</th>\n",
       "      <td>1465-9921-10-26-1-2.jpg</td>\n",
       "      <td>exp.gel</td>\n",
       "      <td>clef16</td>\n",
       "      <td>subfigure-classification/2016/train/GGEL/1465-...</td>\n",
       "      <td>CFTR expression in bone marrow derived dendrit...</td>\n",
       "      <td>TRAIN</td>\n",
       "      <td>[0.16412717, 0.56114954, 0.22790892, 1.623608,...</td>\n",
       "      <td>exp.gel</td>\n",
       "      <td>542</td>\n",
       "      <td>174</td>\n",
       "      <td>[0.9999823570251465, 1.763599539117422e-05]</td>\n",
       "      <td>NaN</td>\n",
       "      <td>NaN</td>\n",
       "    </tr>\n",
       "    <tr>\n",
       "      <th>4</th>\n",
       "      <td>1465-9921-10-26-1-3.jpg</td>\n",
       "      <td>exp.gel</td>\n",
       "      <td>clef16</td>\n",
       "      <td>subfigure-classification/2016/train/GGEL/1465-...</td>\n",
       "      <td>CFTR expression in bone marrow derived dendrit...</td>\n",
       "      <td>TRAIN</td>\n",
       "      <td>[0.5535225, 0.35870844, 1.3544716, 1.871606, 0...</td>\n",
       "      <td>exp.gel</td>\n",
       "      <td>542</td>\n",
       "      <td>248</td>\n",
       "      <td>[0.9988740086555481, 0.0011259742313995957]</td>\n",
       "      <td>NaN</td>\n",
       "      <td>NaN</td>\n",
       "    </tr>\n",
       "  </tbody>\n",
       "</table>\n",
       "</div>"
      ],
      "text/plain": [
       "                       img    label  source  \\\n",
       "0   1423-0127-16-6-5-2.jpg  exp.gel  clef16   \n",
       "1   1423-0127-16-6-5-3.jpg  exp.gel  clef16   \n",
       "2  1423-0127-17-22-2-1.jpg  exp.gel  clef16   \n",
       "3  1465-9921-10-26-1-2.jpg  exp.gel  clef16   \n",
       "4  1465-9921-10-26-1-3.jpg  exp.gel  clef16   \n",
       "\n",
       "                                            img_path  \\\n",
       "0  subfigure-classification/2016/train/GGEL/1423-...   \n",
       "1  subfigure-classification/2016/train/GGEL/1423-...   \n",
       "2  subfigure-classification/2016/train/GGEL/1423-...   \n",
       "3  subfigure-classification/2016/train/GGEL/1465-...   \n",
       "4  subfigure-classification/2016/train/GGEL/1465-...   \n",
       "\n",
       "                                             caption split_set  \\\n",
       "0  Cleavage specificities of human EndoG variants...     TRAIN   \n",
       "1  Cleavage specificities of human EndoG variants...     TRAIN   \n",
       "2  MBP-pulldown and mammalian two hybrid assay in...     TRAIN   \n",
       "3  CFTR expression in bone marrow derived dendrit...     TRAIN   \n",
       "4  CFTR expression in bone marrow derived dendrit...     TRAIN   \n",
       "\n",
       "                                            features prediction  width  \\\n",
       "0  [0.30319658, 0.9711439, 0.6038045, 0.39786372,...    exp.gel    569   \n",
       "1  [0.85481423, 1.3120571, 0.4690486, 0.40002385,...    exp.gel    569   \n",
       "2  [0.5675413, 0.3917636, 0.18453613, 1.0121593, ...    exp.gel    298   \n",
       "3  [0.16412717, 0.56114954, 0.22790892, 1.623608,...    exp.gel    542   \n",
       "4  [0.5535225, 0.35870844, 1.3544716, 1.871606, 0...    exp.gel    542   \n",
       "\n",
       "   height                                   pred_probs  ms_metric  en_metric  \n",
       "0     252    [0.9944015145301819, 0.00559849850833416]        NaN        NaN  \n",
       "1     193  [0.9987044334411621, 0.0012955853017047048]        NaN        NaN  \n",
       "2     263  [0.9999366998672485, 6.327618757495657e-05]        NaN        NaN  \n",
       "3     174  [0.9999823570251465, 1.763599539117422e-05]        NaN        NaN  \n",
       "4     248  [0.9988740086555481, 0.0011259742313995957]        NaN        NaN  "
      ]
     },
     "execution_count": 7,
     "metadata": {},
     "output_type": "execute_result"
    }
   ],
   "source": [
    "df2.head()"
   ]
  },
  {
   "cell_type": "code",
   "execution_count": 10,
   "metadata": {},
   "outputs": [
    {
     "data": {
      "text/html": [
       "<div>\n",
       "<style scoped>\n",
       "    .dataframe tbody tr th:only-of-type {\n",
       "        vertical-align: middle;\n",
       "    }\n",
       "\n",
       "    .dataframe tbody tr th {\n",
       "        vertical-align: top;\n",
       "    }\n",
       "\n",
       "    .dataframe thead th {\n",
       "        text-align: right;\n",
       "    }\n",
       "</style>\n",
       "<table border=\"1\" class=\"dataframe\">\n",
       "  <thead>\n",
       "    <tr style=\"text-align: right;\">\n",
       "      <th></th>\n",
       "      <th>img</th>\n",
       "      <th>label</th>\n",
       "      <th>source</th>\n",
       "      <th>img_path</th>\n",
       "      <th>caption</th>\n",
       "      <th>split_set</th>\n",
       "      <th>features</th>\n",
       "      <th>prediction</th>\n",
       "      <th>width</th>\n",
       "      <th>height</th>\n",
       "      <th>pred_probs</th>\n",
       "      <th>ms_metric</th>\n",
       "      <th>en_metric</th>\n",
       "    </tr>\n",
       "  </thead>\n",
       "  <tbody>\n",
       "    <tr>\n",
       "      <th>16326</th>\n",
       "      <td>PMC1074749gni0647_1001</td>\n",
       "      <td>None</td>\n",
       "      <td>cord19</td>\n",
       "      <td>cord19-uic/PMC1074749/gni064/7_1/001.jpg</td>\n",
       "      <td>Figure 2. Autoradiogram of 32P-labelled double...</td>\n",
       "      <td>TRAIN</td>\n",
       "      <td>[0.11695894, 1.4279399, 0.19408609, 1.0856833,...</td>\n",
       "      <td>exp.gel</td>\n",
       "      <td>1015</td>\n",
       "      <td>1167</td>\n",
       "      <td>[0.9998939037322998, 0.0001061404327629134]</td>\n",
       "      <td>0.999788</td>\n",
       "      <td>0.001077</td>\n",
       "    </tr>\n",
       "    <tr>\n",
       "      <th>16327</th>\n",
       "      <td>PMC1074749gni0647_1002</td>\n",
       "      <td>None</td>\n",
       "      <td>cord19</td>\n",
       "      <td>cord19-uic/PMC1074749/gni064/7_1/002.jpg</td>\n",
       "      <td>Figure 2. Autoradiogram of 32P-labelled double...</td>\n",
       "      <td>TRAIN</td>\n",
       "      <td>[0.08851135, 1.7101694, 0.40700686, 1.3455511,...</td>\n",
       "      <td>exp.gel</td>\n",
       "      <td>1026</td>\n",
       "      <td>1167</td>\n",
       "      <td>[0.9999943971633911, 5.564953880821122e-06]</td>\n",
       "      <td>0.999989</td>\n",
       "      <td>0.000073</td>\n",
       "    </tr>\n",
       "    <tr>\n",
       "      <th>16331</th>\n",
       "      <td>PMC1074749gni0647_1</td>\n",
       "      <td>None</td>\n",
       "      <td>cord19</td>\n",
       "      <td>cord19-uic/PMC1074749/gni064/7_1.jpg</td>\n",
       "      <td>Figure 2. Autoradiogram of 32P-labelled double...</td>\n",
       "      <td>TRAIN</td>\n",
       "      <td>[0.19898227, 2.1635885, 0.37557727, 0.68559366...</td>\n",
       "      <td>exp.gel</td>\n",
       "      <td>2125</td>\n",
       "      <td>1167</td>\n",
       "      <td>[0.9999864101409912, 1.3544691682909615e-05]</td>\n",
       "      <td>0.999973</td>\n",
       "      <td>0.000165</td>\n",
       "    </tr>\n",
       "    <tr>\n",
       "      <th>16334</th>\n",
       "      <td>PMC11705820023923_1003</td>\n",
       "      <td>None</td>\n",
       "      <td>cord19</td>\n",
       "      <td>cord19-uic/PMC1170582/002392/3_1/003.jpg</td>\n",
       "      <td>Fig. 1. An in vitro system to study RNA recomb...</td>\n",
       "      <td>TRAIN</td>\n",
       "      <td>[0.72941417, 1.0166347, 1.0784396, 1.9412333, ...</td>\n",
       "      <td>exp.gel</td>\n",
       "      <td>634</td>\n",
       "      <td>541</td>\n",
       "      <td>[0.9998990297317505, 0.00010101350926561281]</td>\n",
       "      <td>0.999798</td>\n",
       "      <td>0.001030</td>\n",
       "    </tr>\n",
       "    <tr>\n",
       "      <th>16335</th>\n",
       "      <td>PMC11705820023924_1003</td>\n",
       "      <td>None</td>\n",
       "      <td>cord19</td>\n",
       "      <td>cord19-uic/PMC1170582/002392/4_1/003.jpg</td>\n",
       "      <td>Fig. 2. The motif1-hairpin facilitates 3Ð-TX....</td>\n",
       "      <td>TRAIN</td>\n",
       "      <td>[0.6043587, 0.7361291, 1.3665982, 1.9135891, 1...</td>\n",
       "      <td>exp.gel</td>\n",
       "      <td>433</td>\n",
       "      <td>426</td>\n",
       "      <td>[0.9998519420623779, 0.00014799261407461017]</td>\n",
       "      <td>0.999704</td>\n",
       "      <td>0.001453</td>\n",
       "    </tr>\n",
       "    <tr>\n",
       "      <th>...</th>\n",
       "      <td>...</td>\n",
       "      <td>...</td>\n",
       "      <td>...</td>\n",
       "      <td>...</td>\n",
       "      <td>...</td>\n",
       "      <td>...</td>\n",
       "      <td>...</td>\n",
       "      <td>...</td>\n",
       "      <td>...</td>\n",
       "      <td>...</td>\n",
       "      <td>...</td>\n",
       "      <td>...</td>\n",
       "      <td>...</td>\n",
       "    </tr>\n",
       "    <tr>\n",
       "      <th>28746</th>\n",
       "      <td>PMC7154305CAVP_36_2155385_2004</td>\n",
       "      <td>None</td>\n",
       "      <td>cord19</td>\n",
       "      <td>cord19-uic/PMC7154305/CAVP_36_215538/5_2/004.jpg</td>\n",
       "      <td>Figure 4. Western blot analysis of the amount ...</td>\n",
       "      <td>TRAIN</td>\n",
       "      <td>[0.34352347, 0.63927853, 0.8144694, 0.8321744,...</td>\n",
       "      <td>exp.gel</td>\n",
       "      <td>852</td>\n",
       "      <td>95</td>\n",
       "      <td>[0.9997183680534363, 0.00028156282496638596]</td>\n",
       "      <td>0.999437</td>\n",
       "      <td>0.002583</td>\n",
       "    </tr>\n",
       "    <tr>\n",
       "      <th>28748</th>\n",
       "      <td>PMC7153726main10_1001</td>\n",
       "      <td>None</td>\n",
       "      <td>cord19</td>\n",
       "      <td>cord19-uic/PMC7153726/main/10_1/001.jpg</td>\n",
       "      <td>Figure 5 Bronchiolitis obliterans (BOS) and ai...</td>\n",
       "      <td>TRAIN</td>\n",
       "      <td>[1.0273337, 2.872028, 0.01068689, 0.0, 0.0, 5....</td>\n",
       "      <td>exp.pla</td>\n",
       "      <td>2036</td>\n",
       "      <td>1303</td>\n",
       "      <td>[0.00022263296705204993, 0.9997773766517639]</td>\n",
       "      <td>0.999555</td>\n",
       "      <td>0.002095</td>\n",
       "    </tr>\n",
       "    <tr>\n",
       "      <th>28749</th>\n",
       "      <td>PMC7153726main10_1</td>\n",
       "      <td>None</td>\n",
       "      <td>cord19</td>\n",
       "      <td>cord19-uic/PMC7153726/main/10_1.jpg</td>\n",
       "      <td>Figure 5 Bronchiolitis obliterans (BOS) and ai...</td>\n",
       "      <td>TRAIN</td>\n",
       "      <td>[1.0274416, 2.8717542, 0.010641738, 0.0, 0.0, ...</td>\n",
       "      <td>exp.pla</td>\n",
       "      <td>2036</td>\n",
       "      <td>1303</td>\n",
       "      <td>[0.00022337204427458346, 0.9997766613960266]</td>\n",
       "      <td>0.999553</td>\n",
       "      <td>0.002101</td>\n",
       "    </tr>\n",
       "    <tr>\n",
       "      <th>28750</th>\n",
       "      <td>PMC7154514supplementaryfigsplit_mmc13_1005</td>\n",
       "      <td>None</td>\n",
       "      <td>cord19</td>\n",
       "      <td>cord19-uic/PMC7154514/supplementary/figsplit_m...</td>\n",
       "      <td></td>\n",
       "      <td>TRAIN</td>\n",
       "      <td>[1.0600636, 0.12502278, 0.35921696, 1.2463709,...</td>\n",
       "      <td>exp.gel</td>\n",
       "      <td>1654</td>\n",
       "      <td>32</td>\n",
       "      <td>[0.9999011754989624, 9.877476986730471e-05]</td>\n",
       "      <td>0.999802</td>\n",
       "      <td>0.001010</td>\n",
       "    </tr>\n",
       "    <tr>\n",
       "      <th>28752</th>\n",
       "      <td>PMC7154514supplementaryfigsplit_mmc37_1005</td>\n",
       "      <td>None</td>\n",
       "      <td>cord19</td>\n",
       "      <td>cord19-uic/PMC7154514/supplementary/figsplit_m...</td>\n",
       "      <td></td>\n",
       "      <td>TRAIN</td>\n",
       "      <td>[1.0600636, 0.12502278, 0.35921696, 1.2463709,...</td>\n",
       "      <td>exp.gel</td>\n",
       "      <td>1654</td>\n",
       "      <td>32</td>\n",
       "      <td>[0.9999011754989624, 9.877476986730471e-05]</td>\n",
       "      <td>0.999802</td>\n",
       "      <td>0.001010</td>\n",
       "    </tr>\n",
       "  </tbody>\n",
       "</table>\n",
       "<p>7547 rows × 13 columns</p>\n",
       "</div>"
      ],
      "text/plain": [
       "                                              img label  source  \\\n",
       "16326                      PMC1074749gni0647_1001  None  cord19   \n",
       "16327                      PMC1074749gni0647_1002  None  cord19   \n",
       "16331                         PMC1074749gni0647_1  None  cord19   \n",
       "16334                      PMC11705820023923_1003  None  cord19   \n",
       "16335                      PMC11705820023924_1003  None  cord19   \n",
       "...                                           ...   ...     ...   \n",
       "28746              PMC7154305CAVP_36_2155385_2004  None  cord19   \n",
       "28748                       PMC7153726main10_1001  None  cord19   \n",
       "28749                          PMC7153726main10_1  None  cord19   \n",
       "28750  PMC7154514supplementaryfigsplit_mmc13_1005  None  cord19   \n",
       "28752  PMC7154514supplementaryfigsplit_mmc37_1005  None  cord19   \n",
       "\n",
       "                                                img_path  \\\n",
       "16326           cord19-uic/PMC1074749/gni064/7_1/001.jpg   \n",
       "16327           cord19-uic/PMC1074749/gni064/7_1/002.jpg   \n",
       "16331               cord19-uic/PMC1074749/gni064/7_1.jpg   \n",
       "16334           cord19-uic/PMC1170582/002392/3_1/003.jpg   \n",
       "16335           cord19-uic/PMC1170582/002392/4_1/003.jpg   \n",
       "...                                                  ...   \n",
       "28746   cord19-uic/PMC7154305/CAVP_36_215538/5_2/004.jpg   \n",
       "28748            cord19-uic/PMC7153726/main/10_1/001.jpg   \n",
       "28749                cord19-uic/PMC7153726/main/10_1.jpg   \n",
       "28750  cord19-uic/PMC7154514/supplementary/figsplit_m...   \n",
       "28752  cord19-uic/PMC7154514/supplementary/figsplit_m...   \n",
       "\n",
       "                                                 caption split_set  \\\n",
       "16326  Figure 2. Autoradiogram of 32P-labelled double...     TRAIN   \n",
       "16327  Figure 2. Autoradiogram of 32P-labelled double...     TRAIN   \n",
       "16331  Figure 2. Autoradiogram of 32P-labelled double...     TRAIN   \n",
       "16334  Fig. 1. An in vitro system to study RNA recomb...     TRAIN   \n",
       "16335  Fig. 2. The motif1-hairpin facilitates 3Ð-TX....     TRAIN   \n",
       "...                                                  ...       ...   \n",
       "28746  Figure 4. Western blot analysis of the amount ...     TRAIN   \n",
       "28748  Figure 5 Bronchiolitis obliterans (BOS) and ai...     TRAIN   \n",
       "28749  Figure 5 Bronchiolitis obliterans (BOS) and ai...     TRAIN   \n",
       "28750                                                        TRAIN   \n",
       "28752                                                        TRAIN   \n",
       "\n",
       "                                                features prediction  width  \\\n",
       "16326  [0.11695894, 1.4279399, 0.19408609, 1.0856833,...    exp.gel   1015   \n",
       "16327  [0.08851135, 1.7101694, 0.40700686, 1.3455511,...    exp.gel   1026   \n",
       "16331  [0.19898227, 2.1635885, 0.37557727, 0.68559366...    exp.gel   2125   \n",
       "16334  [0.72941417, 1.0166347, 1.0784396, 1.9412333, ...    exp.gel    634   \n",
       "16335  [0.6043587, 0.7361291, 1.3665982, 1.9135891, 1...    exp.gel    433   \n",
       "...                                                  ...        ...    ...   \n",
       "28746  [0.34352347, 0.63927853, 0.8144694, 0.8321744,...    exp.gel    852   \n",
       "28748  [1.0273337, 2.872028, 0.01068689, 0.0, 0.0, 5....    exp.pla   2036   \n",
       "28749  [1.0274416, 2.8717542, 0.010641738, 0.0, 0.0, ...    exp.pla   2036   \n",
       "28750  [1.0600636, 0.12502278, 0.35921696, 1.2463709,...    exp.gel   1654   \n",
       "28752  [1.0600636, 0.12502278, 0.35921696, 1.2463709,...    exp.gel   1654   \n",
       "\n",
       "       height                                    pred_probs  ms_metric  \\\n",
       "16326    1167   [0.9998939037322998, 0.0001061404327629134]   0.999788   \n",
       "16327    1167   [0.9999943971633911, 5.564953880821122e-06]   0.999989   \n",
       "16331    1167  [0.9999864101409912, 1.3544691682909615e-05]   0.999973   \n",
       "16334     541  [0.9998990297317505, 0.00010101350926561281]   0.999798   \n",
       "16335     426  [0.9998519420623779, 0.00014799261407461017]   0.999704   \n",
       "...       ...                                           ...        ...   \n",
       "28746      95  [0.9997183680534363, 0.00028156282496638596]   0.999437   \n",
       "28748    1303  [0.00022263296705204993, 0.9997773766517639]   0.999555   \n",
       "28749    1303  [0.00022337204427458346, 0.9997766613960266]   0.999553   \n",
       "28750      32   [0.9999011754989624, 9.877476986730471e-05]   0.999802   \n",
       "28752      32   [0.9999011754989624, 9.877476986730471e-05]   0.999802   \n",
       "\n",
       "       en_metric  \n",
       "16326   0.001077  \n",
       "16327   0.000073  \n",
       "16331   0.000165  \n",
       "16334   0.001030  \n",
       "16335   0.001453  \n",
       "...          ...  \n",
       "28746   0.002583  \n",
       "28748   0.002095  \n",
       "28749   0.002101  \n",
       "28750   0.001010  \n",
       "28752   0.001010  \n",
       "\n",
       "[7547 rows x 13 columns]"
      ]
     },
     "execution_count": 10,
     "metadata": {},
     "output_type": "execute_result"
    }
   ],
   "source": [
    "df2[df2.label.isna()]"
   ]
  },
  {
   "cell_type": "code",
   "execution_count": null,
   "metadata": {},
   "outputs": [],
   "source": []
  }
 ],
 "metadata": {
  "kernelspec": {
   "display_name": ".venv",
   "language": "python",
   "name": "python3"
  },
  "language_info": {
   "codemirror_mode": {
    "name": "ipython",
    "version": 3
   },
   "file_extension": ".py",
   "mimetype": "text/x-python",
   "name": "python",
   "nbconvert_exporter": "python",
   "pygments_lexer": "ipython3",
   "version": "3.10.9"
  },
  "orig_nbformat": 4,
  "vscode": {
   "interpreter": {
    "hash": "29e56221297dcf76d1ff7e0087fc50901b5fe91198fb7405b22e2a39a8d782cd"
   }
  }
 },
 "nbformat": 4,
 "nbformat_minor": 2
}
